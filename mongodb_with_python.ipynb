{
 "cells": [
  {
   "attachments": {},
   "cell_type": "markdown",
   "metadata": {},
   "source": [
    "# MongoDB with python"
   ]
  },
  {
   "attachments": {},
   "cell_type": "markdown",
   "metadata": {},
   "source": [
    "# modules"
   ]
  },
  {
   "cell_type": "code",
   "execution_count": null,
   "metadata": {},
   "outputs": [],
   "source": [
    "import pymongo"
   ]
  },
  {
   "attachments": {},
   "cell_type": "markdown",
   "metadata": {},
   "source": [
    "# integrating python with mongodb"
   ]
  },
  {
   "cell_type": "code",
   "execution_count": null,
   "metadata": {},
   "outputs": [],
   "source": [
    "client = pymongo.MongoClient('mongodb://127.0.0.1:27017/')"
   ]
  },
  {
   "attachments": {},
   "cell_type": "markdown",
   "metadata": {},
   "source": [
    "# creating database"
   ]
  },
  {
   "cell_type": "code",
   "execution_count": null,
   "metadata": {},
   "outputs": [],
   "source": [
    "mydb = client['Employee']\n",
    "information=mydb.employeeinformation"
   ]
  },
  {
   "attachments": {},
   "cell_type": "markdown",
   "metadata": {},
   "source": [
    "# inserting the record"
   ]
  },
  {
   "cell_type": "code",
   "execution_count": 6,
   "metadata": {},
   "outputs": [
    {
     "data": {
      "text/plain": [
       "<pymongo.results.InsertManyResult at 0x19ab7dffe20>"
      ]
     },
     "execution_count": 6,
     "metadata": {},
     "output_type": "execute_result"
    }
   ],
   "source": [
    "\n",
    "\n",
    "record = [{\n",
    "    'firstname':'pankaj',\n",
    "    'course':'BTCS',\n",
    "    'age':22,\n",
    "    'status':'single'\n",
    "},\n",
    "{\n",
    "    'firstname':'ravi',\n",
    "    'course':'BTCS',\n",
    "    'age':21,\n",
    "    'status':'mingle but divorced'\n",
    "},\n",
    "{\n",
    "    'firstname':'amanuwell',\n",
    "    'course':'BTCS',\n",
    "    'age':22,\n",
    "    'status':'always single'\n",
    "},\n",
    "{\n",
    "    'firstname':'subash',\n",
    "    'course':'BTCS',\n",
    "    'age':20,\n",
    "    'status':'broken'\n",
    "}\n",
    "]\n",
    "\n",
    "information.insert_many(record)"
   ]
  },
  {
   "attachments": {},
   "cell_type": "markdown",
   "metadata": {},
   "source": [
    "# Reading the datas"
   ]
  },
  {
   "cell_type": "code",
   "execution_count": 9,
   "metadata": {},
   "outputs": [
    {
     "data": {
      "text/plain": [
       "{'_id': ObjectId('648e9c5bd3430fb113496f9b'),\n",
       " 'firstname': 'pankaj',\n",
       " 'course': 'BTCS',\n",
       " 'age': 22,\n",
       " 'status': 'single'}"
      ]
     },
     "execution_count": 9,
     "metadata": {},
     "output_type": "execute_result"
    }
   ],
   "source": [
    "# finding a single file which is at index 0\n",
    "information.find_one()"
   ]
  },
  {
   "cell_type": "code",
   "execution_count": 13,
   "metadata": {},
   "outputs": [
    {
     "name": "stdout",
     "output_type": "stream",
     "text": [
      "[{'firstname': 'pankaj', 'course': 'BTCS', 'age': 22, 'status': 'single', '_id': ObjectId('648e9c5bd3430fb113496f9b')}, {'firstname': 'ravi', 'course': 'BTCS', 'age': 21, 'status': 'mingle but divorced', '_id': ObjectId('648e9c5bd3430fb113496f9c')}, {'firstname': 'amanuwell', 'course': 'BTCS', 'age': 22, 'status': 'always single', '_id': ObjectId('648e9c5bd3430fb113496f9d')}, {'firstname': 'subash', 'course': 'BTCS', 'age': 20, 'status': 'broken', '_id': ObjectId('648e9c5bd3430fb113496f9e')}]\n",
      "[{'firstname': 'pankaj', 'course': 'BTCS', 'age': 22, 'status': 'single', '_id': ObjectId('648e9c5bd3430fb113496f9b')}, {'firstname': 'ravi', 'course': 'BTCS', 'age': 21, 'status': 'mingle but divorced', '_id': ObjectId('648e9c5bd3430fb113496f9c')}, {'firstname': 'amanuwell', 'course': 'BTCS', 'age': 22, 'status': 'always single', '_id': ObjectId('648e9c5bd3430fb113496f9d')}, {'firstname': 'subash', 'course': 'BTCS', 'age': 20, 'status': 'broken', '_id': ObjectId('648e9c5bd3430fb113496f9e')}]\n",
      "[{'firstname': 'pankaj', 'course': 'BTCS', 'age': 22, 'status': 'single', '_id': ObjectId('648e9c5bd3430fb113496f9b')}, {'firstname': 'ravi', 'course': 'BTCS', 'age': 21, 'status': 'mingle but divorced', '_id': ObjectId('648e9c5bd3430fb113496f9c')}, {'firstname': 'amanuwell', 'course': 'BTCS', 'age': 22, 'status': 'always single', '_id': ObjectId('648e9c5bd3430fb113496f9d')}, {'firstname': 'subash', 'course': 'BTCS', 'age': 20, 'status': 'broken', '_id': ObjectId('648e9c5bd3430fb113496f9e')}]\n",
      "[{'firstname': 'pankaj', 'course': 'BTCS', 'age': 22, 'status': 'single', '_id': ObjectId('648e9c5bd3430fb113496f9b')}, {'firstname': 'ravi', 'course': 'BTCS', 'age': 21, 'status': 'mingle but divorced', '_id': ObjectId('648e9c5bd3430fb113496f9c')}, {'firstname': 'amanuwell', 'course': 'BTCS', 'age': 22, 'status': 'always single', '_id': ObjectId('648e9c5bd3430fb113496f9d')}, {'firstname': 'subash', 'course': 'BTCS', 'age': 20, 'status': 'broken', '_id': ObjectId('648e9c5bd3430fb113496f9e')}]\n"
     ]
    }
   ],
   "source": [
    "# selecting the whole record  -- similar like Select * from database\n",
    "\n",
    "for reord in information.find():\n",
    "    print(record)"
   ]
  },
  {
   "cell_type": "code",
   "execution_count": 14,
   "metadata": {},
   "outputs": [
    {
     "name": "stdout",
     "output_type": "stream",
     "text": [
      "{'_id': ObjectId('648e9c5bd3430fb113496f9c'), 'firstname': 'ravi', 'course': 'BTCS', 'age': 21, 'status': 'mingle but divorced'}\n"
     ]
    }
   ],
   "source": [
    "# reading the record which satisfies the condition just like -- Select * from database where condition=value     or row=data\n",
    "for record in information.find({'firstname':'ravi'}):\n",
    "    print(record)"
   ]
  },
  {
   "attachments": {},
   "cell_type": "markdown",
   "metadata": {},
   "source": [
    "# Querying doucments using operator ($in,$lt,$gt)\n"
   ]
  },
  {
   "cell_type": "code",
   "execution_count": 19,
   "metadata": {},
   "outputs": [],
   "source": [
    "# $in -- means OR operation if either the value will match, it reads the data\n",
    "\n",
    "for record in information.find({'age': {'$in': ['22', '20']}}):\n",
    "    print(record)\n",
    "\n"
   ]
  },
  {
   "cell_type": "code",
   "execution_count": 20,
   "metadata": {},
   "outputs": [
    {
     "name": "stdout",
     "output_type": "stream",
     "text": [
      "{'_id': ObjectId('648e9c5bd3430fb113496f9e'), 'firstname': 'subash', 'course': 'BTCS', 'age': 20, 'status': 'broken'}\n",
      "{'_id': ObjectId('648ea4c66af123e7a6e2ad24'), 'firstname': 'subash', 'course': 'BTCS', 'age': 20, 'status': 'broken'}\n",
      "{'_id': ObjectId('648ea5076283eb8d30c4666e'), 'firstname': 'subash', 'course': 'BTCS', 'age': 20, 'status': 'broken'}\n"
     ]
    }
   ],
   "source": [
    "#AND operation\n",
    "for record in information.find({'course':'BTCS','age':{'$lt':21}}):\n",
    "    print(record)"
   ]
  },
  {
   "cell_type": "code",
   "execution_count": 22,
   "metadata": {},
   "outputs": [
    {
     "name": "stdout",
     "output_type": "stream",
     "text": [
      "{'_id': ObjectId('648e9c5bd3430fb113496f9b'), 'firstname': 'pankaj', 'course': 'BTCS', 'age': 22, 'status': 'single'}\n",
      "{'_id': ObjectId('648e9c5bd3430fb113496f9c'), 'firstname': 'ravi', 'course': 'BTCS', 'age': 21, 'status': 'mingle but divorced'}\n",
      "{'_id': ObjectId('648ea4c66af123e7a6e2ad21'), 'firstname': 'pankaj', 'course': 'BTCS', 'age': 22, 'status': 'single'}\n",
      "{'_id': ObjectId('648ea4c66af123e7a6e2ad22'), 'firstname': 'ravi', 'course': 'BTCS', 'age': 21, 'status': 'mingle but divorced'}\n",
      "{'_id': ObjectId('648ea5076283eb8d30c4666b'), 'firstname': 'pankaj', 'course': 'BTCS', 'age': 22, 'status': 'single'}\n",
      "{'_id': ObjectId('648ea5076283eb8d30c4666c'), 'firstname': 'ravi', 'course': 'BTCS', 'age': 21, 'status': 'mingle but divorced'}\n"
     ]
    }
   ],
   "source": [
    "# OR operation\n",
    "for record in information.find({'$or':[{'firstname':'pankaj'},{'age':21}]}):\n",
    "    print(record)\n"
   ]
  },
  {
   "cell_type": "code",
   "execution_count": 23,
   "metadata": {},
   "outputs": [
    {
     "name": "stdout",
     "output_type": "stream",
     "text": [
      "{'_id': ObjectId('648e9c5bd3430fb113496f9b'), 'firstname': 'pankaj', 'course': 'BTCS', 'age': 22, 'status': 'single'}\n",
      "{'_id': ObjectId('648ea4c66af123e7a6e2ad21'), 'firstname': 'pankaj', 'course': 'BTCS', 'age': 22, 'status': 'single'}\n",
      "{'_id': ObjectId('648ea5076283eb8d30c4666b'), 'firstname': 'pankaj', 'course': 'BTCS', 'age': 22, 'status': 'single'}\n"
     ]
    }
   ],
   "source": [
    "# AND operation\n",
    "for record in information.find({'$and':[{'firstname':'pankaj'},{'age':22}]}):\n",
    "    print(record)\n"
   ]
  },
  {
   "attachments": {},
   "cell_type": "markdown",
   "metadata": {},
   "source": [
    "# New collection\n"
   ]
  },
  {
   "attachments": {},
   "cell_type": "markdown",
   "metadata": {},
   "source": [
    "# createing a new collection"
   ]
  },
  {
   "cell_type": "code",
   "execution_count": 24,
   "metadata": {},
   "outputs": [],
   "source": [
    "inventory=mydb.inventory"
   ]
  },
  {
   "cell_type": "code",
   "execution_count": 26,
   "metadata": {},
   "outputs": [],
   "source": [
    "inventory.insert_many([\n",
    "{'book':'physics','quantity':25,'author':'pankaj'},\n",
    "{'book':'chemistry','quantity':50,'author':'ravi'},\n",
    "{'book':'maths','quantity':75,'author':'pankaj'},\n",
    "{'book':'english','quantity':55,'author':'amanuwell'},\n",
    "{'book':'socials','quantity':35,'author':'subash'}\n",
    "]);"
   ]
  },
  {
   "attachments": {},
   "cell_type": "markdown",
   "metadata": {},
   "source": [
    "# find operation with nested value"
   ]
  },
  {
   "cell_type": "code",
   "execution_count": 3,
   "metadata": {},
   "outputs": [
    {
     "data": {
      "text/plain": [
       "<pymongo.results.InsertManyResult at 0x175bbe5b910>"
      ]
     },
     "execution_count": 3,
     "metadata": {},
     "output_type": "execute_result"
    }
   ],
   "source": [
    "import pymongo\n",
    "client = pymongo.MongoClient('mongodb://127.0.0.1:27017/')\n",
    "mydb = client['Employee']\n",
    "mydb.inventory.insert_many([\n",
    "    {\n",
    "        \"item\":\"journal\",\n",
    "        \"qty\":50,\n",
    "        \"tags\":[\"blank\",\"red\"],\n",
    "        \"size\":{\"h\":15,\"w\":18,\"uom\":\"cm\"}\n",
    "    },\n",
    "    {\n",
    "        \"item\":\"cap\",\n",
    "        \"qty\":55,\n",
    "        \"tags\":[\"blank\",\"gold\"],\n",
    "        \"size\":{\"h\":10,\"w\":11,\"uom\":\"cm\"}\n",
    "    },\n",
    "    {\n",
    "        \"item\":\"bedsheet\",\n",
    "        \"qty\":85,\n",
    "        \"tags\":[\"blue\"],\n",
    "        \"size\":{\"h\":15,\"w\":15,\"uom\":\"cm\"}\n",
    "    }\n",
    "])"
   ]
  },
  {
   "cell_type": "code",
   "execution_count": 4,
   "metadata": {},
   "outputs": [
    {
     "data": {
      "text/plain": [
       "{'_id': ObjectId('648ea9aed3430fb113496fa3'),\n",
       " 'book': 'physics',\n",
       " 'quantity': 25,\n",
       " 'author': 'pankaj'}"
      ]
     },
     "execution_count": 4,
     "metadata": {},
     "output_type": "execute_result"
    }
   ],
   "source": [
    "# reading\n",
    "mydb.inventory.find_one()"
   ]
  },
  {
   "cell_type": "code",
   "execution_count": 6,
   "metadata": {},
   "outputs": [
    {
     "name": "stdout",
     "output_type": "stream",
     "text": [
      "_id\n",
      "book\n",
      "quantity\n",
      "author\n"
     ]
    }
   ],
   "source": [
    "for i in mydb.inventory.find_one({}):\n",
    "    print(i)\n"
   ]
  },
  {
   "cell_type": "code",
   "execution_count": 10,
   "metadata": {},
   "outputs": [
    {
     "name": "stdout",
     "output_type": "stream",
     "text": [
      "{'_id': ObjectId('648ea9aed3430fb113496fa3'), 'book': 'physics', 'quantity': 25, 'author': 'pankaj'}\n",
      "{'_id': ObjectId('648ea9aed3430fb113496fa4'), 'book': 'chemistry', 'quantity': 50, 'author': 'ravi'}\n",
      "{'_id': ObjectId('648ea9aed3430fb113496fa5'), 'book': 'maths', 'quantity': 75, 'author': 'pankaj'}\n",
      "{'_id': ObjectId('648ea9aed3430fb113496fa6'), 'book': 'english', 'quantity': 55, 'author': 'amanuwell'}\n",
      "{'_id': ObjectId('648ea9aed3430fb113496fa7'), 'book': 'socials', 'quantity': 35, 'author': 'subash'}\n",
      "{'_id': ObjectId('648efaab4f84b7e836557470'), 'item': 'journal', 'qty': 50, 'tags': ['blank', 'red'], 'size': {'h': 15, 'w': 18, 'uom': 'cm'}}\n",
      "{'_id': ObjectId('648efaab4f84b7e836557471'), 'item': 'cap', 'qty': 55, 'tags': ['blank', 'gold'], 'size': {'h': 10, 'w': 11, 'uom': 'cm'}}\n",
      "{'_id': ObjectId('648efaab4f84b7e836557472'), 'item': 'bedsheet', 'qty': 85, 'tags': ['blue'], 'size': {'h': 15, 'w': 15, 'uom': 'cm'}}\n"
     ]
    }
   ],
   "source": [
    "for i in mydb.inventory.find({}):\n",
    "    print(i)"
   ]
  },
  {
   "cell_type": "code",
   "execution_count": 15,
   "metadata": {},
   "outputs": [
    {
     "data": {
      "text/plain": [
       "<pymongo.results.InsertManyResult at 0x175bb1cb850>"
      ]
     },
     "execution_count": 15,
     "metadata": {},
     "output_type": "execute_result"
    }
   ],
   "source": [
    "mydb.inventory.insert_many(\n",
    "    [\n",
    "        {\n",
    "            \"item\": \"journal\",\n",
    "            \"qty\": 25,\n",
    "            \"size\": {\"h\": 14, \"w\": 21, \"uom\": \"cm\"},\n",
    "            \"status\": \"A\",\n",
    "        },\n",
    "        {\n",
    "            \"item\": \"notebook\",\n",
    "            \"qty\": 50,\n",
    "            \"size\": {\"h\": 8.5, \"w\": 11, \"uom\": \"in\"},\n",
    "            \"status\": \"A\",\n",
    "        },\n",
    "        {\n",
    "            \"item\": \"paper\",\n",
    "            \"qty\": 100,\n",
    "            \"size\": {\"h\": 8.5, \"w\": 11, \"uom\": \"in\"},\n",
    "            \"status\": \"D\",\n",
    "        },\n",
    "        {\n",
    "            \"item\": \"planner\",\n",
    "            \"qty\": 75,\n",
    "            \"size\": {\"h\": 22.85, \"w\": 30, \"uom\": \"cm\"},\n",
    "            \"status\": \"D\",\n",
    "        },\n",
    "        {\n",
    "            \"item\": \"postcard\",\n",
    "            \"qty\": 45,\n",
    "            \"size\": {\"h\": 10, \"w\": 15.25, \"uom\": \"cm\"},\n",
    "            \"status\": \"A\",\n",
    "        },\n",
    "    ]\n",
    ")"
   ]
  },
  {
   "attachments": {},
   "cell_type": "markdown",
   "metadata": {},
   "source": [
    "# Specify AND Conditions\n",
    "A compound query can specify conditions for more than one field in the collection's documents. Implicitly, a logical AND conjunction connects the clauses of a compound query so that the query selects the documents in the collection that match all the conditions.\n",
    "\n",
    "The following example retrieves all documents in the inventory collection where the status equals \"A\" and qty is less than ($lt) 30:"
   ]
  },
  {
   "cell_type": "code",
   "execution_count": 16,
   "metadata": {},
   "outputs": [
    {
     "name": "stdout",
     "output_type": "stream",
     "text": [
      "{'_id': ObjectId('648f364f4f84b7e836557473'), 'item': 'journal', 'qty': 25, 'size': {'h': 14, 'w': 21, 'uom': 'cm'}, 'status': 'A'}\n",
      "{'_id': ObjectId('648f364f4f84b7e836557477'), 'item': 'postcard', 'qty': 45, 'size': {'h': 10, 'w': 15.25, 'uom': 'cm'}, 'status': 'A'}\n"
     ]
    }
   ],
   "source": [
    "for i in mydb.inventory.find({\"status\":\"A\",\"qty\":{\"$lt\":50}}):\n",
    "    print(i)"
   ]
  },
  {
   "attachments": {},
   "cell_type": "markdown",
   "metadata": {},
   "source": [
    "# OR \n",
    "Specify OR Conditions\n",
    "Using the $or operator, you can specify a compound query that joins each clause with a logical OR conjunction so that the query selects the documents in the collection that match at least one condition."
   ]
  },
  {
   "cell_type": "code",
   "execution_count": 20,
   "metadata": {},
   "outputs": [
    {
     "name": "stdout",
     "output_type": "stream",
     "text": [
      "{'_id': ObjectId('648efaab4f84b7e836557470'), 'item': 'journal', 'qty': 50, 'tags': ['blank', 'red'], 'size': {'h': 15, 'w': 18, 'uom': 'cm'}}\n",
      "{'_id': ObjectId('648f364f4f84b7e836557473'), 'item': 'journal', 'qty': 25, 'size': {'h': 14, 'w': 21, 'uom': 'cm'}, 'status': 'A'}\n",
      "{'_id': ObjectId('648f364f4f84b7e836557474'), 'item': 'notebook', 'qty': 50, 'size': {'h': 8.5, 'w': 11, 'uom': 'in'}, 'status': 'A'}\n",
      "{'_id': ObjectId('648f364f4f84b7e836557477'), 'item': 'postcard', 'qty': 45, 'size': {'h': 10, 'w': 15.25, 'uom': 'cm'}, 'status': 'A'}\n"
     ]
    }
   ],
   "source": [
    "for i in mydb.inventory.find({\"$or\": [{\"status\": \"A\"}, {\"qty\": {\"$lt\": 55}}]}):\n",
    "    print(i)\n"
   ]
  },
  {
   "attachments": {},
   "cell_type": "markdown",
   "metadata": {},
   "source": [
    "which corresponds to the following SQL statement:\n",
    "\n",
    "SELECT * FROM inventory WHERE status = \"A\" AND ( qty < 30 OR item LIKE \"p%\")"
   ]
  },
  {
   "cell_type": "code",
   "execution_count": 22,
   "metadata": {},
   "outputs": [
    {
     "name": "stdout",
     "output_type": "stream",
     "text": [
      "{'_id': ObjectId('648f364f4f84b7e836557473'), 'item': 'journal', 'qty': 25, 'size': {'h': 14, 'w': 21, 'uom': 'cm'}, 'status': 'A'}\n",
      "{'_id': ObjectId('648f364f4f84b7e836557474'), 'item': 'notebook', 'qty': 50, 'size': {'h': 8.5, 'w': 11, 'uom': 'in'}, 'status': 'A'}\n",
      "{'_id': ObjectId('648f364f4f84b7e836557477'), 'item': 'postcard', 'qty': 45, 'size': {'h': 10, 'w': 15.25, 'uom': 'cm'}, 'status': 'A'}\n"
     ]
    }
   ],
   "source": [
    "for i in mydb.inventory.find({\"status\": \"A\", \"$or\": [{\"qty\": {\"$lt\": 55}}, {\"item\": {\"$regex\": \"^p\"}}]}):\n",
    "    print(i)\n"
   ]
  },
  {
   "cell_type": "code",
   "execution_count": 27,
   "metadata": {},
   "outputs": [],
   "source": [
    "import pymongo\n",
    "client = pymongo.MongoClient('mongodb://127.0.0.1:27017/')\n",
    "mydb = client['Employee']\n",
    "mydb.students.insert_many([\n",
    "{ \"id\":32,\"physics\":68,\"chemistry\":55,\"maths\":38},\n",
    "\n",
    "{ \"id\":33,\"physics\":66,\"chemistry\":45,\"maths\":48},\n",
    "\n",
    "{ \"id\":34,\"physics\":48,\"chemistry\":45,\"maths\":38},\n",
    "\n",
    "{ \"id\":34,\"physics\":55,\"chemistry\":60,\"maths\":42}\n",
    "]);"
   ]
  },
  {
   "cell_type": "code",
   "execution_count": 28,
   "metadata": {},
   "outputs": [],
   "source": [
    "import pymongo\n",
    "client = pymongo.MongoClient('mongodb://127.0.0.1:27017/')\n",
    "mydb = client['Employee']\n",
    "mydb.students.insert_many([\n",
    "    {\"id\":32,\"physics\":73},\n",
    "    {\"id\":33,\"physics\":65}\n",
    "]);"
   ]
  },
  {
   "cell_type": "code",
   "execution_count": null,
   "metadata": {},
   "outputs": [],
   "source": [
    "mydb.students2.updateMany( {},\n",
    "  [\n",
    "    { $replaceRoot: { newRoot:\n",
    "       { $mergeObjects: [ { quiz1: 0, quiz2: 0, test1: 0, test2: 0 }, \"$$ROOT\" ] }\n",
    "    } },\n",
    "    { $set: { modified: \"$$NOW\"}  }\n",
    "  ]\n",
    ")"
   ]
  }
 ],
 "metadata": {
  "kernelspec": {
   "display_name": "Python 3",
   "language": "python",
   "name": "python3"
  },
  "language_info": {
   "codemirror_mode": {
    "name": "ipython",
    "version": 3
   },
   "file_extension": ".py",
   "mimetype": "text/x-python",
   "name": "python",
   "nbconvert_exporter": "python",
   "pygments_lexer": "ipython3",
   "version": "3.11.2"
  },
  "orig_nbformat": 4
 },
 "nbformat": 4,
 "nbformat_minor": 2
}
