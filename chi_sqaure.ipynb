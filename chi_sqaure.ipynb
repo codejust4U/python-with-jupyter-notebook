{
 "cells": [
  {
   "cell_type": "code",
   "execution_count": 15,
   "metadata": {},
   "outputs": [
    {
     "data": {
      "text/plain": [
       "'\\ntry:\\n    for i in range(len(data1)):\\n        chi = ((data1[i]-20)**2)/20\\n        sum = sum + chi\\n        print(f\"Individual sum and Previous sum for iteration {i+1}: \",sum)\\n    print(\"Toal sum : \",sum)\\n\\nexcept:\\n    print(\"Error occured\")'"
      ]
     },
     "execution_count": 15,
     "metadata": {},
     "output_type": "execute_result"
    }
   ],
   "source": [
    "\"\"\"chi = []\n",
    "sum = 0\n",
    "for i in range(len(data1)):\n",
    "    chi = ((data1[i]-20)**2)/20\n",
    "    sum=sum+chi\n",
    "    print(f\"Individual sum and Previous sum for iteration {i+1}: \",sum)\n",
    "\n",
    "print(\"\\n\\nTotal sum:\",sum)\"\"\"\n",
    "import pandas as pd\n",
    "\n",
    "data1 = pd.read_csv(r'D:\\excel_datas\\day8\\datas.csv')\n",
    "data1\n",
    "\"\"\"sum1 = 0\n",
    "\n",
    "for i in range(len(data1)):\n",
    "    chi = ((data1.iloc[i]-20)**2)/20\n",
    "    sum1 += chi\n",
    "    print(f\"\\nIndividual sum and previous sum for iteration {i+1}: {sum1}\")\n",
    "    \n",
    "print(\"Total sum: \", sum1)\n",
    "\n",
    "\"\"\"\n",
    "\"\"\"\n",
    "try:\n",
    "    for i in range(len(data1)):\n",
    "        chi = ((data1[i]-20)**2)/20\n",
    "        sum = sum + chi\n",
    "        print(f\"Individual sum and Previous sum for iteration {i+1}: \",sum)\n",
    "    print(\"Toal sum : \",sum)\n",
    "\n",
    "except:\n",
    "    print(\"Error occured\")\"\"\""
   ]
  }
 ],
 "metadata": {
  "kernelspec": {
   "display_name": "Python 3",
   "language": "python",
   "name": "python3"
  },
  "language_info": {
   "codemirror_mode": {
    "name": "ipython",
    "version": 3
   },
   "file_extension": ".py",
   "mimetype": "text/x-python",
   "name": "python",
   "nbconvert_exporter": "python",
   "pygments_lexer": "ipython3",
   "version": "3.11.2"
  },
  "orig_nbformat": 4
 },
 "nbformat": 4,
 "nbformat_minor": 2
}
