{
 "cells": [
  {
   "cell_type": "markdown",
   "metadata": {},
   "source": [
    "### Queue implementation"
   ]
  },
  {
   "cell_type": "code",
   "execution_count": 1,
   "metadata": {},
   "outputs": [],
   "source": [
    "class Node:\n",
    "    def __init__(self,value):\n",
    "        self.data =  value\n",
    "        self.next = None"
   ]
  },
  {
   "cell_type": "code",
   "execution_count": 2,
   "metadata": {},
   "outputs": [],
   "source": [
    "class Queue:\n",
    "    def __init__(self):\n",
    "        self.front = None\n",
    "        self.rear = None\n",
    "\n",
    "    def enqueue(self,value):\n",
    "        new_node = Node(value)\n",
    "        if self.rear == None:\n",
    "            self.front=new_node\n",
    "            self.rear=self.front\n",
    "        else:\n",
    "            self.rear.next = new_node\n",
    "            self.rear =  new_node\n",
    "\n",
    "    def dequeue(self):\n",
    "        if self.front == None:\n",
    "            return 'Empty'\n",
    "        else:\n",
    "            self.front = self.front.next\n",
    "\n",
    "    def traverse(self):\n",
    "        temp = self.front\n",
    "        while temp!=None:\n",
    "            print (temp.data)\n",
    "            temp = temp.next\n",
    "\n",
    "    def is_empty(self):\n",
    "        return self.front == None\n",
    "\n",
    "    def size(self):\n",
    "        count =0\n",
    "        temp=self.front\n",
    "        while temp!=None:\n",
    "            count+=1\n",
    "            temp=temp.next\n",
    "        return count\n",
    "    \n",
    "    def front_item(self):\n",
    "        if self.front==None:\n",
    "            return 'Empty'\n",
    "        else:\n",
    "            return self.front.data\n",
    "        \n",
    "    def rear_item(self):\n",
    "        if self.front==None:\n",
    "            return 'Empty'\n",
    "        else:\n",
    "            return self.rear.data"
   ]
  },
  {
   "cell_type": "code",
   "execution_count": 3,
   "metadata": {},
   "outputs": [],
   "source": [
    "q = Queue()\n"
   ]
  },
  {
   "cell_type": "code",
   "execution_count": 4,
   "metadata": {},
   "outputs": [],
   "source": [
    "q.enqueue(4)\n",
    "q.enqueue(5)\n",
    "q.enqueue(7)"
   ]
  },
  {
   "cell_type": "code",
   "execution_count": 5,
   "metadata": {},
   "outputs": [
    {
     "name": "stdout",
     "output_type": "stream",
     "text": [
      "4\n",
      "5\n",
      "7\n"
     ]
    }
   ],
   "source": [
    "q.traverse()"
   ]
  },
  {
   "cell_type": "code",
   "execution_count": 6,
   "metadata": {},
   "outputs": [],
   "source": [
    "q.dequeue()"
   ]
  },
  {
   "cell_type": "code",
   "execution_count": 7,
   "metadata": {},
   "outputs": [
    {
     "data": {
      "text/plain": [
       "False"
      ]
     },
     "execution_count": 7,
     "metadata": {},
     "output_type": "execute_result"
    }
   ],
   "source": [
    "q.is_empty()"
   ]
  },
  {
   "cell_type": "code",
   "execution_count": 8,
   "metadata": {},
   "outputs": [
    {
     "data": {
      "text/plain": [
       "5"
      ]
     },
     "execution_count": 8,
     "metadata": {},
     "output_type": "execute_result"
    }
   ],
   "source": [
    "q.front_item()"
   ]
  },
  {
   "cell_type": "code",
   "execution_count": 9,
   "metadata": {},
   "outputs": [
    {
     "data": {
      "text/plain": [
       "7"
      ]
     },
     "execution_count": 9,
     "metadata": {},
     "output_type": "execute_result"
    }
   ],
   "source": [
    "q.rear_item()"
   ]
  },
  {
   "cell_type": "markdown",
   "metadata": {},
   "source": [
    "### Interview questions\n",
    "\n",
    "- With the use of two stack, show the behaviour of Queue"
   ]
  }
 ],
 "metadata": {
  "kernelspec": {
   "display_name": "Python 3",
   "language": "python",
   "name": "python3"
  },
  "language_info": {
   "codemirror_mode": {
    "name": "ipython",
    "version": 3
   },
   "file_extension": ".py",
   "mimetype": "text/x-python",
   "name": "python",
   "nbconvert_exporter": "python",
   "pygments_lexer": "ipython3",
   "version": "3.11.2"
  },
  "orig_nbformat": 4
 },
 "nbformat": 4,
 "nbformat_minor": 2
}
