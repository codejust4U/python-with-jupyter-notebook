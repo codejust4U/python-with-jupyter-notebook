{
 "cells": [
  {
   "cell_type": "markdown",
   "metadata": {},
   "source": [
    "# Combobox in Tkinter"
   ]
  },
  {
   "cell_type": "code",
   "execution_count": 9,
   "metadata": {},
   "outputs": [],
   "source": [
    "#importing the modules\n",
    "\n",
    "from tkinter import *\n",
    "from tkinter import ttk"
   ]
  },
  {
   "cell_type": "code",
   "execution_count": 27,
   "metadata": {},
   "outputs": [],
   "source": [
    "root = Tk()\n",
    "\n",
    "lbl1 = Label(root,text=\"Combobox\",font=('Castellar',35,'bold'),foreground='red')\n",
    "lbl1.pack(pady=20)\n",
    "\n",
    "lbl2 = Label(root,text='Choose your subject',font=('times new roman',20))\n",
    "lbl2.pack()\n",
    "\n",
    "combo_box1 = ttk.Combobox(root,font=('times new roman',15),width=30)\n",
    "combo_box1['values'] = ('Web Technology',\n",
    "                        'Software engineering',\n",
    "                        'Computer networks',\n",
    "                        'Object Oriented Programming',\n",
    "                        'Big Data')\n",
    "combo_box1.set('Web Technology')\n",
    "combo_box1.pack()\n",
    "\n",
    "def get_subject():\n",
    "    selected_subject = combo_box1.get()\n",
    "    lbl3 = Label(root,text=\"You choosed \"+selected_subject,font=('times new roman',15))\n",
    "    lbl3.pack()\n",
    "\n",
    "\n",
    "btn1 = Button(root,text=\"Get your subject\",font=('times new roman',15),command=get_subject)\n",
    "btn1.pack(pady=10)\n",
    "\n",
    "root.mainloop()"
   ]
  }
 ],
 "metadata": {
  "kernelspec": {
   "display_name": "Python 3",
   "language": "python",
   "name": "python3"
  },
  "language_info": {
   "codemirror_mode": {
    "name": "ipython",
    "version": 3
   },
   "file_extension": ".py",
   "mimetype": "text/x-python",
   "name": "python",
   "nbconvert_exporter": "python",
   "pygments_lexer": "ipython3",
   "version": "3.11.2"
  }
 },
 "nbformat": 4,
 "nbformat_minor": 2
}
