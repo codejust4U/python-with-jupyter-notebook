{
 "cells": [
  {
   "cell_type": "markdown",
   "metadata": {},
   "source": [
    "# Polymorphism\n",
    "\n",
    "1. Method overriding\n",
    "2. MEthod overloading\n",
    "3. Operator overloading"
   ]
  },
  {
   "cell_type": "code",
   "execution_count": 5,
   "metadata": {},
   "outputs": [
    {
     "ename": "TypeError",
     "evalue": "Geometry.area() missing 1 required positional argument: 'b'",
     "output_type": "error",
     "traceback": [
      "\u001b[1;31m---------------------------------------------------------------------------\u001b[0m",
      "\u001b[1;31mTypeError\u001b[0m                                 Traceback (most recent call last)",
      "Cell \u001b[1;32mIn[5], line 11\u001b[0m\n\u001b[0;32m      6\u001b[0m         \u001b[39mreturn\u001b[39;00m l\u001b[39m*\u001b[39mb\n\u001b[0;32m     10\u001b[0m ob \u001b[39m=\u001b[39m Geometry()\n\u001b[1;32m---> 11\u001b[0m \u001b[39mprint\u001b[39m(ob\u001b[39m.\u001b[39;49marea(\u001b[39m4\u001b[39;49m))\n\u001b[0;32m     14\u001b[0m \u001b[39m# in python, we cant do method overloading\u001b[39;00m\n",
      "\u001b[1;31mTypeError\u001b[0m: Geometry.area() missing 1 required positional argument: 'b'"
     ]
    }
   ],
   "source": [
    "\n",
    "class Geometry:\n",
    "    def area(self,r):\n",
    "        return 3.14*r*r\n",
    "    \n",
    "    def area(self,l,b):\n",
    "        return l*b\n",
    "    \n",
    "\n",
    "\n",
    "ob = Geometry()\n",
    "print(ob.area(4))\n",
    "\n",
    "\n",
    "# in python, we cant do method overloading"
   ]
  },
  {
   "cell_type": "markdown",
   "metadata": {},
   "source": [
    "but we can acheive method overloading by doing some changes"
   ]
  },
  {
   "cell_type": "code",
   "execution_count": 6,
   "metadata": {},
   "outputs": [
    {
     "name": "stdout",
     "output_type": "stream",
     "text": [
      "Cricle :  50.24\n",
      "Rectangle: 20\n"
     ]
    }
   ],
   "source": [
    "class Geometry:\n",
    "    def area(self,a,b=0):\n",
    "        if  b==0:\n",
    "            print(\"Cricle : \",3.14*a*a)\n",
    "        else:\n",
    "            print(\"Rectangle:\", a * b )\n",
    "\n",
    "    \n",
    "\n",
    "\n",
    "ob = Geometry()\n",
    "ob.area(4)\n",
    "ob.area(4,5)\n"
   ]
  },
  {
   "cell_type": "markdown",
   "metadata": {},
   "source": [
    "### operator overloading\n",
    "\n",
    "changing the behaviour of operator rather than its usual "
   ]
  },
  {
   "cell_type": "code",
   "execution_count": 7,
   "metadata": {},
   "outputs": [],
   "source": [
    "# + usually adds the number but if we want to concatenate then we also prefer + so its operator overloading"
   ]
  }
 ],
 "metadata": {
  "kernelspec": {
   "display_name": "Python 3",
   "language": "python",
   "name": "python3"
  },
  "language_info": {
   "codemirror_mode": {
    "name": "ipython",
    "version": 3
   },
   "file_extension": ".py",
   "mimetype": "text/x-python",
   "name": "python",
   "nbconvert_exporter": "python",
   "pygments_lexer": "ipython3",
   "version": "3.11.2"
  },
  "orig_nbformat": 4
 },
 "nbformat": 4,
 "nbformat_minor": 2
}
