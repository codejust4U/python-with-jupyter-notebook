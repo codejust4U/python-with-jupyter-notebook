{
 "cells": [
  {
   "cell_type": "markdown",
   "metadata": {},
   "source": [
    "# Ckeck buttons in tkinter"
   ]
  },
  {
   "cell_type": "code",
   "execution_count": 1,
   "metadata": {},
   "outputs": [],
   "source": [
    "from tkinter import *\n",
    "root = Tk()\n",
    "\n",
    "lbl1 = Label(root, text=\"Choose your optional subjects\", foreground=\"yellow\", background=\"black\", font=(\"Algerian\", 35))\n",
    "lbl1.place(x=200, y=50)\n",
    "\n",
    "def confirm():\n",
    "    opt_subs = [var.get() for var in check_vars]\n",
    "    subjects = \", \".join(opt_subs)\n",
    "    lbl2 = Label(root, text=\"Your optional subjects are: \" + subjects, font=('Georgia', 30))\n",
    "    lbl2.place(x=100, y=650)\n",
    "\n",
    "check_vars = []\n",
    "\n",
    "def create_checkbox(text, y_pos):\n",
    "    var = StringVar()\n",
    "    check_var = Checkbutton(root, text=text, variable=var, font=(\"Algerian\", 25))\n",
    "    check_var.place(x=150, y=y_pos)\n",
    "    var.set(\"Off\")\n",
    "    check_vars.append(var)\n",
    "\n",
    "create_checkbox(\"C\", 150)\n",
    "create_checkbox(\"C++\", 200)\n",
    "create_checkbox(\"Java\", 250)\n",
    "create_checkbox(\".Net\", 300)\n",
    "create_checkbox(\"JS\", 350)\n",
    "create_checkbox(\"Python\", 400)\n",
    "\n",
    "btn1 = Button(root, text=\"Confirm\", command=confirm, font=('Georgia', 30))\n",
    "btn1.place(x=200, y=500)\n",
    "\n",
    "root.mainloop()"
   ]
  }
 ],
 "metadata": {
  "kernelspec": {
   "display_name": "Python 3",
   "language": "python",
   "name": "python3"
  },
  "language_info": {
   "codemirror_mode": {
    "name": "ipython",
    "version": 3
   },
   "file_extension": ".py",
   "mimetype": "text/x-python",
   "name": "python",
   "nbconvert_exporter": "python",
   "pygments_lexer": "ipython3",
   "version": "3.11.2"
  }
 },
 "nbformat": 4,
 "nbformat_minor": 2
}
