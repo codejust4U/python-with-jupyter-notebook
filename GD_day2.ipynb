{
 "cells": [
  {
   "cell_type": "code",
   "execution_count": 48,
   "metadata": {},
   "outputs": [],
   "source": [
    "import numpy as np\n",
    "import matplotlib.pyplot as plt\n",
    "from sklearn.datasets import make_regression"
   ]
  },
  {
   "cell_type": "code",
   "execution_count": 49,
   "metadata": {},
   "outputs": [
    {
     "data": {
      "text/plain": [
       "<matplotlib.collections.PathCollection at 0x2a53dc98190>"
      ]
     },
     "execution_count": 49,
     "metadata": {},
     "output_type": "execute_result"
    },
    {
     "data": {
      "image/png": "[encoded data removed]",
      "text/plain": [
       "<Figure size 640x480 with 1 Axes>"
      ]
     },
     "metadata": {},
     "output_type": "display_data"
    }
   ],
   "source": [
    "X,y = make_regression(n_samples=100,n_features=1,n_informative=1,n_targets=1,noise=20,random_state=13)\n",
    "plt.scatter(X,y)"
   ]
  },
  {
   "cell_type": "code",
   "execution_count": 50,
   "metadata": {},
   "outputs": [],
   "source": [
    "from sklearn.linear_model import LinearRegression\n",
    "from sklearn.model_selection import cross_val_score\n",
    "from sklearn.model_selection import train_test_split"
   ]
  },
  {
   "cell_type": "code",
   "execution_count": 51,
   "metadata": {},
   "outputs": [],
   "source": [
    "X_train,X_test,y_train,y_test = train_test_split(X,y,test_size=0.2,random_state=2)"
   ]
  },
  {
   "cell_type": "code",
   "execution_count": 52,
   "metadata": {},
   "outputs": [],
   "source": [
    "lr = LinearRegression()"
   ]
  },
  {
   "cell_type": "code",
   "execution_count": 53,
   "metadata": {},
   "outputs": [
    {
     "name": "stdout",
     "output_type": "stream",
     "text": [
      "[27.82809103]\n",
      "-2.29474455867698\n"
     ]
    }
   ],
   "source": [
    "lr.fit(X,y)\n",
    "print(lr.coef_)\n",
    "print(lr.intercept_)"
   ]
  },
  {
   "cell_type": "code",
   "execution_count": 54,
   "metadata": {},
   "outputs": [
    {
     "name": "stdout",
     "output_type": "stream",
     "text": [
      "[28.12597332]\n",
      "-2.2710144261783825\n"
     ]
    }
   ],
   "source": [
    "lr.fit(X_train,y_train)\n",
    "print(lr.coef_)\n",
    "print(lr.intercept_)"
   ]
  },
  {
   "cell_type": "code",
   "execution_count": 55,
   "metadata": {},
   "outputs": [],
   "source": [
    "y_pred =lr.predict(X_test)"
   ]
  },
  {
   "cell_type": "code",
   "execution_count": 56,
   "metadata": {},
   "outputs": [],
   "source": [
    "from sklearn.metrics import r2_score"
   ]
  },
  {
   "cell_type": "code",
   "execution_count": 57,
   "metadata": {},
   "outputs": [
    {
     "data": {
      "text/plain": [
       "0.6345158782661012"
      ]
     },
     "execution_count": 57,
     "metadata": {},
     "output_type": "execute_result"
    }
   ],
   "source": [
    "r2_score(y_test,y_pred)"
   ]
  },
  {
   "cell_type": "code",
   "execution_count": 58,
   "metadata": {},
   "outputs": [
    {
     "data": {
      "text/plain": [
       "0.6375011587464419"
      ]
     },
     "execution_count": 58,
     "metadata": {},
     "output_type": "execute_result"
    }
   ],
   "source": [
    "np.mean(cross_val_score(lr,X,y,scoring='r2',cv=10))"
   ]
  },
  {
   "cell_type": "code",
   "execution_count": 59,
   "metadata": {},
   "outputs": [],
   "source": [
    "class GDRegressor:\n",
    "    def __init__(self,learning_rate,epochs):\n",
    "        self.m = 100\n",
    "        self.b=-120\n",
    "        self.lr=learning_rate\n",
    "        self.epochs=epochs\n",
    "\n",
    "    def fit(self,X,y):\n",
    "        # calculate the b usig GD\n",
    "        for i in range(self.epochs):\n",
    "            loss_slope_b=-2*np.sum(y-self.m*X.ravel()-self.b)\n",
    "            loss_slope_m=-2*np.sum((y-self.m*X.ravel()-self.b)*X.ravel())\n",
    "            self.b=self.b-(self.lr*loss_slope_b)\n",
    "            self.m=self.m-(self.lr*loss_slope_m)\n",
    "            \n",
    "        print(self.b,self.m)\n",
    "     \n",
    "    def predict(self,X):\n",
    "        return self.m*X+self.b"
   ]
  },
  {
   "cell_type": "code",
   "execution_count": 60,
   "metadata": {},
   "outputs": [],
   "source": [
    "gd = GDRegressor(0.001,50)"
   ]
  },
  {
   "cell_type": "code",
   "execution_count": 61,
   "metadata": {},
   "outputs": [
    {
     "name": "stdout",
     "output_type": "stream",
     "text": [
      "-2.2991839308293196 27.837060471820052\n"
     ]
    }
   ],
   "source": [
    "gd.fit(X,y)"
   ]
  },
  {
   "cell_type": "code",
   "execution_count": 62,
   "metadata": {},
   "outputs": [
    {
     "data": {
      "text/plain": [
       "array([[-22.13004587],\n",
       "       [-14.46803398],\n",
       "       [-14.93031641],\n",
       "       [ 24.22481941],\n",
       "       [  4.3220791 ],\n",
       "       [ 21.67440917],\n",
       "       [ -9.07267152],\n",
       "       [  2.84916767],\n",
       "       [-22.36969544],\n",
       "       [-14.266255  ],\n",
       "       [ 53.79864004],\n",
       "       [  8.75884689],\n",
       "       [  3.48535872],\n",
       "       [ -8.76923699],\n",
       "       [-23.69550079],\n",
       "       [ 10.31541979],\n",
       "       [ 15.51330493],\n",
       "       [  7.70913832],\n",
       "       [-47.25904197],\n",
       "       [ 46.39456556],\n",
       "       [-24.26231913],\n",
       "       [-16.55078722],\n",
       "       [-28.14130775],\n",
       "       [ 57.56115677],\n",
       "       [ -8.07119002],\n",
       "       [-47.92672634],\n",
       "       [-11.72532075],\n",
       "       [-11.26615965],\n",
       "       [-15.69914914],\n",
       "       [-16.86253782],\n",
       "       [ 17.79820103],\n",
       "       [ 19.02152826],\n",
       "       [ 10.32439521],\n",
       "       [-37.41858492],\n",
       "       [-63.18204405],\n",
       "       [-35.29775901],\n",
       "       [  3.75403106],\n",
       "       [ 34.73292872],\n",
       "       [-32.56312362],\n",
       "       [ 13.35252918],\n",
       "       [-44.41234489],\n",
       "       [ -2.36568738],\n",
       "       [-10.04163129],\n",
       "       [ 10.27794346],\n",
       "       [ 30.84655074],\n",
       "       [ 23.3761659 ],\n",
       "       [ 20.3878935 ],\n",
       "       [-19.58543346],\n",
       "       [ 23.13667133],\n",
       "       [ 29.38866195],\n",
       "       [ 38.86308036],\n",
       "       [-20.42268251],\n",
       "       [-12.76369062],\n",
       "       [-23.86344212],\n",
       "       [ 11.65100525],\n",
       "       [ 35.28607828],\n",
       "       [ 17.99863937],\n",
       "       [ -4.57212324],\n",
       "       [-26.07601298],\n",
       "       [ 10.6633652 ],\n",
       "       [ -3.53801881],\n",
       "       [ -3.90071649],\n",
       "       [ 50.38919567],\n",
       "       [-31.39941033],\n",
       "       [ 13.41913163],\n",
       "       [-55.86212687],\n",
       "       [-23.56764375],\n",
       "       [  1.24456518],\n",
       "       [ -3.04442797],\n",
       "       [ -6.34144058],\n",
       "       [ 13.36881607],\n",
       "       [  6.5349329 ],\n",
       "       [ 17.49226443],\n",
       "       [ 18.68345633],\n",
       "       [-12.60212758],\n",
       "       [ 35.14449367],\n",
       "       [ 12.51953806],\n",
       "       [-29.69532713],\n",
       "       [ 35.28936573],\n",
       "       [-11.94769804],\n",
       "       [ 12.01821951],\n",
       "       [  0.51986922],\n",
       "       [-20.60253187],\n",
       "       [ 20.83078711],\n",
       "       [-11.13093595],\n",
       "       [-29.58713941],\n",
       "       [ 36.65150059],\n",
       "       [ 12.95325119],\n",
       "       [-17.06194005],\n",
       "       [ 11.36524495],\n",
       "       [  7.40900744],\n",
       "       [ 54.86959888],\n",
       "       [ 14.57811007],\n",
       "       [-13.00135576],\n",
       "       [-56.45314197],\n",
       "       [-11.06390724],\n",
       "       [ 49.18859292],\n",
       "       [-33.49080147],\n",
       "       [-11.5598996 ],\n",
       "       [-23.38445518]])"
      ]
     },
     "execution_count": 62,
     "metadata": {},
     "output_type": "execute_result"
    }
   ],
   "source": [
    "gd.predict(X)"
   ]
  },
  {
   "cell_type": "code",
   "execution_count": 64,
   "metadata": {},
   "outputs": [
    {
     "name": "stdout",
     "output_type": "stream",
     "text": [
      "-2.2709893455389714 28.125891702177178\n"
     ]
    }
   ],
   "source": [
    "gd.fit(X_train,y_train)"
   ]
  },
  {
   "cell_type": "code",
   "execution_count": 65,
   "metadata": {},
   "outputs": [
    {
     "data": {
      "text/plain": [
       "0.6345162275128353"
      ]
     },
     "execution_count": 65,
     "metadata": {},
     "output_type": "execute_result"
    }
   ],
   "source": [
    "y_pred = gd.predict(X_test)\n",
    "from sklearn.metrics import r2_score\n",
    "r2_score(y_test,y_pred)"
   ]
  },
  {
   "cell_type": "code",
   "execution_count": 67,
   "metadata": {},
   "outputs": [],
   "source": [
    "b=-120       #150\n",
    "m=100       #-127.82\n",
    "lr=0.001\n",
    "all_b=[]\n",
    "all_m=[]\n",
    "all_cost=[]\n",
    "\n",
    "epochs = 30\n",
    "\n",
    "for i in range(epochs):\n",
    "    slope_b=0\n",
    "    slope_m=0\n",
    "    cost=0\n",
    "    for j in range(X.shape[0]):\n",
    "        slope_b=slope_b-2*(y[j]-(m*X[j])-b)\n",
    "        slope_m=slope_m-2*(y[j]-(m*X[j])-b)*X[j]\n",
    "\n",
    "        cost =cost+(y[j]-m*X[j]-b)**2\n",
    "\n",
    "\n",
    "\n",
    "    b=b-(lr*slope_b)\n",
    "    m=m-(lr*slope_m)\n",
    "\n",
    "    all_b.append(b)\n",
    "    all_m.append(m)\n",
    "    all_cost.append(cost)\n",
    "\n"
   ]
  },
  {
   "cell_type": "code",
   "execution_count": 69,
   "metadata": {},
   "outputs": [
    {
     "ename": "NameError",
     "evalue": "name 'FuncAnimation' is not defined",
     "output_type": "error",
     "traceback": [
      "\u001b[1;31m---------------------------------------------------------------------------\u001b[0m",
      "\u001b[1;31mNameError\u001b[0m                                 Traceback (most recent call last)",
      "Cell \u001b[1;32mIn[69], line 16\u001b[0m\n\u001b[0;32m     12\u001b[0m     line\u001b[39m.\u001b[39mset_ydata(x_i\u001b[39m*\u001b[39mall_m[i]\u001b[39m+\u001b[39mall_b[i])\n\u001b[0;32m     13\u001b[0m     ax\u001b[39m.\u001b[39mset_xlabel(label)\n\u001b[1;32m---> 16\u001b[0m anim \u001b[39m=\u001b[39m FuncAnimation(fig,update,repeat\u001b[39m=\u001b[39m\u001b[39mTrue\u001b[39;00m,frames\u001b[39m=\u001b[39mepochs,intervals\u001b[39m=\u001b[39m\u001b[39m500\u001b[39m)\n",
      "\u001b[1;31mNameError\u001b[0m: name 'FuncAnimation' is not defined"
     ]
    },
    {
     "data": {
      "image/png": "[encoded data removed]",
      "text/plain": [
       "<Figure size 900x500 with 1 Axes>"
      ]
     },
     "metadata": {},
     "output_type": "display_data"
    }
   ],
   "source": [
    "fig,ax=plt.subplots(figsize=(9,5))\n",
    "\n",
    "x_i=np.arange(-3,3,0.1)\n",
    "y_i=x_i*(-27)-150\n",
    "\n",
    "ax.scatter(X,y)\n",
    "\n",
    "line, = ax.plot(x_i,x_i*150-4,'r-',linewidth=2)\n",
    "\n",
    "def update(i):\n",
    "    label='epoch{0}'.format(i+1)\n",
    "    line.set_ydata(x_i*all_m[i]+all_b[i])\n",
    "    ax.set_xlabel(label)\n",
    "\n",
    "\n",
    "anim = FuncAnimation(fig,update,repeat=True,frames=epochs,intervals=500)"
   ]
  }
 ],
 "metadata": {
  "kernelspec": {
   "display_name": "Python 3",
   "language": "python",
   "name": "python3"
  },
  "language_info": {
   "codemirror_mode": {
    "name": "ipython",
    "version": 3
   },
   "file_extension": ".py",
   "mimetype": "text/x-python",
   "name": "python",
   "nbconvert_exporter": "python",
   "pygments_lexer": "ipython3",
   "version": "3.11.2"
  },
  "orig_nbformat": 4
 },
 "nbformat": 4,
 "nbformat_minor": 2
}
