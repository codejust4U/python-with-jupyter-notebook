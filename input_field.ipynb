{
 "cells": [
  {
   "cell_type": "markdown",
   "metadata": {},
   "source": [
    "# Taking input using input field"
   ]
  },
  {
   "cell_type": "code",
   "execution_count": 15,
   "metadata": {},
   "outputs": [],
   "source": [
    "from tkinter import *\n",
    "\n",
    "root = Tk()\n",
    "\n",
    "inp1 = Entry(root)\n",
    "inp1.pack()\n",
    "\n",
    "def fact():\n",
    "    try:\n",
    "        n = int(inp1.get())  \n",
    "        result = 1\n",
    "        for i in range(1, n + 1):  #\n",
    "            result *= i \n",
    "        lbl = Label(root, text=\"Factorial of \" + str(n) + \" is \" + str(result))\n",
    "        lbl.pack()\n",
    "    except ValueError:\n",
    "        lbl = Label(root, text=\"Please enter a valid number!\")\n",
    "        lbl.pack()\n",
    "\n",
    "btn1 = Button(root, text=\"get factorial\", command=fact)\n",
    "btn1.pack()\n",
    "\n",
    "root.mainloop()\n"
   ]
  }
 ],
 "metadata": {
  "kernelspec": {
   "display_name": "Python 3",
   "language": "python",
   "name": "python3"
  },
  "language_info": {
   "codemirror_mode": {
    "name": "ipython",
    "version": 3
   },
   "file_extension": ".py",
   "mimetype": "text/x-python",
   "name": "python",
   "nbconvert_exporter": "python",
   "pygments_lexer": "ipython3",
   "version": "3.11.2"
  }
 },
 "nbformat": 4,
 "nbformat_minor": 2
}
