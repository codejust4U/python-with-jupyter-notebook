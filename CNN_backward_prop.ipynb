{
 "cells": [
  {
   "cell_type": "code",
   "execution_count": 1,
   "metadata": {},
   "outputs": [],
   "source": [
    "import numpy as np\n",
    "\n",
    "from scipy import ndimage"
   ]
  },
  {
   "cell_type": "code",
   "execution_count": 2,
   "metadata": {},
   "outputs": [],
   "source": [
    "def conv_backward(dZ,x,w,padding=\"same\"):\n",
    "    m = x.shape[0]\n",
    "\n",
    "    db = (1/m)*np.sum(dZ, axis=(0,1,2), keepdims=True)\n",
    "\n",
    "    if padding==\"same\":\n",
    "        pad = (w.shape[0]-1)//2\n",
    "    else: #padding is valid - i.e no zero padding\n",
    "        pad =0\n",
    "    x_padded = np.pad(x,((0,0),(pad,pad),(pad,pad),(0,0)),'constant', constant_values = 0)\n",
    "\n",
    "    #this will allow us to broadcast operations\n",
    "    x_padded_bcast = np.expand_dims(x_padded, axis=-1) # shape = (m, i, j, c, 1)\n",
    "    dZ_bcast = np.expand_dims(dZ, axis=-2) # shape = (m, i, j, 1, k)\n",
    "\n",
    "    dW = np.zeros_like(w)\n",
    "    f=w.shape[0]\n",
    "    w_x = x_padded.shape[1]\n",
    "    for a in range(f):\n",
    "        for b in range(f):\n",
    "            #note f-1 - a rather than f-a since indexed from 0...f-1 not 1...f\n",
    "            dW[a,b,:,:] = (1/m)*np.sum(dZ_bcast*\n",
    "                x_padded_bcast[:,a:w_x-(f-1 -a),b:w_x-(f-1 -b),:,:],\n",
    "                axis=(0,1,2))\n",
    "\n",
    "    dx = np.zeros_like(x_padded,dtype=float)\n",
    "    Z_pad = f-1\n",
    "    dZ_padded = np.pad(dZ,((0,0),(Z_pad,Z_pad),(Z_pad,Z_pad),\n",
    "    (0,0)),'constant', constant_values = 0)\n",
    "\n",
    "    for m_i in range(x.shape[0]):\n",
    "        for k in range(w.shape[3]):\n",
    "            for d in range(x.shape[3]):\n",
    "                dx[m_i,:,:,d]+=ndimage.convolve(dZ_padded[m_i,:,:,k],\n",
    "                w[:,:,d,k])[f//2:-(f//2),f//2:-(f//2)]\n",
    "    dx = dx[:,pad:dx.shape[1]-pad,pad:dx.shape[2]-pad,:]\n",
    "    return dx,dW,db\n"
   ]
  },
  {
   "cell_type": "code",
   "execution_count": 3,
   "metadata": {},
   "outputs": [],
   "source": [
    "def relu(z, deriv = False):\n",
    "        if(deriv): #this is for the partial derivatives (discussed in next blog post)\n",
    "            return z>0 #Note that True=1 and False=0 when converted to float\n",
    "        else:\n",
    "            return np.multiply(z, z>0)\n"
   ]
  },
  {
   "cell_type": "code",
   "execution_count": 4,
   "metadata": {},
   "outputs": [],
   "source": [
    "def pool_forward(x,mode=\"max\"):\n",
    "    x_patches = x.reshape(x.shape[0],x.shape[1]//2, 2,x.shape[2]//2, 2,x.shape[3])\n",
    "    if mode==\"max\":\n",
    "        out = x_patches.max(axis=2).max(axis=3)\n",
    "        mask  =np.isclose(x,np.repeat(np.repeat(out,2,axis=1),2,axis=2)).astype(int)\n",
    "    elif mode==\"average\":\n",
    "        out =  x_patches.mean(axis=3).mean(axis=4)\n",
    "        mask = np.ones_like(x)*0.25\n",
    "    return out,mask\n",
    "\n",
    "#backward calculation\n",
    "def pool_backward(dx, mask):\n",
    "    return mask*(np.repeat(np.repeat(dx,2,axis=1),2,axis=2))\n"
   ]
  },
  {
   "cell_type": "code",
   "execution_count": 5,
   "metadata": {},
   "outputs": [],
   "source": [
    "def fc_backward(dA,a,x,w,b):\n",
    "    m = dA.shape[1]\n",
    "    dZ = dA*relu(a,deriv=True)\n",
    "    dW = (1/m)*dZ.dot(x.T)\n",
    "    db = (1/m)*np.sum(dZ,axis=1,keepdims=True)\n",
    "    dx =  np.dot(w.T,dZ)\n",
    "    return dx, dW,db\n"
   ]
  },
  {
   "cell_type": "code",
   "execution_count": 6,
   "metadata": {},
   "outputs": [],
   "source": [
    "def softmax_backward(y_pred, y, w, b, x):\n",
    "    m = y.shape[1]\n",
    "    dZ = y_pred - y\n",
    "    dW = (1/m)*dZ.dot(x.T)\n",
    "    db = (1/m)*np.sum(dZ,axis=1,keepdims=True)\n",
    "    dx =  np.dot(w.T,dZ)\n",
    "    return dx, dW,db\n"
   ]
  }
 ],
 "metadata": {
  "kernelspec": {
   "display_name": "Python 3",
   "language": "python",
   "name": "python3"
  },
  "language_info": {
   "codemirror_mode": {
    "name": "ipython",
    "version": 3
   },
   "file_extension": ".py",
   "mimetype": "text/x-python",
   "name": "python",
   "nbconvert_exporter": "python",
   "pygments_lexer": "ipython3",
   "version": "3.11.4"
  },
  "orig_nbformat": 4
 },
 "nbformat": 4,
 "nbformat_minor": 2
}
