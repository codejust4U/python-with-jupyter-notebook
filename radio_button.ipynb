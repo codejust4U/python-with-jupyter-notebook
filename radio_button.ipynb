{
 "cells": [
  {
   "cell_type": "markdown",
   "metadata": {},
   "source": [
    "# Radio Button in Tkinter"
   ]
  },
  {
   "cell_type": "code",
   "execution_count": 1,
   "metadata": {},
   "outputs": [],
   "source": [
    "#importing modules\n",
    "from tkinter import *"
   ]
  },
  {
   "cell_type": "code",
   "execution_count": 18,
   "metadata": {},
   "outputs": [],
   "source": [
    "\n",
    "root = Tk()\n",
    "root.title(\"Radiobutton\")\n",
    "\n",
    "lbl = Label(root, text=\"Choose your gender\", font=('Georgia', 35))\n",
    "lbl.place(x=150,y=0)\n",
    "\n",
    "def get_val():\n",
    "    selected_gender = str(gender.get())\n",
    "    labl1 = Label(text=\"Your gender is \"+selected_gender, font=('Georgia', 30))\n",
    "    labl1.place(x=200,y=200)\n",
    "\n",
    "gender = StringVar()\n",
    "\n",
    "radio_button1 = Radiobutton(root, text=\"male\", variable=gender,value=\"male\",font=(\"Aptos\",20))\n",
    "radio_button1.place(x=250,y=70)\n",
    "gender.set(\"male\")\n",
    "\n",
    "radio_button2 = Radiobutton(root, text=\"female\", variable=gender,value=\"female\",font=(\"Aptos\",20))\n",
    "radio_button2.place(x=350,y=70)\n",
    "\n",
    "btn1 = Button(root,text=\"Get gender\",command=get_val, font=('Georgia', 25),background='red',foreground='green')\n",
    "btn1.place(x=270,y=120)\n",
    "\n",
    "root.mainloop()\n"
   ]
  }
 ],
 "metadata": {
  "kernelspec": {
   "display_name": "Python 3",
   "language": "python",
   "name": "python3"
  },
  "language_info": {
   "codemirror_mode": {
    "name": "ipython",
    "version": 3
   },
   "file_extension": ".py",
   "mimetype": "text/x-python",
   "name": "python",
   "nbconvert_exporter": "python",
   "pygments_lexer": "ipython3",
   "version": "3.11.2"
  }
 },
 "nbformat": 4,
 "nbformat_minor": 2
}
