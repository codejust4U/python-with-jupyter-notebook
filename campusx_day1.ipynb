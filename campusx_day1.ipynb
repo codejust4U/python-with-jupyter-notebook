{
 "cells": [
  {
   "attachments": {},
   "cell_type": "markdown",
   "metadata": {},
   "source": [
    "# Glass and Tank problelm -- Volume"
   ]
  },
  {
   "cell_type": "code",
   "execution_count": 6,
   "metadata": {},
   "outputs": [
    {
     "name": "stdout",
     "output_type": "stream",
     "text": [
      "8000\n",
      "9.42477796076938\n",
      "the number of glasses of milk that can be obtained from tank : 848.8263631567752\n"
     ]
    }
   ],
   "source": [
    "from math import *\n",
    "l_tank = int(input(\"enter the length of tank: \"))\n",
    "b_tank = int(input(\"enter the bredth of tank: \"))\n",
    "h_tank = int(input(\"enter the height of tank: \"))\n",
    "vol_tank = l_tank*b_tank*h_tank\n",
    "\n",
    "print(vol_tank)\n",
    "\n",
    "h_glass = int(input(\"enter the height of glass: \"))\n",
    "r_glass = int(input(\"enter the radius of glass: \"))\n",
    "vol_glass = pi*r_glass*r_glass*h_glass\n",
    "\n",
    "print(vol_glass)\n",
    "\n",
    "n_glass_tank = vol_tank/vol_glass\n",
    "\n",
    "print(\"the number of glasses of milk that can be obtained from tank :\",n_glass_tank)\n"
   ]
  }
 ],
 "metadata": {
  "kernelspec": {
   "display_name": "Python 3",
   "language": "python",
   "name": "python3"
  },
  "language_info": {
   "codemirror_mode": {
    "name": "ipython",
    "version": 3
   },
   "file_extension": ".py",
   "mimetype": "text/x-python",
   "name": "python",
   "nbconvert_exporter": "python",
   "pygments_lexer": "ipython3",
   "version": "3.11.2"
  },
  "orig_nbformat": 4
 },
 "nbformat": 4,
 "nbformat_minor": 2
}
