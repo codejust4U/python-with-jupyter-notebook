{
 "cells": [
  {
   "attachments": {},
   "cell_type": "markdown",
   "metadata": {},
   "source": [
    "Data analysis using Pandas\n",
    "\n",
    "Pandas are the most popular python library that is used for data analysis. It provides highly optimized performance with back-end source code purely written in C or Python. \n",
    "\n",
    "We can analyze data in Pandas with:\n",
    "\n",
    "Pandas Series\n",
    "Pandas DataFrames\n",
    "Pandas Series\n",
    "Series in Pandas is one dimensional(1-D) array defined in pandas that can be used to store any data type.\n",
    "\n",
    "Creating Pandas Series"
   ]
  },
  {
   "cell_type": "code",
   "execution_count": null,
   "metadata": {},
   "outputs": [],
   "source": [
    "import pandas as pd"
   ]
  },
  {
   "attachments": {},
   "cell_type": "markdown",
   "metadata": {},
   "source": [
    "Here, Data can be:\n",
    "\n",
    "A Scalar value which can be integerValue, string\n",
    "A Python Dictionary which can be Key, Value pair\n",
    "A Ndarray\n",
    "Note: Index by default is from 0, 1, 2, …(n-1) where n is the length of data.  \n",
    "\n",
    "Create Series from List\n",
    " Creating series with predefined index values."
   ]
  },
  {
   "cell_type": "code",
   "execution_count": 3,
   "metadata": {},
   "outputs": [
    {
     "data": {
      "text/plain": [
       "a    1\n",
       "b    4\n",
       "c    6\n",
       "d    2\n",
       "e    8\n",
       "f    3\n",
       "g    9\n",
       "dtype: int64"
      ]
     },
     "execution_count": 3,
     "metadata": {},
     "output_type": "execute_result"
    }
   ],
   "source": [
    "import pandas as pd\n",
    "Data = [1,4,6,2,8,3,9]\n",
    "series1 = pd.Series(Data)\n",
    "Index = ['a','b','c','d','e','f','g']\n",
    "ser1 = pd.Series(Data,Index)\n",
    "ser1\n"
   ]
  },
  {
   "attachments": {},
   "cell_type": "markdown",
   "metadata": {},
   "source": [
    "Create Pandas Series from Dictionary\n",
    "Program to Create Pandas series from Dictionary."
   ]
  },
  {
   "cell_type": "code",
   "execution_count": 5,
   "metadata": {},
   "outputs": [
    {
     "data": {
      "text/plain": [
       "a       pankaj\n",
       "b         ravi\n",
       "c       subash\n",
       "d    amanuwell\n",
       "dtype: object"
      ]
     },
     "execution_count": 5,
     "metadata": {},
     "output_type": "execute_result"
    }
   ],
   "source": [
    "dict1 = {\n",
    "    'a':'pankaj',\n",
    "    'b':'ravi',\n",
    "    'c':'subash',\n",
    "    'd':'amanuwell'     \n",
    "         }\n",
    "\n",
    "series2 = pd.Series(dict1)\n",
    "\n",
    "series2\n"
   ]
  },
  {
   "attachments": {},
   "cell_type": "markdown",
   "metadata": {},
   "source": [
    "Pandas DataFrames\n",
    "The DataFrames in Pandas is a two-dimensional (2-D) data structure defined in pandas which consists of rows and columns.\n",
    "\n",
    "Here, Data can be:\n",
    "\n",
    "One or more dictionaries\n",
    "One or more Series\n",
    "2D-numpy Ndarray\n",
    "Create a Pandas DataFrame from multiple Dictionary\n",
    "Program to Create a Dataframe with two dictionaries.\n"
   ]
  },
  {
   "cell_type": "code",
   "execution_count": 7,
   "metadata": {},
   "outputs": [
    {
     "data": {
      "text/html": [
       "<div>\n",
       "<style scoped>\n",
       "    .dataframe tbody tr th:only-of-type {\n",
       "        vertical-align: middle;\n",
       "    }\n",
       "\n",
       "    .dataframe tbody tr th {\n",
       "        vertical-align: top;\n",
       "    }\n",
       "\n",
       "    .dataframe thead th {\n",
       "        text-align: right;\n",
       "    }\n",
       "</style>\n",
       "<table border=\"1\" class=\"dataframe\">\n",
       "  <thead>\n",
       "    <tr style=\"text-align: right;\">\n",
       "      <th></th>\n",
       "      <th>1st row</th>\n",
       "      <th>2nd row</th>\n",
       "    </tr>\n",
       "  </thead>\n",
       "  <tbody>\n",
       "    <tr>\n",
       "      <th>a</th>\n",
       "      <td>1.0</td>\n",
       "      <td>5</td>\n",
       "    </tr>\n",
       "    <tr>\n",
       "      <th>b</th>\n",
       "      <td>2.0</td>\n",
       "      <td>6</td>\n",
       "    </tr>\n",
       "    <tr>\n",
       "      <th>c</th>\n",
       "      <td>3.0</td>\n",
       "      <td>7</td>\n",
       "    </tr>\n",
       "    <tr>\n",
       "      <th>d</th>\n",
       "      <td>4.0</td>\n",
       "      <td>8</td>\n",
       "    </tr>\n",
       "    <tr>\n",
       "      <th>e</th>\n",
       "      <td>NaN</td>\n",
       "      <td>9</td>\n",
       "    </tr>\n",
       "  </tbody>\n",
       "</table>\n",
       "</div>"
      ],
      "text/plain": [
       "   1st row  2nd row\n",
       "a      1.0        5\n",
       "b      2.0        6\n",
       "c      3.0        7\n",
       "d      4.0        8\n",
       "e      NaN        9"
      ]
     },
     "execution_count": 7,
     "metadata": {},
     "output_type": "execute_result"
    }
   ],
   "source": [
    "\n",
    "dict2 = {'a': 1, 'b': 2, 'c': 3, 'd': 4}\n",
    "\n",
    "dict3 = {'a': 5, 'b': 6, 'c': 7, 'd': 8, 'e': 9}\n",
    "\n",
    "data2 = {'1st row' : dict2,'2nd row' : dict3}\n",
    "\n",
    "df2 = pd.DataFrame(data2)\n",
    "df2"
   ]
  },
  {
   "attachments": {},
   "cell_type": "markdown",
   "metadata": {},
   "source": [
    "Convert list of dictionaries to a Pandas DataFrame\n",
    "Here, we are taking three dictionaries and with the help of from_dict() we convert them into Pandas DataFrame."
   ]
  },
  {
   "cell_type": "code",
   "execution_count": 8,
   "metadata": {},
   "outputs": [
    {
     "data": {
      "text/html": [
       "<div>\n",
       "<style scoped>\n",
       "    .dataframe tbody tr th:only-of-type {\n",
       "        vertical-align: middle;\n",
       "    }\n",
       "\n",
       "    .dataframe tbody tr th {\n",
       "        vertical-align: top;\n",
       "    }\n",
       "\n",
       "    .dataframe thead th {\n",
       "        text-align: right;\n",
       "    }\n",
       "</style>\n",
       "<table border=\"1\" class=\"dataframe\">\n",
       "  <thead>\n",
       "    <tr style=\"text-align: right;\">\n",
       "      <th></th>\n",
       "      <th>A</th>\n",
       "      <th>B</th>\n",
       "      <th>C</th>\n",
       "      <th>D</th>\n",
       "    </tr>\n",
       "  </thead>\n",
       "  <tbody>\n",
       "    <tr>\n",
       "      <th>0</th>\n",
       "      <td>5</td>\n",
       "      <td>0</td>\n",
       "      <td>3</td>\n",
       "      <td>3</td>\n",
       "    </tr>\n",
       "    <tr>\n",
       "      <th>1</th>\n",
       "      <td>7</td>\n",
       "      <td>9</td>\n",
       "      <td>3</td>\n",
       "      <td>5</td>\n",
       "    </tr>\n",
       "    <tr>\n",
       "      <th>2</th>\n",
       "      <td>2</td>\n",
       "      <td>4</td>\n",
       "      <td>7</td>\n",
       "      <td>6</td>\n",
       "    </tr>\n",
       "  </tbody>\n",
       "</table>\n",
       "</div>"
      ],
      "text/plain": [
       "   A  B  C  D\n",
       "0  5  0  3  3\n",
       "1  7  9  3  5\n",
       "2  2  4  7  6"
      ]
     },
     "execution_count": 8,
     "metadata": {},
     "output_type": "execute_result"
    }
   ],
   "source": [
    "data3 = [\n",
    " {'A': 5, 'B': 0, 'C': 3, 'D': 3},\n",
    " {'A': 7, 'B': 9, 'C': 3, 'D': 5},\n",
    " {'A': 2, 'B': 4, 'C': 7, 'D': 6}]\n",
    "\n",
    "pd.DataFrame.from_dict(data3,orient='columns')\n"
   ]
  }
 ],
 "metadata": {
  "kernelspec": {
   "display_name": "Python 3",
   "language": "python",
   "name": "python3"
  },
  "language_info": {
   "codemirror_mode": {
    "name": "ipython",
    "version": 3
   },
   "file_extension": ".py",
   "mimetype": "text/x-python",
   "name": "python",
   "nbconvert_exporter": "python",
   "pygments_lexer": "ipython3",
   "version": "3.11.2"
  },
  "orig_nbformat": 4
 },
 "nbformat": 4,
 "nbformat_minor": 2
}
