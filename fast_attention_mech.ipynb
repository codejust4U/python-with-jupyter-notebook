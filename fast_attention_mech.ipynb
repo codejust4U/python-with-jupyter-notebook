{
 "cells": [
  {
   "attachments": {
    "Screenshot 2023-12-27 221946.png": {
     "image/png": "[encoded data removed]"
    },
    "Screenshot 2023-12-27 222027.png": {
     "image/png": "[encoded data removed]"
    },
    "Screenshot 2023-12-27 222100.png": {
     "image/png": "[encoded data removed]"
    }
   },
   "cell_type": "markdown",
   "metadata": {},
   "source": [
    "# Attention mechanism\n",
    "- The Attention Mechanism\n",
    "- The General Attention Mechanism\n",
    "- The General Attention Mechanism with NumPy and SciPy\n",
    "\n",
    "- Alignment scores : ![Screenshot 2023-12-27 221946.png](<attachment:Screenshot 2023-12-27 221946.png>)\n",
    "\n",
    "- Weights: ![Screenshot 2023-12-27 222027.png](<attachment:Screenshot 2023-12-27 222027.png>)\n",
    "\n",
    "- Context vector:  ![Screenshot 2023-12-27 222100.png](<attachment:Screenshot 2023-12-27 222100.png>)"
   ]
  },
  {
   "cell_type": "code",
   "execution_count": 1,
   "metadata": {},
   "outputs": [
    {
     "name": "stdout",
     "output_type": "stream",
     "text": [
      "[[0.98522025 1.74174051 0.75652026]\n",
      " [0.90965265 1.40965265 0.5       ]\n",
      " [0.99851226 1.75849334 0.75998108]\n",
      " [0.99560386 1.90407309 0.90846923]]\n"
     ]
    }
   ],
   "source": [
    "\n",
    "from numpy import array\n",
    "from numpy import random\n",
    "from numpy import dot\n",
    "from scipy.special import softmax\n",
    " \n",
    "# encoder representations of four different words\n",
    "word_1 = array([1, 0, 0])\n",
    "word_2 = array([0, 1, 0])\n",
    "word_3 = array([1, 1, 0])\n",
    "word_4 = array([0, 0, 1])\n",
    " \n",
    "# stacking the word embeddings into a single array\n",
    "words = array([word_1, word_2, word_3, word_4])\n",
    " \n",
    "# generating the weight matrices\n",
    "random.seed(42)\n",
    "W_Q = random.randint(3, size=(3, 3))\n",
    "W_K = random.randint(3, size=(3, 3))\n",
    "W_V = random.randint(3, size=(3, 3))\n",
    " \n",
    "# generating the queries, keys and values\n",
    "Q = words @ W_Q\n",
    "K = words @ W_K\n",
    "V = words @ W_V\n",
    " \n",
    "# scoring the query vectors against all key vectors\n",
    "scores = Q @ K.transpose()\n",
    " \n",
    "# computing the weights by a softmax operation\n",
    "weights = softmax(scores / K.shape[1] ** 0.5, axis=1)\n",
    " \n",
    "# computing the attention by a weighted sum of the value vectors\n",
    "attention = weights @ V\n",
    " \n",
    "print(attention)"
   ]
  }
 ],
 "metadata": {
  "kernelspec": {
   "display_name": "Python 3",
   "language": "python",
   "name": "python3"
  },
  "language_info": {
   "codemirror_mode": {
    "name": "ipython",
    "version": 3
   },
   "file_extension": ".py",
   "mimetype": "text/x-python",
   "name": "python",
   "nbconvert_exporter": "python",
   "pygments_lexer": "ipython3",
   "version": "3.11.2"
  }
 },
 "nbformat": 4,
 "nbformat_minor": 2
}
