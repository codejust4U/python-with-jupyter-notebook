{
 "cells": [
  {
   "attachments": {},
   "cell_type": "markdown",
   "metadata": {},
   "source": [
    "Problem:\n",
    "You have a dataset consisting of the heights and weights of 20 individuals. Your task is to use k-means clustering to group them into three clusters based on their height and weight attributes. The dataset is as follows:\n",
    "\n",
    "```\n",
    "| Person | Height (cm) | Weight (kg) |\n",
    "|--------|-------------|-------------|\n",
    "|   1    |     160     |     55      |\n",
    "|   2    |     165     |     60      |\n",
    "|   3    |     170     |     68      |\n",
    "|   4    |     155     |     45      |\n",
    "|   5    |     175     |     70      |\n",
    "|   6    |     180     |     75      |\n",
    "|   7    |     163     |     58      |\n",
    "|   8    |     168     |     62      |\n",
    "|   9    |     172     |     65      |\n",
    "|   10   |     158     |     50      |\n",
    "|   11   |     166     |     63      |\n",
    "|   12   |     169     |     66      |\n",
    "|   13   |     159     |     48      |\n",
    "|   14   |     173     |     71      |\n",
    "|   15   |     171     |     69      |\n",
    "|   16   |     162     |     57      |\n",
    "|   17   |     164     |     59      |\n",
    "|   18   |     161     |     56      |\n",
    "|   19   |     174     |     72      |\n",
    "|   20   |     167     |     64      |\n",
    "```\n",
    "\n",
    "Your goal is to apply k-means clustering to group the individuals into three clusters based on their height and weight attributes. You can use any programming language or software of your choice to implement the k-means algorithm and visualize the clusters.\n",
    "\n",
    "Python based solution\n",
    "Python-based solution using the scikit-learn library to perform k-means clustering on the given dataset:\n"
   ]
  },
  {
   "cell_type": "code",
   "execution_count": 1,
   "metadata": {},
   "outputs": [],
   "source": [
    "import numpy as np\n",
    "from sklearn.cluster import KMeans"
   ]
  },
  {
   "attachments": {},
   "cell_type": "markdown",
   "metadata": {},
   "source": [
    "# Define the dataset"
   ]
  },
  {
   "cell_type": "code",
   "execution_count": 2,
   "metadata": {},
   "outputs": [],
   "source": [
    "data = np.array([\n",
    "    [160, 55],\n",
    "    [165, 60],\n",
    "    [170, 68],\n",
    "    [155, 45],\n",
    "    [175, 70],\n",
    "    [180, 75],\n",
    "    [163, 58],\n",
    "    [168, 62],\n",
    "    [172, 65],\n",
    "    [158, 50],\n",
    "    [166, 63],\n",
    "    [169, 66],\n",
    "    [159, 48],\n",
    "    [173, 71],\n",
    "    [171, 69],\n",
    "    [162, 57],\n",
    "    [164, 59],\n",
    "    [161, 56],\n",
    "    [174, 72],\n",
    "    [167, 64]\n",
    "])"
   ]
  },
  {
   "attachments": {},
   "cell_type": "markdown",
   "metadata": {},
   "source": [
    "# Perform k-means clustering with k=3"
   ]
  },
  {
   "cell_type": "code",
   "execution_count": 3,
   "metadata": {},
   "outputs": [
    {
     "name": "stderr",
     "output_type": "stream",
     "text": [
      "c:\\Users\\panka\\AppData\\Local\\Programs\\Python\\Python311\\Lib\\site-packages\\sklearn\\cluster\\_kmeans.py:870: FutureWarning: The default value of `n_init` will change from 10 to 'auto' in 1.4. Set the value of `n_init` explicitly to suppress the warning\n",
      "  warnings.warn(\n"
     ]
    },
    {
     "data": {
      "text/html": [
       "<style>#sk-container-id-1 {color: black;background-color: white;}#sk-container-id-1 pre{padding: 0;}#sk-container-id-1 div.sk-toggleable {background-color: white;}#sk-container-id-1 label.sk-toggleable__label {cursor: pointer;display: block;width: 100%;margin-bottom: 0;padding: 0.3em;box-sizing: border-box;text-align: center;}#sk-container-id-1 label.sk-toggleable__label-arrow:before {content: \"▸\";float: left;margin-right: 0.25em;color: #696969;}#sk-container-id-1 label.sk-toggleable__label-arrow:hover:before {color: black;}#sk-container-id-1 div.sk-estimator:hover label.sk-toggleable__label-arrow:before {color: black;}#sk-container-id-1 div.sk-toggleable__content {max-height: 0;max-width: 0;overflow: hidden;text-align: left;background-color: #f0f8ff;}#sk-container-id-1 div.sk-toggleable__content pre {margin: 0.2em;color: black;border-radius: 0.25em;background-color: #f0f8ff;}#sk-container-id-1 input.sk-toggleable__control:checked~div.sk-toggleable__content {max-height: 200px;max-width: 100%;overflow: auto;}#sk-container-id-1 input.sk-toggleable__control:checked~label.sk-toggleable__label-arrow:before {content: \"▾\";}#sk-container-id-1 div.sk-estimator input.sk-toggleable__control:checked~label.sk-toggleable__label {background-color: #d4ebff;}#sk-container-id-1 div.sk-label input.sk-toggleable__control:checked~label.sk-toggleable__label {background-color: #d4ebff;}#sk-container-id-1 input.sk-hidden--visually {border: 0;clip: rect(1px 1px 1px 1px);clip: rect(1px, 1px, 1px, 1px);height: 1px;margin: -1px;overflow: hidden;padding: 0;position: absolute;width: 1px;}#sk-container-id-1 div.sk-estimator {font-family: monospace;background-color: #f0f8ff;border: 1px dotted black;border-radius: 0.25em;box-sizing: border-box;margin-bottom: 0.5em;}#sk-container-id-1 div.sk-estimator:hover {background-color: #d4ebff;}#sk-container-id-1 div.sk-parallel-item::after {content: \"\";width: 100%;border-bottom: 1px solid gray;flex-grow: 1;}#sk-container-id-1 div.sk-label:hover label.sk-toggleable__label {background-color: #d4ebff;}#sk-container-id-1 div.sk-serial::before {content: \"\";position: absolute;border-left: 1px solid gray;box-sizing: border-box;top: 0;bottom: 0;left: 50%;z-index: 0;}#sk-container-id-1 div.sk-serial {display: flex;flex-direction: column;align-items: center;background-color: white;padding-right: 0.2em;padding-left: 0.2em;position: relative;}#sk-container-id-1 div.sk-item {position: relative;z-index: 1;}#sk-container-id-1 div.sk-parallel {display: flex;align-items: stretch;justify-content: center;background-color: white;position: relative;}#sk-container-id-1 div.sk-item::before, #sk-container-id-1 div.sk-parallel-item::before {content: \"\";position: absolute;border-left: 1px solid gray;box-sizing: border-box;top: 0;bottom: 0;left: 50%;z-index: -1;}#sk-container-id-1 div.sk-parallel-item {display: flex;flex-direction: column;z-index: 1;position: relative;background-color: white;}#sk-container-id-1 div.sk-parallel-item:first-child::after {align-self: flex-end;width: 50%;}#sk-container-id-1 div.sk-parallel-item:last-child::after {align-self: flex-start;width: 50%;}#sk-container-id-1 div.sk-parallel-item:only-child::after {width: 0;}#sk-container-id-1 div.sk-dashed-wrapped {border: 1px dashed gray;margin: 0 0.4em 0.5em 0.4em;box-sizing: border-box;padding-bottom: 0.4em;background-color: white;}#sk-container-id-1 div.sk-label label {font-family: monospace;font-weight: bold;display: inline-block;line-height: 1.2em;}#sk-container-id-1 div.sk-label-container {text-align: center;}#sk-container-id-1 div.sk-container {/* jupyter's `normalize.less` sets `[hidden] { display: none; }` but bootstrap.min.css set `[hidden] { display: none !important; }` so we also need the `!important` here to be able to override the default hidden behavior on the sphinx rendered scikit-learn.org. See: https://github.com/scikit-learn/scikit-learn/issues/21755 */display: inline-block !important;position: relative;}#sk-container-id-1 div.sk-text-repr-fallback {display: none;}</style><div id=\"sk-container-id-1\" class=\"sk-top-container\"><div class=\"sk-text-repr-fallback\"><pre>KMeans(n_clusters=3, random_state=42)</pre><b>In a Jupyter environment, please rerun this cell to show the HTML representation or trust the notebook. <br />On GitHub, the HTML representation is unable to render, please try loading this page with nbviewer.org.</b></div><div class=\"sk-container\" hidden><div class=\"sk-item\"><div class=\"sk-estimator sk-toggleable\"><input class=\"sk-toggleable__control sk-hidden--visually\" id=\"sk-estimator-id-1\" type=\"checkbox\" checked><label for=\"sk-estimator-id-1\" class=\"sk-toggleable__label sk-toggleable__label-arrow\">KMeans</label><div class=\"sk-toggleable__content\"><pre>KMeans(n_clusters=3, random_state=42)</pre></div></div></div></div></div>"
      ],
      "text/plain": [
       "KMeans(n_clusters=3, random_state=42)"
      ]
     },
     "execution_count": 3,
     "metadata": {},
     "output_type": "execute_result"
    }
   ],
   "source": [
    "kmeans = KMeans(n_clusters=3, random_state=42)\n",
    "kmeans.fit(data)"
   ]
  },
  {
   "attachments": {},
   "cell_type": "markdown",
   "metadata": {},
   "source": [
    "# Get the cluster labels and cluster centers"
   ]
  },
  {
   "cell_type": "code",
   "execution_count": 4,
   "metadata": {},
   "outputs": [],
   "source": [
    "\n",
    "labels = kmeans.labels_\n",
    "centers = kmeans.cluster_centers_\n"
   ]
  },
  {
   "attachments": {},
   "cell_type": "markdown",
   "metadata": {},
   "source": [
    "# Print the assigned cluster labels for each data point"
   ]
  },
  {
   "cell_type": "code",
   "execution_count": 5,
   "metadata": {},
   "outputs": [
    {
     "name": "stdout",
     "output_type": "stream",
     "text": [
      "Person 1: Cluster 1\n",
      "Person 2: Cluster 1\n",
      "Person 3: Cluster 2\n",
      "Person 4: Cluster 3\n",
      "Person 5: Cluster 2\n",
      "Person 6: Cluster 2\n",
      "Person 7: Cluster 1\n",
      "Person 8: Cluster 1\n",
      "Person 9: Cluster 2\n",
      "Person 10: Cluster 3\n",
      "Person 11: Cluster 1\n",
      "Person 12: Cluster 2\n",
      "Person 13: Cluster 3\n",
      "Person 14: Cluster 2\n",
      "Person 15: Cluster 2\n",
      "Person 16: Cluster 1\n",
      "Person 17: Cluster 1\n",
      "Person 18: Cluster 1\n",
      "Person 19: Cluster 2\n",
      "Person 20: Cluster 1\n"
     ]
    }
   ],
   "source": [
    "for i, label in enumerate(labels):\n",
    "    print(\"Person {}: Cluster {}\".format(i + 1, label + 1))"
   ]
  },
  {
   "attachments": {},
   "cell_type": "markdown",
   "metadata": {},
   "source": [
    "# Print the cluster centers"
   ]
  },
  {
   "cell_type": "code",
   "execution_count": 6,
   "metadata": {},
   "outputs": [
    {
     "name": "stdout",
     "output_type": "stream",
     "text": [
      "\n",
      "Cluster Centers:\n",
      "Cluster 1: Height = 164.00 cm, Weight = 59.33 kg\n",
      "Cluster 2: Height = 173.00 cm, Weight = 69.50 kg\n",
      "Cluster 3: Height = 157.33 cm, Weight = 47.67 kg\n"
     ]
    }
   ],
   "source": [
    "print(\"\\nCluster Centers:\")\n",
    "for i, center in enumerate(centers):\n",
    "    print(\"Cluster {}: Height = {:.2f} cm, Weight = {:.2f} kg\".format(i + 1, center[0], center[1]))\n"
   ]
  },
  {
   "attachments": {},
   "cell_type": "markdown",
   "metadata": {},
   "source": [
    "This solution uses the scikit-learn library's `KMeans` class to perform k-means clustering. The dataset is defined as a NumPy array, and the `KMeans` object is initialized with `n_clusters=3` to indicate that we want to group the data into three clusters.\n",
    "\n",
    "After fitting the k-means model to the data using the `fit()` method, we obtain the cluster labels for each data point using `kmeans.labels_`, and the cluster centers using `kmeans.cluster_centers_`. We then print the assigned cluster labels for each person and the coordinates of the cluster centers.\n",
    "\n",
    "You can run this Python code to see the assigned clusters and the corresponding cluster centers for the given dataset."
   ]
  },
  {
   "attachments": {},
   "cell_type": "markdown",
   "metadata": {},
   "source": [
    "# second problem"
   ]
  },
  {
   "attachments": {},
   "cell_type": "markdown",
   "metadata": {},
   "source": [
    "Hierarchical k-means clustering problem:\n",
    "\n",
    "Problem:\n",
    "You have a dataset of 12 data points representing students. Each student is described by two attributes: their scores on a Math test and their scores on a Science test. Your task is to perform hierarchical k-means clustering to group these students based on their test scores. The dataset is as follows:\n",
    "\n",
    "```\n",
    "| Student | Math Score | Science Score |\n",
    "|---------|------------|---------------|\n",
    "|   1     |     70     |      85       |\n",
    "|   2     |     95     |      80       |\n",
    "|   3     |     50     |      60       |\n",
    "|   4     |     60     |      50       |\n",
    "|   5     |     80     |      70       |\n",
    "|   6     |     75     |      75       |\n",
    "|   7     |     65     |      90       |\n",
    "|   8     |     90     |      95       |\n",
    "|   9     |     85     |      65       |\n",
    "|   10    |     55     |      55       |\n",
    "|   11    |     70     |      75       |\n",
    "|   12    |     80     |      90       |\n",
    "```\n",
    "\n",
    "Your goal is to apply hierarchical k-means clustering to group the students based on their Math and Science test scores. You can use any programming language or software of your choice to implement the hierarchical k-means algorithm and visualize the resulting clusters.\n",
    "\n",
    "The purpose of this exercise is to help students understand how hierarchical k-means clustering works and how it can be used to recursively group similar data points. They can observe the results and analyze the hierarchical structure of the clusters based on the students' test scores.\n",
    "\n",
    "Python based solution:\n",
    "solution to the hierarchical k-means clustering problem using Python and the `scipy` library:"
   ]
  },
  {
   "cell_type": "code",
   "execution_count": 7,
   "metadata": {},
   "outputs": [],
   "source": [
    "#importing the libraries\n",
    "\n",
    "import numpy as np\n",
    "from sklearn.cluster import AgglomerativeClustering\n",
    "from scipy.cluster.hierarchy import dendrogram, linkage\n",
    "import matplotlib.pyplot as plt\n"
   ]
  },
  {
   "attachments": {},
   "cell_type": "markdown",
   "metadata": {},
   "source": [
    "# Dataset"
   ]
  },
  {
   "cell_type": "code",
   "execution_count": 18,
   "metadata": {},
   "outputs": [],
   "source": [
    "data = np.array([\n",
    "    [70, 85],\n",
    "    [95, 80],\n",
    "    [50, 60],\n",
    "    [60, 50],\n",
    "    [80, 70],\n",
    "    [75, 75],\n",
    "    [65, 90],\n",
    "    [90, 95],\n",
    "    [85, 65],\n",
    "    [55, 55],\n",
    "    [70, 75],\n",
    "    [80, 90]\n",
    "])\n"
   ]
  },
  {
   "attachments": {},
   "cell_type": "markdown",
   "metadata": {},
   "source": [
    "\n",
    "# Perform hierarchical k-means clustering"
   ]
  },
  {
   "cell_type": "code",
   "execution_count": 8,
   "metadata": {},
   "outputs": [],
   "source": [
    "k = 3\n",
    "hierarchical_kmeans = AgglomerativeClustering(n_clusters=k)\n",
    "labels = hierarchical_kmeans.fit_predict(data)"
   ]
  },
  {
   "attachments": {},
   "cell_type": "markdown",
   "metadata": {},
   "source": [
    "# Plot the dendrogram"
   ]
  },
  {
   "cell_type": "code",
   "execution_count": 28,
   "metadata": {},
   "outputs": [
    {
     "data": {
      "image/png": "[encoded data removed]",
      "text/plain": [
       "<Figure size 800x600 with 1 Axes>"
      ]
     },
     "metadata": {},
     "output_type": "display_data"
    }
   ],
   "source": [
    "Z = linkage(data, method='ward')\n",
    "plt.figure(figsize=(8, 6))\n",
    "plt.title('Hierarchical Clustering Dendrogram')\n",
    "plt.xlabel('Student')\n",
    "plt.ylabel('Distance')\n",
    "dendrogram(Z, labels=np.arange(1, 13), leaf_rotation=90)\n",
    "plt.show()\n",
    "\n"
   ]
  },
  {
   "attachments": {},
   "cell_type": "markdown",
   "metadata": {},
   "source": [
    "# Print the assigned cluster labels for each student"
   ]
  },
  {
   "cell_type": "code",
   "execution_count": 15,
   "metadata": {},
   "outputs": [
    {
     "name": "stdout",
     "output_type": "stream",
     "text": [
      "Student 1: Cluster 1\n",
      "Student 2: Cluster 1\n",
      "Student 3: Cluster 2\n",
      "Student 4: Cluster 3\n",
      "Student 5: Cluster 2\n",
      "Student 6: Cluster 2\n",
      "Student 7: Cluster 1\n",
      "Student 8: Cluster 1\n",
      "Student 9: Cluster 2\n",
      "Student 10: Cluster 3\n",
      "Student 11: Cluster 1\n",
      "Student 12: Cluster 2\n",
      "Student 13: Cluster 3\n",
      "Student 14: Cluster 2\n",
      "Student 15: Cluster 2\n",
      "Student 16: Cluster 1\n",
      "Student 17: Cluster 1\n",
      "Student 18: Cluster 1\n",
      "Student 19: Cluster 2\n",
      "Student 20: Cluster 1\n"
     ]
    }
   ],
   "source": [
    "for i, label in enumerate(labels):\n",
    "    print(\"Student {}: Cluster {}\".format(i + 1, label + 1))"
   ]
  },
  {
   "attachments": {},
   "cell_type": "markdown",
   "metadata": {},
   "source": [
    "In this solution, we use the `AgglomerativeClustering` class from `scikit-learn` to perform hierarchical k-means clustering. We set the number of clusters (`k`) to 3. The `fit_predict()` method is used to fit the clustering model to the data and obtain the cluster labels for each student.\n",
    "\n",
    "We also plot the dendrogram using `dendrogram()` from the `scipy.cluster.hierarchy` module to visualize the hierarchical clustering structure. The `labels` argument is set to a sequence of numbers to label each data point.\n",
    "\n",
    "Finally, we print the assigned cluster labels for each student based on the hierarchical k-means clustering results.\n",
    "\n",
    "You can run this Python code to perform hierarchical k-means clustering on the given dataset and visualize the dendrogram."
   ]
  },
  {
   "attachments": {},
   "cell_type": "markdown",
   "metadata": {},
   "source": [
    "# third problem\n"
   ]
  },
  {
   "attachments": {},
   "cell_type": "markdown",
   "metadata": {},
   "source": [
    "In this problem, we will consider a simple two-dimensional dataset.\n",
    "\n",
    "Dataset:\n",
    "Suppose we have a small dataset of points in a 2D space, represented by their x and y coordinates:\n",
    "\n",
    "\n",
    "Point   X-coordinate    Y-coordinate\n",
    "-----------------------------------\n",
    "1       2               3\n",
    "2       2               4\n",
    "3       3               3\n",
    "4       3               4\n",
    "5       8               7\n",
    "6       9               6\n",
    "7       9               7\n",
    "8       10              6\n",
    "\n",
    "\n",
    "Problem:\n",
    "Your task is to apply the DBSCAN algorithm to cluster the given dataset into groups based on density and identify any outliers or noise points.\n",
    "\n",
    "Steps to follow:\n",
    "1. Start with an epsilon (ε) distance threshold and a minimum number of points (MinPts) required within ε distance to form a dense region.\n",
    "2. Choose a point randomly from the dataset that has not been visited.\n",
    "3. Retrieve all the points within ε distance (inclusive) of the chosen point.\n",
    "4. If the number of retrieved points is greater than or equal to MinPts, mark the chosen point as a core point and create a new cluster.\n",
    "5. Expand the cluster by recursively adding all directly reachable points from the core point within ε distance.\n",
    "6. Repeat steps 2-5 until all points have been visited.\n",
    "7. If a point is not a core point but lies within ε distance of another core point, assign it to that cluster.\n",
    "8. Any unvisited points that are not within ε distance of any core points are considered outliers or noise.\n",
    "\n",
    "Task:\n",
    "Your task is to implement the DBSCAN algorithm on the given dataset and identify the clusters along with any noise points. You can use any programming language or software of your choice.\n",
    "\n",
    "\n",
    "Solution:\n",
    "\n",
    "Certainly! Here's a possible solution to the DBSCAN problem using the provided dataset:\n"
   ]
  },
  {
   "attachments": {},
   "cell_type": "markdown",
   "metadata": {},
   "source": [
    "# importing modules\n"
   ]
  },
  {
   "cell_type": "code",
   "execution_count": 20,
   "metadata": {},
   "outputs": [],
   "source": [
    "import numpy as np\n",
    "from sklearn.cluster import DBSCAN\n"
   ]
  },
  {
   "attachments": {},
   "cell_type": "markdown",
   "metadata": {},
   "source": [
    "# Dataset"
   ]
  },
  {
   "cell_type": "code",
   "execution_count": 21,
   "metadata": {},
   "outputs": [],
   "source": [
    "X = np.array([[2, 3],\n",
    "              [2, 4],\n",
    "              [3, 3],\n",
    "              [3, 4],\n",
    "              [8, 7],\n",
    "              [9, 6],\n",
    "              [9, 7],\n",
    "              [10, 6]])"
   ]
  },
  {
   "attachments": {},
   "cell_type": "markdown",
   "metadata": {},
   "source": [
    "# DBSCAN"
   ]
  },
  {
   "cell_type": "code",
   "execution_count": 23,
   "metadata": {},
   "outputs": [],
   "source": [
    "epsilon = 1.5  # Distance threshold\n",
    "min_samples = 2  # Minimum points to form a dense region\n",
    "dbscan = DBSCAN(eps=epsilon, min_samples=min_samples)\n",
    "labels = dbscan.fit_predict(X)\n"
   ]
  },
  {
   "attachments": {},
   "cell_type": "markdown",
   "metadata": {},
   "source": [
    "# cluster assignment\n"
   ]
  },
  {
   "cell_type": "code",
   "execution_count": 24,
   "metadata": {},
   "outputs": [],
   "source": [
    "\n",
    "core_samples_mask = np.zeros_like(dbscan.labels_, dtype=bool)\n",
    "core_samples_mask[dbscan.core_sample_indices_] = True\n",
    "n_clusters = len(set(labels)) - (1 if -1 in labels else 0)\n",
    "n_noise = list(labels).count(-1)\n"
   ]
  },
  {
   "attachments": {},
   "cell_type": "markdown",
   "metadata": {},
   "source": [
    "# Results"
   ]
  },
  {
   "cell_type": "code",
   "execution_count": 25,
   "metadata": {},
   "outputs": [
    {
     "name": "stdout",
     "output_type": "stream",
     "text": [
      "Cluster assignments:\n",
      "Cluster 1:\n",
      "[[2 3]\n",
      " [2 4]\n",
      " [3 3]\n",
      " [3 4]]\n",
      "Cluster 2:\n",
      "[[ 8  7]\n",
      " [ 9  6]\n",
      " [ 9  7]\n",
      " [10  6]]\n",
      "Noise points: 0\n"
     ]
    }
   ],
   "source": [
    "print(\"Cluster assignments:\")\n",
    "for i in range(n_clusters):\n",
    "    print(f\"Cluster {i+1}:\")\n",
    "    cluster_points = X[labels == i]\n",
    "    print(cluster_points)\n",
    "\n",
    "print(f\"Noise points: {n_noise}\")"
   ]
  },
  {
   "attachments": {},
   "cell_type": "markdown",
   "metadata": {},
   "source": [
    "\n",
    "Explanation:\n",
    "In the provided solution, we first import the necessary libraries, including `numpy` for data manipulation and `sklearn.cluster.DBSCAN` for performing the DBSCAN clustering. We then define the epsilon distance threshold and the minimum number of points required to form a dense region.\n",
    "\n",
    "We create an instance of the DBSCAN algorithm with the specified parameters and fit it to the dataset `X`. The `fit_predict()` method assigns cluster labels to each point in the dataset based on the DBSCAN algorithm.\n",
    "\n",
    "We then extract the core samples mask to identify the core points and count the number of clusters and noise points. Finally, we print the cluster assignments and the noise points.\n",
    "\n",
    "In this example, the DBSCAN algorithm identifies two clusters. Cluster 1 contains points `[2 3]`, `[2 4]`, `[3 3]`, and `[3 4]`, while Cluster 2 contains points `[8 7]`, `[9 6]`, `[9 7]`, and `[10 6]`. There are no noise points in this case.\n",
    "\n",
    "Note: The actual DBSCAN results may vary depending on the implementation and the choice of parameters. Feel free to experiment with different values of `epsilon` and `min_samples` to explore the effects on clustering and noise detection."
   ]
  }
 ],
 "metadata": {
  "kernelspec": {
   "display_name": "Python 3",
   "language": "python",
   "name": "python3"
  },
  "language_info": {
   "codemirror_mode": {
    "name": "ipython",
    "version": 3
   },
   "file_extension": ".py",
   "mimetype": "text/x-python",
   "name": "python",
   "nbconvert_exporter": "python",
   "pygments_lexer": "ipython3",
   "version": "3.11.4"
  },
  "orig_nbformat": 4
 },
 "nbformat": 4,
 "nbformat_minor": 2
}
