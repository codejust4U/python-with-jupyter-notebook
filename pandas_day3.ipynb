{
 "cells": [
  {
   "cell_type": "code",
   "execution_count": 1,
   "metadata": {},
   "outputs": [
    {
     "data": {
      "text/plain": [
       "446    12000000.0\n",
       "447     1175880.0\n",
       "448    15409570.0\n",
       "449     1348440.0\n",
       "450     2050000.0\n",
       "451      981348.0\n",
       "452     2239800.0\n",
       "453     2433333.0\n",
       "454      900000.0\n",
       "455     2900000.0\n",
       "456      947276.0\n",
       "457           NaN\n",
       "Name: Salary, dtype: float64"
      ]
     },
     "execution_count": 1,
     "metadata": {},
     "output_type": "execute_result"
    }
   ],
   "source": [
    "import pandas as pd\n",
    "\n",
    "data1 = pd.read_csv(r'D:\\excel_datas\\day4\\nba.csv')\n",
    "\n",
    "n=12\n",
    "\n",
    "series1 = data1[\"Salary\"]\n",
    "bottom1 = series1.tail(n=n)\n",
    "bottom1"
   ]
  },
  {
   "cell_type": "code",
   "execution_count": 4,
   "metadata": {},
   "outputs": [
    {
     "name": "stdout",
     "output_type": "stream",
     "text": [
      "                 Name                  Team      Number Position         Age   \n",
      "count             364                   364  364.000000      364  364.000000  \\\n",
      "unique            364                    30         NaN        5         NaN   \n",
      "top     Avery Bradley  New Orleans Pelicans         NaN       SG         NaN   \n",
      "freq                1                    16         NaN       87         NaN   \n",
      "mean              NaN                   NaN   16.829670      NaN   26.615385   \n",
      "std               NaN                   NaN   14.994162      NaN    4.233591   \n",
      "min               NaN                   NaN    0.000000      NaN   19.000000   \n",
      "30%               NaN                   NaN    6.900000      NaN   24.000000   \n",
      "40%               NaN                   NaN    9.000000      NaN   25.000000   \n",
      "50%               NaN                   NaN   12.000000      NaN   26.000000   \n",
      "60%               NaN                   NaN   17.000000      NaN   27.000000   \n",
      "max               NaN                   NaN   99.000000      NaN   40.000000   \n",
      "\n",
      "       Height      Weight   College        Salary  \n",
      "count     364  364.000000       364  3.640000e+02  \n",
      "unique     17         NaN       115           NaN  \n",
      "top       6-9         NaN  Kentucky           NaN  \n",
      "freq       49         NaN        22           NaN  \n",
      "mean      NaN  219.785714       NaN  4.620311e+06  \n",
      "std       NaN   24.793099       NaN  5.119716e+06  \n",
      "min       NaN  161.000000       NaN  5.572200e+04  \n",
      "30%       NaN  205.000000       NaN  1.146836e+06  \n",
      "40%       NaN  212.000000       NaN  1.638754e+06  \n",
      "50%       NaN  220.000000       NaN  2.515440e+06  \n",
      "60%       NaN  228.000000       NaN  3.429934e+06  \n",
      "max       NaN  279.000000       NaN  2.287500e+07  \n",
      "------------------------------------------------------------------\n"
     ]
    },
    {
     "data": {
      "text/plain": [
       "count               364\n",
       "unique              364\n",
       "top       Avery Bradley\n",
       "freq                  1\n",
       "Name: Name, dtype: object"
      ]
     },
     "execution_count": 4,
     "metadata": {},
     "output_type": "execute_result"
    }
   ],
   "source": [
    "import pandas as pd\n",
    "import re\n",
    "\n",
    "data2 = pd.read_csv(r'D:\\excel_datas\\day4\\nba.csv')\n",
    "#removing null\n",
    "data2.dropna(inplace=True)\n",
    "\n",
    "#list of percentag\n",
    "percentile1 = [.30,.40,.60]\n",
    "include1 = ['object','float','int']\n",
    "\n",
    "describe1 = data2.describe(percentiles=percentile1,include=include1)\n",
    "\n",
    "print(describe1)\n",
    "\n",
    "\n",
    "print(\"------------------------------------------------------------------\")\n",
    "\n",
    "describe2 = data2[\"Name\"].describe()\n",
    "describe2"
   ]
  }
 ],
 "metadata": {
  "kernelspec": {
   "display_name": "Python 3",
   "language": "python",
   "name": "python3"
  },
  "language_info": {
   "codemirror_mode": {
    "name": "ipython",
    "version": 3
   },
   "file_extension": ".py",
   "mimetype": "text/x-python",
   "name": "python",
   "nbconvert_exporter": "python",
   "pygments_lexer": "ipython3",
   "version": "3.11.2"
  },
  "orig_nbformat": 4
 },
 "nbformat": 4,
 "nbformat_minor": 2
}
