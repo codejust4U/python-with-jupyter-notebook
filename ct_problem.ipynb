{
 "cells": [
  {
   "cell_type": "code",
   "execution_count": 93,
   "metadata": {},
   "outputs": [],
   "source": [
    "import numpy as np\n",
    "import pandas as pd\n",
    "import math"
   ]
  },
  {
   "cell_type": "code",
   "execution_count": 94,
   "metadata": {},
   "outputs": [],
   "source": [
    "df=pd.read_excel(r\"D:\\datas\\mlt_data1.xlsx\")"
   ]
  },
  {
   "cell_type": "code",
   "execution_count": 95,
   "metadata": {},
   "outputs": [
    {
     "data": {
      "text/html": [
       "<div>\n",
       "<style scoped>\n",
       "    .dataframe tbody tr th:only-of-type {\n",
       "        vertical-align: middle;\n",
       "    }\n",
       "\n",
       "    .dataframe tbody tr th {\n",
       "        vertical-align: top;\n",
       "    }\n",
       "\n",
       "    .dataframe thead th {\n",
       "        text-align: right;\n",
       "    }\n",
       "</style>\n",
       "<table border=\"1\" class=\"dataframe\">\n",
       "  <thead>\n",
       "    <tr style=\"text-align: right;\">\n",
       "      <th></th>\n",
       "      <th>age</th>\n",
       "      <th>competition</th>\n",
       "      <th>type</th>\n",
       "      <th>profit</th>\n",
       "    </tr>\n",
       "  </thead>\n",
       "  <tbody>\n",
       "    <tr>\n",
       "      <th>0</th>\n",
       "      <td>old</td>\n",
       "      <td>yes</td>\n",
       "      <td>sw</td>\n",
       "      <td>down</td>\n",
       "    </tr>\n",
       "    <tr>\n",
       "      <th>1</th>\n",
       "      <td>old</td>\n",
       "      <td>no</td>\n",
       "      <td>sw</td>\n",
       "      <td>down</td>\n",
       "    </tr>\n",
       "    <tr>\n",
       "      <th>2</th>\n",
       "      <td>old</td>\n",
       "      <td>no</td>\n",
       "      <td>hw</td>\n",
       "      <td>down</td>\n",
       "    </tr>\n",
       "    <tr>\n",
       "      <th>3</th>\n",
       "      <td>mid</td>\n",
       "      <td>yes</td>\n",
       "      <td>sw</td>\n",
       "      <td>down</td>\n",
       "    </tr>\n",
       "    <tr>\n",
       "      <th>4</th>\n",
       "      <td>mid</td>\n",
       "      <td>yes</td>\n",
       "      <td>hw</td>\n",
       "      <td>down</td>\n",
       "    </tr>\n",
       "    <tr>\n",
       "      <th>5</th>\n",
       "      <td>mid</td>\n",
       "      <td>no</td>\n",
       "      <td>hw</td>\n",
       "      <td>up</td>\n",
       "    </tr>\n",
       "    <tr>\n",
       "      <th>6</th>\n",
       "      <td>mid</td>\n",
       "      <td>no</td>\n",
       "      <td>sw</td>\n",
       "      <td>up</td>\n",
       "    </tr>\n",
       "    <tr>\n",
       "      <th>7</th>\n",
       "      <td>new</td>\n",
       "      <td>yes</td>\n",
       "      <td>sw</td>\n",
       "      <td>up</td>\n",
       "    </tr>\n",
       "    <tr>\n",
       "      <th>8</th>\n",
       "      <td>new</td>\n",
       "      <td>no</td>\n",
       "      <td>hw</td>\n",
       "      <td>up</td>\n",
       "    </tr>\n",
       "    <tr>\n",
       "      <th>9</th>\n",
       "      <td>new</td>\n",
       "      <td>no</td>\n",
       "      <td>sw</td>\n",
       "      <td>up</td>\n",
       "    </tr>\n",
       "  </tbody>\n",
       "</table>\n",
       "</div>"
      ],
      "text/plain": [
       "   age competition type profit\n",
       "0  old         yes   sw   down\n",
       "1  old         no    sw   down\n",
       "2  old         no    hw   down\n",
       "3  mid         yes   sw   down\n",
       "4  mid         yes   hw   down\n",
       "5  mid         no    hw     up\n",
       "6  mid         no    sw     up\n",
       "7  new         yes   sw     up\n",
       "8  new          no   hw     up\n",
       "9  new          no   sw     up"
      ]
     },
     "execution_count": 95,
     "metadata": {},
     "output_type": "execute_result"
    }
   ],
   "source": [
    "df"
   ]
  },
  {
   "cell_type": "markdown",
   "metadata": {},
   "source": [
    "- profit column is the target attribute - so perpform IG\n",
    "\n",
    "IG = -((p/p+n)log base 2 (p/p+n)) - ((n/p+n)log base 2 (n/p+n))\n",
    "\n",
    "- on other column just calculate the entropy\n",
    "\n",
    "entropy = IG of the that segment * probability of that segment\n",
    "\n",
    "for all the types"
   ]
  },
  {
   "cell_type": "code",
   "execution_count": 96,
   "metadata": {},
   "outputs": [
    {
     "name": "stdout",
     "output_type": "stream",
     "text": [
      "The information gain :  1.0\n"
     ]
    }
   ],
   "source": [
    "p=5\n",
    "n=5\n",
    "pt=10\n",
    "\n",
    "IG_Profit = -((p/pt)*math.log2(p/pt))-((n/pt)*math.log2(n/pt))\n",
    "\n",
    "print(\"The information gain : \",IG_Profit)"
   ]
  },
  {
   "cell_type": "markdown",
   "metadata": {},
   "source": [
    "- for age"
   ]
  },
  {
   "cell_type": "code",
   "execution_count": 97,
   "metadata": {},
   "outputs": [
    {
     "data": {
      "text/html": [
       "<div>\n",
       "<style scoped>\n",
       "    .dataframe tbody tr th:only-of-type {\n",
       "        vertical-align: middle;\n",
       "    }\n",
       "\n",
       "    .dataframe tbody tr th {\n",
       "        vertical-align: top;\n",
       "    }\n",
       "\n",
       "    .dataframe thead th {\n",
       "        text-align: right;\n",
       "    }\n",
       "</style>\n",
       "<table border=\"1\" class=\"dataframe\">\n",
       "  <thead>\n",
       "    <tr style=\"text-align: right;\">\n",
       "      <th>profit</th>\n",
       "      <th>down</th>\n",
       "      <th>up</th>\n",
       "    </tr>\n",
       "    <tr>\n",
       "      <th>age</th>\n",
       "      <th></th>\n",
       "      <th></th>\n",
       "    </tr>\n",
       "  </thead>\n",
       "  <tbody>\n",
       "    <tr>\n",
       "      <th>mid</th>\n",
       "      <td>2</td>\n",
       "      <td>2</td>\n",
       "    </tr>\n",
       "    <tr>\n",
       "      <th>new</th>\n",
       "      <td>0</td>\n",
       "      <td>3</td>\n",
       "    </tr>\n",
       "    <tr>\n",
       "      <th>old</th>\n",
       "      <td>3</td>\n",
       "      <td>0</td>\n",
       "    </tr>\n",
       "  </tbody>\n",
       "</table>\n",
       "</div>"
      ],
      "text/plain": [
       "profit  down  up\n",
       "age             \n",
       "mid        2   2\n",
       "new        0   3\n",
       "old        3   0"
      ]
     },
     "execution_count": 97,
     "metadata": {},
     "output_type": "execute_result"
    }
   ],
   "source": [
    "pd.crosstab(df['age'],df['profit'])"
   ]
  },
  {
   "cell_type": "code",
   "execution_count": 98,
   "metadata": {},
   "outputs": [
    {
     "name": "stdout",
     "output_type": "stream",
     "text": [
      "The information gain of mid:  1.0\n",
      "The entropy of mid :  0.4\n"
     ]
    }
   ],
   "source": [
    "# mid column\n",
    "\n",
    "p=2\n",
    "n=2\n",
    "pt=4\n",
    "I_m = -((p/pt)*math.log2(p/pt))-((n/pt)*math.log2(n/pt))\n",
    "\n",
    "print(\"The information gain of mid: \",I_m)\n",
    "\n",
    "Entropy_m = I_m * (4/10)\n",
    "\n",
    "print(\"The entropy of mid : \",Entropy_m)"
   ]
  },
  {
   "cell_type": "code",
   "execution_count": 99,
   "metadata": {},
   "outputs": [
    {
     "name": "stdout",
     "output_type": "stream",
     "text": [
      "The information gain of new:  0\n",
      "The entropy of new :  0.0\n"
     ]
    }
   ],
   "source": [
    "# for new column\n",
    "\n",
    "p = 0\n",
    "n = 3\n",
    "pt = 3\n",
    "\n",
    "# Calculate Information Gain\n",
    "I_n = 0  # Initialize Information Gain to 0\n",
    "\n",
    "if p > 0 and n > 0 and pt > 0:\n",
    "    I_n = -((p/pt) * math.log2(p/pt)) - ((n/pt) * math.log2(n/pt))\n",
    "\n",
    "print(\"The information gain of new: \", I_n)\n",
    "\n",
    "# Calculate Entropy\n",
    "Entropy_n = I_n * (3/10)\n",
    "\n",
    "print(\"The entropy of new : \", Entropy_n)\n"
   ]
  },
  {
   "cell_type": "code",
   "execution_count": 100,
   "metadata": {},
   "outputs": [
    {
     "name": "stdout",
     "output_type": "stream",
     "text": [
      "The information gain of old:  0\n",
      "The entropy of old :  0.0\n"
     ]
    }
   ],
   "source": [
    "\n",
    "# for old column\n",
    "\n",
    "p = 0\n",
    "n = 3\n",
    "pt = 3\n",
    "\n",
    "# Calculate Information Gain\n",
    "I_o = 0  # Initialize Information Gain to 0\n",
    "\n",
    "if p > 0 and n > 0 and pt > 0:\n",
    "    I_o = -((p/pt) * math.log2(p/pt)) - ((n/pt) * math.log2(n/pt))\n",
    "\n",
    "print(\"The information gain of old: \", I_n)\n",
    "\n",
    "# Calculate Entropy\n",
    "Entropy_o = I_o * (3/10)\n",
    "\n",
    "print(\"The entropy of old : \", Entropy_o)\n"
   ]
  },
  {
   "cell_type": "code",
   "execution_count": 101,
   "metadata": {},
   "outputs": [
    {
     "name": "stdout",
     "output_type": "stream",
     "text": [
      "Gain =  0.6\n"
     ]
    }
   ],
   "source": [
    "print(\"Gain = \",1-0.4)"
   ]
  },
  {
   "cell_type": "markdown",
   "metadata": {},
   "source": [
    "- for competition column"
   ]
  },
  {
   "cell_type": "code",
   "execution_count": 102,
   "metadata": {},
   "outputs": [
    {
     "data": {
      "text/html": [
       "<div>\n",
       "<style scoped>\n",
       "    .dataframe tbody tr th:only-of-type {\n",
       "        vertical-align: middle;\n",
       "    }\n",
       "\n",
       "    .dataframe tbody tr th {\n",
       "        vertical-align: top;\n",
       "    }\n",
       "\n",
       "    .dataframe thead th {\n",
       "        text-align: right;\n",
       "    }\n",
       "</style>\n",
       "<table border=\"1\" class=\"dataframe\">\n",
       "  <thead>\n",
       "    <tr style=\"text-align: right;\">\n",
       "      <th>profit</th>\n",
       "      <th>down</th>\n",
       "      <th>up</th>\n",
       "    </tr>\n",
       "    <tr>\n",
       "      <th>competition</th>\n",
       "      <th></th>\n",
       "      <th></th>\n",
       "    </tr>\n",
       "  </thead>\n",
       "  <tbody>\n",
       "    <tr>\n",
       "      <th>no</th>\n",
       "      <td>0</td>\n",
       "      <td>2</td>\n",
       "    </tr>\n",
       "    <tr>\n",
       "      <th>no</th>\n",
       "      <td>2</td>\n",
       "      <td>2</td>\n",
       "    </tr>\n",
       "    <tr>\n",
       "      <th>yes</th>\n",
       "      <td>3</td>\n",
       "      <td>1</td>\n",
       "    </tr>\n",
       "  </tbody>\n",
       "</table>\n",
       "</div>"
      ],
      "text/plain": [
       "profit       down  up\n",
       "competition          \n",
       "no              0   2\n",
       "no              2   2\n",
       "yes             3   1"
      ]
     },
     "execution_count": 102,
     "metadata": {},
     "output_type": "execute_result"
    }
   ],
   "source": [
    "pd.crosstab(df['competition'],df['profit'])"
   ]
  },
  {
   "cell_type": "code",
   "execution_count": 103,
   "metadata": {},
   "outputs": [
    {
     "name": "stdout",
     "output_type": "stream",
     "text": [
      "The information gain of yes:  0.8112781244591328\n",
      "The entropy of yes :  0.32451124978365314\n"
     ]
    }
   ],
   "source": [
    "# for yes column\n",
    "\n",
    "p = 3\n",
    "n = 1\n",
    "pt = 4\n",
    "\n",
    "# Calculate Information Gain\n",
    "I_Y = 0  # Initialize Information Gain to 0\n",
    "\n",
    "if p > 0 and n > 0 and pt > 0:\n",
    "    I_Y = -((p/pt) * math.log2(p/pt)) - ((n/pt) * math.log2(n/pt))\n",
    "\n",
    "print(\"The information gain of yes: \", I_Y)\n",
    "\n",
    "# Calculate Entropy\n",
    "Entropy_Y = I_Y * (4/10)\n",
    "\n",
    "print(\"The entropy of yes : \", Entropy_Y)\n"
   ]
  },
  {
   "cell_type": "code",
   "execution_count": 104,
   "metadata": {},
   "outputs": [
    {
     "name": "stdout",
     "output_type": "stream",
     "text": [
      "The information gain of No:  0.8899750004807708\n",
      "The entropy of No :  0.5339850002884625\n"
     ]
    }
   ],
   "source": [
    "# for no column\n",
    "\n",
    "p = 3\n",
    "n = 4\n",
    "pt = 6\n",
    "\n",
    "# Calculate Information Gain\n",
    "I_No = 0  # Initialize Information Gain to 0\n",
    "\n",
    "if p > 0 and n > 0 and pt > 0:\n",
    "    I_No = -((p/pt) * math.log2(p/pt)) - ((n/pt) * math.log2(n/pt))\n",
    "\n",
    "print(\"The information gain of No: \", I_No)\n",
    "\n",
    "# Calculate Entropy\n",
    "Entropy_No = I_No * (6/10)\n",
    "\n",
    "print(\"The entropy of No : \", Entropy_No)\n"
   ]
  },
  {
   "cell_type": "code",
   "execution_count": 105,
   "metadata": {},
   "outputs": [
    {
     "data": {
      "text/plain": [
       "0.8584962500721156"
      ]
     },
     "execution_count": 105,
     "metadata": {},
     "output_type": "execute_result"
    }
   ],
   "source": [
    "I_T = Entropy_Y+Entropy_No\n",
    "I_T"
   ]
  },
  {
   "cell_type": "code",
   "execution_count": 106,
   "metadata": {},
   "outputs": [
    {
     "name": "stdout",
     "output_type": "stream",
     "text": [
      "Gain =  0.1415037499278844\n"
     ]
    }
   ],
   "source": [
    "print(\"Gain = \",1-I_T)"
   ]
  },
  {
   "cell_type": "markdown",
   "metadata": {},
   "source": [
    "- for type column"
   ]
  },
  {
   "cell_type": "code",
   "execution_count": 107,
   "metadata": {},
   "outputs": [
    {
     "data": {
      "text/html": [
       "<div>\n",
       "<style scoped>\n",
       "    .dataframe tbody tr th:only-of-type {\n",
       "        vertical-align: middle;\n",
       "    }\n",
       "\n",
       "    .dataframe tbody tr th {\n",
       "        vertical-align: top;\n",
       "    }\n",
       "\n",
       "    .dataframe thead th {\n",
       "        text-align: right;\n",
       "    }\n",
       "</style>\n",
       "<table border=\"1\" class=\"dataframe\">\n",
       "  <thead>\n",
       "    <tr style=\"text-align: right;\">\n",
       "      <th>profit</th>\n",
       "      <th>down</th>\n",
       "      <th>up</th>\n",
       "    </tr>\n",
       "    <tr>\n",
       "      <th>type</th>\n",
       "      <th></th>\n",
       "      <th></th>\n",
       "    </tr>\n",
       "  </thead>\n",
       "  <tbody>\n",
       "    <tr>\n",
       "      <th>hw</th>\n",
       "      <td>2</td>\n",
       "      <td>2</td>\n",
       "    </tr>\n",
       "    <tr>\n",
       "      <th>sw</th>\n",
       "      <td>3</td>\n",
       "      <td>3</td>\n",
       "    </tr>\n",
       "  </tbody>\n",
       "</table>\n",
       "</div>"
      ],
      "text/plain": [
       "profit  down  up\n",
       "type            \n",
       "hw         2   2\n",
       "sw         3   3"
      ]
     },
     "execution_count": 107,
     "metadata": {},
     "output_type": "execute_result"
    }
   ],
   "source": [
    "pd.crosstab(df['type'],df['profit'])"
   ]
  },
  {
   "cell_type": "code",
   "execution_count": 108,
   "metadata": {},
   "outputs": [
    {
     "name": "stdout",
     "output_type": "stream",
     "text": [
      "The information gain of HW:  1.0\n",
      "The entropy of No :  0.4\n"
     ]
    }
   ],
   "source": [
    "# for hw column\n",
    "\n",
    "p = 2\n",
    "n = 2\n",
    "pt = 4\n",
    "\n",
    "# Calculate Information Gain\n",
    "I_HW = 0  # Initialize Information Gain to 0\n",
    "\n",
    "if p > 0 and n > 0 and pt > 0:\n",
    "    I_HW = -((p/pt) * math.log2(p/pt)) - ((n/pt) * math.log2(n/pt))\n",
    "\n",
    "print(\"The information gain of HW: \", I_HW)\n",
    "\n",
    "# Calculate Entropy\n",
    "Entropy_HW = I_HW * (4/10)\n",
    "\n",
    "print(\"The entropy of No : \", Entropy_HW)\n"
   ]
  },
  {
   "cell_type": "code",
   "execution_count": 109,
   "metadata": {},
   "outputs": [
    {
     "name": "stdout",
     "output_type": "stream",
     "text": [
      "The information gain of SW:  1.0\n",
      "The entropy of SW :  0.6\n"
     ]
    }
   ],
   "source": [
    "# for hw column\n",
    "\n",
    "p = 3\n",
    "n = 3\n",
    "pt = 6\n",
    "\n",
    "# Calculate Information Gain\n",
    "I_SW = 0  # Initialize Information Gain to 0\n",
    "\n",
    "if p > 0 and n > 0 and pt > 0:\n",
    "    I_SW = -((p/pt) * math.log2(p/pt)) - ((n/pt) * math.log2(n/pt))\n",
    "\n",
    "print(\"The information gain of SW: \", I_SW)\n",
    "\n",
    "# Calculate Entropy\n",
    "Entropy_SW = I_SW * (6/10)\n",
    "\n",
    "print(\"The entropy of SW : \", Entropy_SW)\n"
   ]
  },
  {
   "cell_type": "code",
   "execution_count": 110,
   "metadata": {},
   "outputs": [
    {
     "data": {
      "text/plain": [
       "1.0"
      ]
     },
     "execution_count": 110,
     "metadata": {},
     "output_type": "execute_result"
    }
   ],
   "source": [
    "I_T = Entropy_HW+Entropy_SW\n",
    "I_T"
   ]
  },
  {
   "cell_type": "code",
   "execution_count": 111,
   "metadata": {},
   "outputs": [
    {
     "name": "stdout",
     "output_type": "stream",
     "text": [
      "Gain =  0.0\n"
     ]
    }
   ],
   "source": [
    "print(\"Gain = \",1-I_T)"
   ]
  },
  {
   "cell_type": "markdown",
   "metadata": {},
   "source": [
    "- as we can see the gain of all three column, so the column having high value will be best column i.e Age"
   ]
  },
  {
   "cell_type": "code",
   "execution_count": 2,
   "metadata": {},
   "outputs": [
    {
     "name": "stdout",
     "output_type": "stream",
     "text": [
      "1\n",
      "3\n"
     ]
    }
   ],
   "source": [
    "try:\n",
    "  print(1)\n",
    "  print(1 + \"1\" == 2)\n",
    "  print(2)\n",
    "except TypeError:\n",
    "  print(3)\n",
    "else:\n",
    "  print(4)"
   ]
  }
 ],
 "metadata": {
  "kernelspec": {
   "display_name": "Python 3",
   "language": "python",
   "name": "python3"
  },
  "language_info": {
   "codemirror_mode": {
    "name": "ipython",
    "version": 3
   },
   "file_extension": ".py",
   "mimetype": "text/x-python",
   "name": "python",
   "nbconvert_exporter": "python",
   "pygments_lexer": "ipython3",
   "version": "3.11.5"
  },
  "orig_nbformat": 4
 },
 "nbformat": 4,
 "nbformat_minor": 2
}
