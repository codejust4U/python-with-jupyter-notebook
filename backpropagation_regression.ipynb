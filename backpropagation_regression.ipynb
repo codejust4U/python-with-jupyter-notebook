{
 "cells": [
  {
   "cell_type": "markdown",
   "metadata": {},
   "source": [
    "# Backpropagation Regression without Keras"
   ]
  },
  {
   "cell_type": "code",
   "execution_count": 61,
   "metadata": {},
   "outputs": [],
   "source": [
    "import numpy as np\n",
    "import pandas as pd\n"
   ]
  },
  {
   "cell_type": "code",
   "execution_count": 62,
   "metadata": {},
   "outputs": [],
   "source": [
    "df = pd.DataFrame([[8,8,4],[7,9,5],[6,10,6],[5,12,7]], columns=['cgpa', 'profile_score', 'lpa'])"
   ]
  },
  {
   "cell_type": "code",
   "execution_count": 63,
   "metadata": {},
   "outputs": [
    {
     "data": {
      "text/html": [
       "<div>\n",
       "<style scoped>\n",
       "    .dataframe tbody tr th:only-of-type {\n",
       "        vertical-align: middle;\n",
       "    }\n",
       "\n",
       "    .dataframe tbody tr th {\n",
       "        vertical-align: top;\n",
       "    }\n",
       "\n",
       "    .dataframe thead th {\n",
       "        text-align: right;\n",
       "    }\n",
       "</style>\n",
       "<table border=\"1\" class=\"dataframe\">\n",
       "  <thead>\n",
       "    <tr style=\"text-align: right;\">\n",
       "      <th></th>\n",
       "      <th>cgpa</th>\n",
       "      <th>profile_score</th>\n",
       "      <th>lpa</th>\n",
       "    </tr>\n",
       "  </thead>\n",
       "  <tbody>\n",
       "    <tr>\n",
       "      <th>0</th>\n",
       "      <td>8</td>\n",
       "      <td>8</td>\n",
       "      <td>4</td>\n",
       "    </tr>\n",
       "    <tr>\n",
       "      <th>1</th>\n",
       "      <td>7</td>\n",
       "      <td>9</td>\n",
       "      <td>5</td>\n",
       "    </tr>\n",
       "    <tr>\n",
       "      <th>2</th>\n",
       "      <td>6</td>\n",
       "      <td>10</td>\n",
       "      <td>6</td>\n",
       "    </tr>\n",
       "    <tr>\n",
       "      <th>3</th>\n",
       "      <td>5</td>\n",
       "      <td>12</td>\n",
       "      <td>7</td>\n",
       "    </tr>\n",
       "  </tbody>\n",
       "</table>\n",
       "</div>"
      ],
      "text/plain": [
       "   cgpa  profile_score  lpa\n",
       "0     8              8    4\n",
       "1     7              9    5\n",
       "2     6             10    6\n",
       "3     5             12    7"
      ]
     },
     "execution_count": 63,
     "metadata": {},
     "output_type": "execute_result"
    }
   ],
   "source": [
    "df"
   ]
  },
  {
   "cell_type": "code",
   "execution_count": 64,
   "metadata": {},
   "outputs": [],
   "source": [
    "def initialize_parameters(layer_dims):\n",
    "  \n",
    "  np.random.seed(3)\n",
    "  parameters = {}\n",
    "  L = len(layer_dims)         \n",
    "\n",
    "  for l in range(1, L):\n",
    "\n",
    "    parameters['W' + str(l)] = np.ones((layer_dims[l-1], layer_dims[l]))*0.1\n",
    "    parameters['b' + str(l)] = np.zeros((layer_dims[l], 1))\n",
    "      \n",
    "\n",
    "  return parameters"
   ]
  },
  {
   "cell_type": "code",
   "execution_count": 65,
   "metadata": {},
   "outputs": [
    {
     "data": {
      "text/plain": [
       "{'W1': array([[0.1, 0.1],\n",
       "        [0.1, 0.1]]),\n",
       " 'b1': array([[0.],\n",
       "        [0.]]),\n",
       " 'W2': array([[0.1],\n",
       "        [0.1]]),\n",
       " 'b2': array([[0.]])}"
      ]
     },
     "execution_count": 65,
     "metadata": {},
     "output_type": "execute_result"
    }
   ],
   "source": [
    "initialize_parameters([2,2,1])"
   ]
  },
  {
   "cell_type": "code",
   "execution_count": 66,
   "metadata": {},
   "outputs": [],
   "source": [
    "def linear_forward(A_prev,W,b):\n",
    "    Z = np.dot(W.T,A_prev)+b\n",
    "\n",
    "    return Z\n"
   ]
  },
  {
   "cell_type": "code",
   "execution_count": 67,
   "metadata": {},
   "outputs": [],
   "source": [
    "def L_layer_forward(X,parameters):\n",
    "    A = X\n",
    "    L = len(parameters)\n",
    "\n",
    "    for l in range(1,L+1):\n",
    "        A_prev = A\n",
    "        w1 = parameters['W'+str(1)]\n",
    "        b1 = parameters['b'+str(1)]\n",
    "        #print(\"A\"+str(l-1)+\":\",A_prev)\n",
    "        #print(\"W\"+str(l)+\":\",w1)\n",
    "        #print(\"b\"+str(l)+\":\",b1)\n",
    "        #print(\"--\"*20)\n",
    "        A = linear_forward(A_prev, w1, b1)\n",
    "        #print(\"A\"+str(l)+\": \", A)\n",
    "        #print(\"**\"*20)\n",
    "\n",
    "    return A,A_prev\n"
   ]
  },
  {
   "cell_type": "code",
   "execution_count": 68,
   "metadata": {},
   "outputs": [],
   "source": [
    "X = df[['cgpa', 'profile_score']].values[0].reshape(2,1) # Shape(no of features, no. of training example)\n",
    "y = df[['lpa']].values[0][0]\n",
    "\n",
    "# Parameter initialization\n",
    "parameters = initialize_parameters([2,2,1])\n",
    "\n",
    "y_hat,A1 = L_layer_forward(X, parameters)"
   ]
  },
  {
   "cell_type": "code",
   "execution_count": 69,
   "metadata": {},
   "outputs": [],
   "source": [
    "y_hat = y_hat[0][0]"
   ]
  },
  {
   "cell_type": "code",
   "execution_count": 70,
   "metadata": {},
   "outputs": [
    {
     "data": {
      "text/plain": [
       "array([[0.064],\n",
       "       [0.064]])"
      ]
     },
     "execution_count": 70,
     "metadata": {},
     "output_type": "execute_result"
    }
   ],
   "source": [
    "A1"
   ]
  },
  {
   "cell_type": "code",
   "execution_count": 71,
   "metadata": {},
   "outputs": [],
   "source": [
    "def update_parameters(parameters,y,y_hat,A1,X):\n",
    "  parameters['W2'][0][0] = parameters['W2'][0][0] + (0.001 * 2 * (y - y_hat)*A1[0][0])\n",
    "  parameters['W2'][1][0] = parameters['W2'][1][0] + (0.001 * 2 * (y - y_hat)*A1[1][0])\n",
    "  parameters['b2'][0][0] = parameters['W2'][1][0] + (0.001 * 2 * (y - y_hat))\n",
    "\n",
    "  parameters['W1'][0][0] = parameters['W1'][0][0] + (0.001 * 2 * (y - y_hat)*parameters['W2'][0][0]*X[0][0])\n",
    "  parameters['W1'][0][1] = parameters['W1'][0][1] + (0.001 * 2 * (y - y_hat)*parameters['W2'][0][0]*X[1][0])\n",
    "  parameters['b1'][0][0] = parameters['b1'][0][0] + (0.001 * 2 * (y - y_hat)*parameters['W2'][0][0])\n",
    "\n",
    "  parameters['W1'][1][0] = parameters['W1'][1][0] + (0.001 * 2 * (y - y_hat)*parameters['W2'][1][0]*X[0][0])\n",
    "  parameters['W1'][1][1] = parameters['W1'][1][1] + (0.001 * 2 * (y - y_hat)*parameters['W2'][1][0]*X[1][0])\n",
    "  parameters['b1'][1][0] = parameters['b1'][1][0] + (0.001 * 2 * (y - y_hat)*parameters['W2'][1][0])"
   ]
  },
  {
   "cell_type": "code",
   "execution_count": 72,
   "metadata": {},
   "outputs": [],
   "source": [
    "update_parameters(parameters,y,y_hat,A1,X)"
   ]
  },
  {
   "cell_type": "code",
   "execution_count": 73,
   "metadata": {},
   "outputs": [
    {
     "data": {
      "text/plain": [
       "{'W1': array([[0.10641208, 0.10641208],\n",
       "        [0.10641208, 0.10641208]]),\n",
       " 'b1': array([[0.00080151],\n",
       "        [0.00080151]]),\n",
       " 'W2': array([[0.10051036],\n",
       "        [0.10051036]]),\n",
       " 'b2': array([[0.10848476]])}"
      ]
     },
     "execution_count": 73,
     "metadata": {},
     "output_type": "execute_result"
    }
   ],
   "source": [
    "parameters"
   ]
  },
  {
   "cell_type": "code",
   "execution_count": 74,
   "metadata": {},
   "outputs": [
    {
     "data": {
      "text/plain": [
       "{'W1': array([[0.11347759, 0.1154963 ],\n",
       "        [0.11347759, 0.1154963 ]]),\n",
       " 'b1': array([[0.00181087],\n",
       "        [0.00181087]]),\n",
       " 'W2': array([[0.1012889],\n",
       "        [0.1012889]]),\n",
       " 'b2': array([[0.11125404]])}"
      ]
     },
     "execution_count": 74,
     "metadata": {},
     "output_type": "execute_result"
    }
   ],
   "source": [
    "X = df[['cgpa', 'profile_score']].values[1].reshape(2,1) # Shape(no of features, no. of training exaplme)\n",
    "y = df[['lpa']].values[1][0]\n",
    "\n",
    "y_hat,A1 = L_layer_forward(X,parameters)\n",
    "y_hat = y_hat[0][0]\n",
    "\n",
    "update_parameters(parameters,y,y_hat,A1,X)\n",
    "\n",
    "parameters"
   ]
  },
  {
   "cell_type": "code",
   "execution_count": 75,
   "metadata": {},
   "outputs": [
    {
     "data": {
      "text/plain": [
       "{'W1': array([[0.12082462, 0.12774137],\n",
       "        [0.12082608, 0.1277438 ]]),\n",
       " 'b1': array([[0.00303537],\n",
       "        [0.00303562]]),\n",
       " 'W2': array([[0.10245429],\n",
       "        [0.10247464]]),\n",
       " 'b2': array([[0.11442637]])}"
      ]
     },
     "execution_count": 75,
     "metadata": {},
     "output_type": "execute_result"
    }
   ],
   "source": [
    "X = df[['cgpa', 'profile_score']].values[2].reshape(2,1) # Shape(no of features, no. of training exaplme)\n",
    "y = df[['lpa']].values[2][0]\n",
    "\n",
    "y_hat,A1 = L_layer_forward(X,parameters)\n",
    "y_hat = y_hat[0][0]\n",
    "\n",
    "update_parameters(parameters,y,y_hat,A1,X)\n",
    "\n",
    "parameters"
   ]
  },
  {
   "cell_type": "code",
   "execution_count": 76,
   "metadata": {},
   "outputs": [],
   "source": [
    "update_parameters(parameters,y,y_hat,A1,X)"
   ]
  },
  {
   "cell_type": "code",
   "execution_count": 77,
   "metadata": {},
   "outputs": [
    {
     "data": {
      "text/plain": [
       "{'W1': array([[0.13561627, 0.15779221],\n",
       "        [0.13563766, 0.15784032]]),\n",
       " 'b1': array([[0.00574602],\n",
       "        [0.00575015]]),\n",
       " 'W2': array([[0.1058822 ],\n",
       "        [0.10612683]]),\n",
       " 'b2': array([[0.12003104]])}"
      ]
     },
     "execution_count": 77,
     "metadata": {},
     "output_type": "execute_result"
    }
   ],
   "source": [
    "X = df[['cgpa', 'profile_score']].values[3].reshape(2,1) # Shape(no of features, no. of training exaplme)\n",
    "y = df[['lpa']].values[3][0]\n",
    "\n",
    "y_hat,A1 = L_layer_forward(X,parameters)\n",
    "y_hat = y_hat[0][0]\n",
    "\n",
    "update_parameters(parameters,y,y_hat,A1,X)\n",
    "\n",
    "parameters"
   ]
  },
  {
   "cell_type": "code",
   "execution_count": 78,
   "metadata": {},
   "outputs": [],
   "source": [
    "update_parameters(parameters,y,y_hat,A1,X)"
   ]
  },
  {
   "cell_type": "markdown",
   "metadata": {},
   "source": [
    "# Epochs"
   ]
  },
  {
   "cell_type": "code",
   "execution_count": 79,
   "metadata": {},
   "outputs": [
    {
     "name": "stdout",
     "output_type": "stream",
     "text": [
      "Epoch -  1 Loss -  31.229347736992242\n",
      "Epoch -  2 Loss -  30.692528458102906\n",
      "Epoch -  3 Loss -  29.555841896874092\n",
      "Epoch -  4 Loss -  27.114342931912475\n",
      "Epoch -  5 Loss -  21.816824983723563\n",
      "Epoch -  6 Loss -  12.120263917399562\n",
      "Epoch -  7 Loss -  3.205297741569497\n",
      "Epoch -  8 Loss -  1.455658867879785\n",
      "Epoch -  9 Loss -  1.720334480754846\n",
      "Epoch -  10 Loss -  1.809198044132707\n",
      "Epoch -  11 Loss -  1.818682747627117\n",
      "Epoch -  12 Loss -  1.8131499873234613\n",
      "Epoch -  13 Loss -  1.8050808592809475\n",
      "Epoch -  14 Loss -  1.7966443277071016\n",
      "Epoch -  15 Loss -  1.7882174829717865\n",
      "Epoch -  16 Loss -  1.7798656712627894\n",
      "Epoch -  17 Loss -  1.7715987856976578\n",
      "Epoch -  18 Loss -  1.7634166220354826\n",
      "Epoch -  19 Loss -  1.7553171138645278\n",
      "Epoch -  20 Loss -  1.747297865934877\n",
      "Epoch -  21 Loss -  1.7393564454402068\n",
      "Epoch -  22 Loss -  1.7314904370377575\n",
      "Epoch -  23 Loss -  1.7236974517354273\n",
      "Epoch -  24 Loss -  1.71597512651024\n",
      "Epoch -  25 Loss -  1.7083211219816374\n",
      "Epoch -  26 Loss -  1.7007331196241222\n",
      "Epoch -  27 Loss -  1.6932088188199763\n",
      "Epoch -  28 Loss -  1.685745933806138\n",
      "Epoch -  29 Loss -  1.678342190515742\n",
      "Epoch -  30 Loss -  1.6709953233019954\n",
      "Epoch -  31 Loss -  1.6637030715277037\n",
      "Epoch -  32 Loss -  1.6564631760014228\n",
      "Epoch -  33 Loss -  1.6492733752387123\n",
      "Epoch -  34 Loss -  1.6421314015243673\n",
      "Epoch -  35 Loss -  1.6350349767488745\n",
      "Epoch -  36 Loss -  1.627981807988685\n",
      "Epoch -  37 Loss -  1.620969582796266\n",
      "Epoch -  38 Loss -  1.6139959641615256\n",
      "Epoch -  39 Loss -  1.6070585851010626\n",
      "Epoch -  40 Loss -  1.6001550428258673\n",
      "Epoch -  41 Loss -  1.593282892431358\n",
      "Epoch -  42 Loss -  1.5864396400456955\n",
      "Epoch -  43 Loss -  1.5796227353632653\n",
      "Epoch -  44 Loss -  1.5728295634794782\n",
      "Epoch -  45 Loss -  1.5660574359306147\n",
      "Epoch -  46 Loss -  1.5593035808279079\n",
      "Epoch -  47 Loss -  1.552565131957989\n",
      "Epoch -  48 Loss -  1.5458391167018104\n",
      "Epoch -  49 Loss -  1.5391224426007888\n",
      "Epoch -  50 Loss -  1.5324118823711683\n",
      "Epoch -  51 Loss -  1.525704057135362\n",
      "Epoch -  52 Loss -  1.5189954176008356\n",
      "Epoch -  53 Loss -  1.51228222287267\n",
      "Epoch -  54 Loss -  1.505560516533487\n",
      "Epoch -  55 Loss -  1.4988260995641474\n",
      "Epoch -  56 Loss -  1.4920744996083486\n",
      "Epoch -  57 Loss -  1.4853009360047613\n",
      "Epoch -  58 Loss -  1.4785002799214888\n",
      "Epoch -  59 Loss -  1.4716670088316142\n",
      "Epoch -  60 Loss -  1.4647951544711697\n",
      "Epoch -  61 Loss -  1.4578782433327828\n",
      "Epoch -  62 Loss -  1.4509092286911116\n",
      "Epoch -  63 Loss -  1.4438804131693752\n",
      "Epoch -  64 Loss -  1.436783361011856\n",
      "Epoch -  65 Loss -  1.429608799654254\n",
      "Epoch -  66 Loss -  1.4223465111156495\n",
      "Epoch -  67 Loss -  1.4149852155940794\n",
      "Epoch -  68 Loss -  1.4075124532030594\n",
      "Epoch -  69 Loss -  1.3999144764661429\n",
      "Epoch -  70 Loss -  1.3921761786776117\n",
      "Epoch -  71 Loss -  1.3842811067042968\n",
      "Epoch -  72 Loss -  1.3762116514106895\n",
      "Epoch -  73 Loss -  1.3679495952083665\n",
      "Epoch -  74 Loss -  1.3594773672421634\n",
      "Epoch -  75 Loss -  1.3507807055976377\n"
     ]
    },
    {
     "data": {
      "text/plain": [
       "{'W1': array([[0.29224778, 0.56139467],\n",
       "        [0.35366331, 0.70879194]]),\n",
       " 'b1': array([[0.03844956],\n",
       "        [0.05073266]]),\n",
       " 'W2': array([[0.12140139],\n",
       "        [0.08146879]]),\n",
       " 'b2': array([[0.08425194]])}"
      ]
     },
     "execution_count": 79,
     "metadata": {},
     "output_type": "execute_result"
    }
   ],
   "source": [
    "parameters = initialize_parameters([2,2,1])\n",
    "epochs = 75\n",
    "\n",
    "for i in range(epochs):\n",
    "    loss = []\n",
    "\n",
    "    for j in range(df.shape[0]):\n",
    "        x = df[['cgpa','profile_score']].values[j].reshape(2,1)\n",
    "        y=df[['lpa']].values[j][0]\n",
    "\n",
    "        y_hat,A1 = L_layer_forward(X,parameters)\n",
    "        y_hat = y_hat[0][0]\n",
    "\n",
    "        update_parameters(parameters,y,y_hat,A1,X)\n",
    "\n",
    "        loss.append((y-y_hat)**2)\n",
    "\n",
    "    print('Epoch - ',i+1,'Loss - ',np.array(loss).mean())\n",
    "\n",
    "parameters\n"
   ]
  }
 ],
 "metadata": {
  "kernelspec": {
   "display_name": "Python 3",
   "language": "python",
   "name": "python3"
  },
  "language_info": {
   "codemirror_mode": {
    "name": "ipython",
    "version": 3
   },
   "file_extension": ".py",
   "mimetype": "text/x-python",
   "name": "python",
   "nbconvert_exporter": "python",
   "pygments_lexer": "ipython3",
   "version": "3.11.2"
  },
  "orig_nbformat": 4
 },
 "nbformat": 4,
 "nbformat_minor": 2
}
