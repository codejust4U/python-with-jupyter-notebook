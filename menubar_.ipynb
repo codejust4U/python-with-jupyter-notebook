{
 "cells": [
  {
   "cell_type": "markdown",
   "metadata": {},
   "source": [
    "# Menubar in tkinter"
   ]
  },
  {
   "cell_type": "code",
   "execution_count": 1,
   "metadata": {},
   "outputs": [],
   "source": [
    "# importing the libraries\n",
    "from tkinter import *\n",
    "from tkinter import ttk"
   ]
  },
  {
   "cell_type": "code",
   "execution_count": 20,
   "metadata": {},
   "outputs": [],
   "source": [
    "from tkinter import *\n",
    "\n",
    "root = Tk()\n",
    "root.title('VLC media player')\n",
    "root.iconbitmap(r'D:\\copy_of_htdocs\\practice\\Python\\300days\\Day 259 Tkinter Day - 8\\vlc_gif.gif')\n",
    "\n",
    "#lbl1 = Label(root, text='VLC media player')\n",
    "#lbl1.pack()\n",
    "\n",
    "menubar = Menu(root)\n",
    "# Adding a cascade with a submenu -- media\n",
    "media_menu = Menu(menubar, tearoff=0)\n",
    "media_menu.add_command(label='Open file')\n",
    "media_menu.add_command(label='Open multiple files')\n",
    "media_menu.add_command(label='Open folder')\n",
    "media_menu.add_command(label='Open disc')\n",
    "media_menu.add_command(label='Open folder')\n",
    "media_menu.add_command(label='Open network stream')\n",
    "media_menu.add_command(label='Open capture device')\n",
    "media_menu.add_command(label='Open location from clipboard')\n",
    "media_menu.add_command(label='Open recent media')\n",
    "media_menu.add_command(label='Save playlist to file')\n",
    "media_menu.add_command(label='Convert/save')\n",
    "media_menu.add_command(label='Stream')\n",
    "media_menu.add_command(label='Quit at the end of playlist')\n",
    "media_menu.add_command(label='Quit',command=root.destroy)\n",
    "media_menu.add_separator()\n",
    "menubar.add_cascade(label='Media', menu=media_menu)\n",
    "\n",
    "\n",
    "# Adding a cascade with a submenu -- playback\n",
    "playback_menu = Menu(menubar,tearoff=0)\n",
    "playback_menu.add_cascade(label='Title')\n",
    "playback_menu.add_cascade(label='Chapter')\n",
    "playback_menu.add_cascade(label='Program')\n",
    "playback_menu.add_cascade(label='Custom bookmarks')\n",
    "playback_menu.add_cascade(label='Renderer')\n",
    "playback_menu.add_cascade(label='Speed')\n",
    "playback_menu.add_cascade(label='Jump forward')\n",
    "playback_menu.add_cascade(label='Jump backward')\n",
    "playback_menu.add_cascade(label='Jump to specific time')\n",
    "playback_menu.add_cascade(label='Previous chapter')\n",
    "playback_menu.add_cascade(label='Next chapter')\n",
    "playback_menu.add_cascade(label='Pause')\n",
    "playback_menu.add_cascade(label='Stop')\n",
    "playback_menu.add_cascade(label='Previous')\n",
    "playback_menu.add_cascade(label='Next')\n",
    "playback_menu.add_cascade(label='Record')\n",
    "playback_menu.add_separator()\n",
    "menubar.add_cascade(label='Playback', menu=playback_menu)\n",
    "\n",
    "\n",
    "\n",
    "root.config(menu=menubar)\n",
    "\n",
    "root.mainloop()\n"
   ]
  }
 ],
 "metadata": {
  "kernelspec": {
   "display_name": "Python 3",
   "language": "python",
   "name": "python3"
  },
  "language_info": {
   "codemirror_mode": {
    "name": "ipython",
    "version": 3
   },
   "file_extension": ".py",
   "mimetype": "text/x-python",
   "name": "python",
   "nbconvert_exporter": "python",
   "pygments_lexer": "ipython3",
   "version": "3.11.2"
  }
 },
 "nbformat": 4,
 "nbformat_minor": 2
}
