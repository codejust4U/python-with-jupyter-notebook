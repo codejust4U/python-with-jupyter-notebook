{
 "cells": [
  {
   "cell_type": "code",
   "execution_count": 16,
   "metadata": {},
   "outputs": [
    {
     "name": "stdout",
     "output_type": "stream",
     "text": [
      "Enroll\n",
      "review\n",
      "User logged in\n",
      "Register\n"
     ]
    }
   ],
   "source": [
    "class User:\n",
    "    def login(self):\n",
    "        print(\"User logged in\")\n",
    "\n",
    "    def regeister(self):\n",
    "        print(\"Register\")\n",
    "\n",
    "\n",
    "\n",
    "class Student(User):\n",
    "    def enroll(self):\n",
    "        print(\"Enroll\")\n",
    "    def review(self):\n",
    "        print(\"review\")\n",
    "\n",
    "\n",
    "\n",
    "st = Student()\n",
    "st.enroll()\n",
    "st.review()\n",
    "st.login()\n",
    "st.regeister()"
   ]
  },
  {
   "cell_type": "code",
   "execution_count": 17,
   "metadata": {},
   "outputs": [
    {
     "name": "stdout",
     "output_type": "stream",
     "text": [
      "Inside phone constructor\n",
      "IOs\n"
     ]
    }
   ],
   "source": [
    "class Phone:\n",
    "    def __init__(self,price,brand,camera):\n",
    "        print(\"Inside phone constructor\")\n",
    "        self.price =price\n",
    "        self.brand = brand\n",
    "        self.camera = camera\n",
    "\n",
    "\n",
    "class Smartphone(Phone):\n",
    "    pass\n",
    "\n",
    "s = Smartphone(20000,\"IOs\",13)\n",
    "print(s.brand)"
   ]
  },
  {
   "cell_type": "code",
   "execution_count": 18,
   "metadata": {},
   "outputs": [
    {
     "name": "stdout",
     "output_type": "stream",
     "text": [
      "Inside phone constructor\n"
     ]
    },
    {
     "ename": "AttributeError",
     "evalue": "'Smartphone' object has no attribute '__brand'",
     "output_type": "error",
     "traceback": [
      "\u001b[1;31m---------------------------------------------------------------------------\u001b[0m",
      "\u001b[1;31mAttributeError\u001b[0m                            Traceback (most recent call last)",
      "Cell \u001b[1;32mIn[18], line 15\u001b[0m\n\u001b[0;32m     12\u001b[0m     \u001b[39mpass\u001b[39;00m\n\u001b[0;32m     14\u001b[0m s \u001b[39m=\u001b[39m Smartphone(\u001b[39m20000\u001b[39m,\u001b[39m\"\u001b[39m\u001b[39mIOs\u001b[39m\u001b[39m\"\u001b[39m,\u001b[39m13\u001b[39m)\n\u001b[1;32m---> 15\u001b[0m \u001b[39mprint\u001b[39m(s\u001b[39m.\u001b[39;49m__brand)\n",
      "\u001b[1;31mAttributeError\u001b[0m: 'Smartphone' object has no attribute '__brand'"
     ]
    }
   ],
   "source": [
    "#The code will crash here coz child class cant access the hidden members of the parent class\n",
    "\n",
    "class Phone:\n",
    "    def __init__(self,price,brand,camera):\n",
    "        print(\"Inside phone constructor\")\n",
    "        self.price =price\n",
    "        self.__brand = brand\n",
    "        self.camera = camera\n",
    "\n",
    "\n",
    "class Smartphone(Phone):\n",
    "    pass\n",
    "\n",
    "s = Smartphone(20000,\"IOs\",13)\n",
    "print(s.__brand)"
   ]
  },
  {
   "cell_type": "markdown",
   "metadata": {},
   "source": [
    "Method overriding\n",
    "\n",
    "It will choose the child defintion if same function is availabe in both child and parent"
   ]
  },
  {
   "cell_type": "code",
   "execution_count": 20,
   "metadata": {},
   "outputs": [
    {
     "name": "stdout",
     "output_type": "stream",
     "text": [
      "Inside phone constructor\n",
      "Buying a smartphone\n",
      "Buying a smartphone\n"
     ]
    }
   ],
   "source": [
    "\n",
    "class Phone:\n",
    "    def __init__(self,price,brand,camera):\n",
    "        print(\"Inside phone constructor\")\n",
    "        self.price =price\n",
    "        self.brand = brand\n",
    "        self.camera = camera\n",
    "\n",
    "    def buy(self):\n",
    "        print(\"Buyinga phon\")\n",
    "\n",
    "\n",
    "class Smartphone(Phone):\n",
    "    \n",
    "    def buy(self):\n",
    "        print(\"Buying a smartphone\")\n",
    "        print(\"Buying a smartphone\")\n",
    "\n",
    "s = Smartphone(20000,\"IOs\",13)\n",
    "\n",
    "s.buy()"
   ]
  },
  {
   "cell_type": "code",
   "execution_count": 21,
   "metadata": {},
   "outputs": [
    {
     "name": "stdout",
     "output_type": "stream",
     "text": [
      "100\n",
      "child class\n"
     ]
    }
   ],
   "source": [
    "class Parent:\n",
    "    def __init__(self,num):\n",
    "        self.__num = num\n",
    "        \n",
    "\n",
    "    def get_num(self):\n",
    "        return self.__num\n",
    "    \n",
    "\n",
    "class child(Parent):\n",
    "    def show(self):\n",
    "        print(\"child class\")\n",
    "\n",
    "\n",
    "son = child(100)\n",
    "print(son.get_num())\n",
    "\n",
    "son.show()"
   ]
  },
  {
   "cell_type": "markdown",
   "metadata": {},
   "source": [
    "If child doesnt have constructor then parent constructo will be invoked but if there's child constructor then parent constructor wont be invoked."
   ]
  },
  {
   "cell_type": "code",
   "execution_count": 22,
   "metadata": {},
   "outputs": [
    {
     "ename": "TypeError",
     "evalue": "Parent.__init__() takes 2 positional arguments but 3 were given",
     "output_type": "error",
     "traceback": [
      "\u001b[1;31m---------------------------------------------------------------------------\u001b[0m",
      "\u001b[1;31mTypeError\u001b[0m                                 Traceback (most recent call last)",
      "Cell \u001b[1;32mIn[22], line 20\u001b[0m\n\u001b[0;32m     15\u001b[0m     \u001b[39mdef\u001b[39;00m \u001b[39mget_val\u001b[39m(\u001b[39mself\u001b[39m):\n\u001b[0;32m     16\u001b[0m         \u001b[39mreturn\u001b[39;00m \u001b[39mself\u001b[39m\u001b[39m.\u001b[39m__val\n\u001b[1;32m---> 20\u001b[0m son \u001b[39m=\u001b[39m child(\u001b[39m100\u001b[39;49m,\u001b[39m10\u001b[39;49m)\n\u001b[0;32m     21\u001b[0m \u001b[39mprint\u001b[39m(\u001b[39m\"\u001b[39m\u001b[39mParent : Num \u001b[39m\u001b[39m\"\u001b[39m,son\u001b[39m.\u001b[39mget_num())\n",
      "\u001b[1;31mTypeError\u001b[0m: Parent.__init__() takes 2 positional arguments but 3 were given"
     ]
    }
   ],
   "source": [
    "class Parent:\n",
    "    def __init__(self,num) -> None:\n",
    "        self.__num = num\n",
    "\n",
    "    def get_num(self):\n",
    "        return self.__num\n",
    "    \n",
    "\n",
    "\n",
    "class Child(Parent):\n",
    "    def __init__(self,val,num):\n",
    "        self.__val = val\n",
    "        \n",
    "\n",
    "    def get_val(self):\n",
    "        return self.__val\n",
    "    \n",
    "\n",
    "\n",
    "son = child(100,10)\n",
    "print(\"Parent : Num \",son.get_num())"
   ]
  },
  {
   "cell_type": "code",
   "execution_count": 23,
   "metadata": {},
   "outputs": [
    {
     "name": "stdout",
     "output_type": "stream",
     "text": [
      "class A: 100\n"
     ]
    }
   ],
   "source": [
    "class A:\n",
    "    def __init__(self) -> None:\n",
    "        self.var1 = 100\n",
    "\n",
    "    def display1(self,var1):\n",
    "        print(\"class A:\",self.var1)\n",
    "\n",
    "\n",
    "\n",
    "\n",
    "class B(A):\n",
    "    def display2(self,var1):\n",
    "        print(\"class B\",self.var1)\n",
    "\n",
    "\n",
    "ob = B()\n",
    "\n",
    "ob.display1(200)"
   ]
  },
  {
   "cell_type": "code",
   "execution_count": 25,
   "metadata": {},
   "outputs": [
    {
     "name": "stdout",
     "output_type": "stream",
     "text": [
      "Inside phone constructor\n",
      "Buying a smartphone\n",
      "Buyinga phon\n"
     ]
    }
   ],
   "source": [
    "\n",
    "class Phone:\n",
    "    def __init__(self,price,brand,camera):\n",
    "        print(\"Inside phone constructor\")\n",
    "        self.price =price\n",
    "        self.brand = brand\n",
    "        self.camera = camera\n",
    "\n",
    "    def buy(self):\n",
    "        print(\"Buyinga phon\")\n",
    "\n",
    "\n",
    "class Smartphone(Phone):\n",
    "    \n",
    "    def buy(self):\n",
    "        print(\"Buying a smartphone\")\n",
    "        super().buy() \n",
    "\n",
    "s = Smartphone(20000,\"IOs\",13)\n",
    "\n",
    "s.buy()"
   ]
  },
  {
   "cell_type": "markdown",
   "metadata": {},
   "source": [
    "### Super Keyword"
   ]
  },
  {
   "cell_type": "code",
   "execution_count": 28,
   "metadata": {},
   "outputs": [
    {
     "name": "stdout",
     "output_type": "stream",
     "text": [
      "Pehel yaha\n",
      "Inside phone constructor\n",
      "Inside smartphone constructor\n",
      "Android\n",
      "Samsung\n"
     ]
    }
   ],
   "source": [
    "class Phone:\n",
    "    def __init__(self,price,brand,camera):\n",
    "        print(\"Inside phone constructor\")\n",
    "        self.price =price\n",
    "        self.brand = brand\n",
    "        self.camera = camera\n",
    "\n",
    "\n",
    "class smartphone(Phone):\n",
    "    def __init__(self,price,brand,camera,os,ram):\n",
    "        print(\"Pehel yaha\")\n",
    "        super().__init__(price,brand,camera)\n",
    "        self.os = os\n",
    "        self.ram = ram\n",
    "        print(\"Inside smartphone constructor\")\n",
    "\n",
    "\n",
    "s = smartphone(20000,\"Samsung\",12,\"Android\",2)\n",
    "\n",
    "print(s.os)\n",
    "print(s.brand)"
   ]
  },
  {
   "cell_type": "markdown",
   "metadata": {},
   "source": [
    "### Inheritence tpes:\n",
    "- Single level inheritence\n",
    "- Multi level inheritence\n",
    "- Hierarchical inheritence\n",
    "- Multiple inheritence\n",
    "- Hybrid inheritence"
   ]
  },
  {
   "cell_type": "markdown",
   "metadata": {},
   "source": [
    "### single"
   ]
  },
  {
   "cell_type": "code",
   "execution_count": 29,
   "metadata": {},
   "outputs": [
    {
     "name": "stdout",
     "output_type": "stream",
     "text": [
      "Pehel yaha\n",
      "Inside phone constructor\n",
      "Inside smartphone constructor\n",
      "Android\n",
      "Samsung\n"
     ]
    }
   ],
   "source": [
    "class Phone:\n",
    "    def __init__(self,price,brand,camera):\n",
    "        print(\"Inside phone constructor\")\n",
    "        self.price =price\n",
    "        self.brand = brand\n",
    "        self.camera = camera\n",
    "\n",
    "\n",
    "class smartphone(Phone):\n",
    "    def __init__(self,price,brand,camera,os,ram):\n",
    "        print(\"Pehel yaha\")\n",
    "        super().__init__(price,brand,camera)\n",
    "        self.os = os\n",
    "        self.ram = ram\n",
    "        print(\"Inside smartphone constructor\")\n",
    "\n",
    "\n",
    "s = smartphone(20000,\"Samsung\",12,\"Android\",2)\n",
    "\n",
    "print(s.os)\n",
    "print(s.brand)"
   ]
  },
  {
   "cell_type": "markdown",
   "metadata": {},
   "source": [
    "### multi level"
   ]
  },
  {
   "cell_type": "code",
   "execution_count": 30,
   "metadata": {},
   "outputs": [
    {
     "name": "stdout",
     "output_type": "stream",
     "text": [
      "Inside phone\n",
      "Inside phone\n",
      "Buy phone\n",
      "Review\n",
      "Review\n"
     ]
    }
   ],
   "source": [
    "class Product:\n",
    "    def review(self):\n",
    "        print(\"Review\")\n",
    "\n",
    "class Phone(Product):\n",
    "    def __init__(self,price,brand,camera):\n",
    "        print(\"Inside phone\")\n",
    "        self.__price = price\n",
    "        self.brand=brand\n",
    "        self.camera=camera\n",
    "\n",
    "\n",
    "    def buy(self):\n",
    "        print(\"Buy phone\")\n",
    "\n",
    "\n",
    "class smartphone(Phone):\n",
    "    pass\n",
    "\n",
    "\n",
    "s = smartphone(10000,\"Apple\",12)\n",
    "p=Phone(1000,\"samsung\",1)\n",
    "\n",
    "s.buy()\n",
    "s.review()\n",
    "p.review()"
   ]
  },
  {
   "cell_type": "markdown",
   "metadata": {},
   "source": [
    "### Hierarchical"
   ]
  },
  {
   "cell_type": "code",
   "execution_count": 33,
   "metadata": {},
   "outputs": [
    {
     "name": "stdout",
     "output_type": "stream",
     "text": [
      "Inside phone constructor\n",
      "Buying a smartphone\n",
      "Buyinga phon\n"
     ]
    }
   ],
   "source": [
    "class Phone:\n",
    "    def __init__(self,price,brand,camera):\n",
    "        print(\"Inside phone\")\n",
    "        self.__price = price\n",
    "        self.brand=brand\n",
    "        self.camera = camera\n",
    "\n",
    "\n",
    "    def buy(self):\n",
    "        print(\"Buy phone\")\n",
    "\n",
    "    def return_phone(self):\n",
    "        print(\"Return phone\")\n",
    "\n",
    "\n",
    "class smartphone(Phone):\n",
    "    pass\n",
    "\n",
    "class Featurephone(Phone):\n",
    "    pass\n",
    "\n",
    "Smartphone(1000,\"apple\",\"13px\").buy()"
   ]
  },
  {
   "cell_type": "markdown",
   "metadata": {},
   "source": [
    "### multiple "
   ]
  },
  {
   "cell_type": "code",
   "execution_count": 34,
   "metadata": {},
   "outputs": [
    {
     "name": "stdout",
     "output_type": "stream",
     "text": [
      "Inside phone constructor\n",
      "Buy phone\n",
      "Review\n"
     ]
    }
   ],
   "source": [
    "class Phone:\n",
    "    def __init__(self,price,brand,camera):\n",
    "        print(\"Inside phone\")\n",
    "        self.__price = price\n",
    "        self.brand=brand\n",
    "        self.camera = camera\n",
    "\n",
    "\n",
    "    def buy(self):\n",
    "        print(\"Buy phone\")\n",
    "\n",
    "    def return_phone(self):\n",
    "        print(\"Return phone\")\n",
    "\n",
    "\n",
    "\n",
    "class Product:\n",
    "    def review(self):\n",
    "        print(\"Review\")\n",
    "\n",
    "class smartphone(Phone,Product):\n",
    "    pass\n",
    "\n",
    "Smartphone(1000,\"apple\",12)\n",
    "\n",
    "s.buy()\n",
    "s.review()"
   ]
  },
  {
   "cell_type": "markdown",
   "metadata": {},
   "source": [
    "### MRO (method resolution order)"
   ]
  },
  {
   "cell_type": "code",
   "execution_count": 35,
   "metadata": {},
   "outputs": [
    {
     "name": "stdout",
     "output_type": "stream",
     "text": [
      "Inside phone constructor\n",
      "Buy phone\n"
     ]
    }
   ],
   "source": [
    "class Phone:\n",
    "    def __init__(self,price,brand,camera):\n",
    "        print(\"Inside phone\")\n",
    "        self.__price = price\n",
    "        self.brand=brand\n",
    "        self.camera = camera\n",
    "\n",
    "\n",
    "    def buy(self):\n",
    "        print(\"Buy phone\")\n",
    "\n",
    "    def return_phone(self):\n",
    "        print(\"Return phone\")\n",
    "\n",
    "\n",
    "\n",
    "class Product:\n",
    "    def buy(self):\n",
    "        print(\"Buy Product\")\n",
    "\n",
    "class smartphone(Phone,Product):\n",
    "    pass\n",
    "\n",
    "Smartphone(1000,\"apple\",12)\n",
    "\n",
    "s.buy()"
   ]
  },
  {
   "cell_type": "markdown",
   "metadata": {},
   "source": [
    "### multi level"
   ]
  },
  {
   "cell_type": "code",
   "execution_count": 37,
   "metadata": {},
   "outputs": [
    {
     "name": "stdout",
     "output_type": "stream",
     "text": [
      "70\n"
     ]
    }
   ],
   "source": [
    "class A:\n",
    "    def m1(self):\n",
    "        return 20\n",
    "    \n",
    "\n",
    "class B(A):\n",
    "    def m1(self):\n",
    "        return 30 \n",
    "    def m2(self):\n",
    "        return 40\n",
    "    \n",
    "\n",
    "class C(B):\n",
    "    def m2(self):\n",
    "        return 20\n",
    "    \n",
    "\n",
    "ob1 = A()\n",
    "ob2 = B()\n",
    "ob3 = C()\n",
    "\n",
    "print(ob1.m1()+ob3.m1()+ob3.m2())"
   ]
  }
 ],
 "metadata": {
  "kernelspec": {
   "display_name": "Python 3",
   "language": "python",
   "name": "python3"
  },
  "language_info": {
   "codemirror_mode": {
    "name": "ipython",
    "version": 3
   },
   "file_extension": ".py",
   "mimetype": "text/x-python",
   "name": "python",
   "nbconvert_exporter": "python",
   "pygments_lexer": "ipython3",
   "version": "3.11.2"
  },
  "orig_nbformat": 4
 },
 "nbformat": 4,
 "nbformat_minor": 2
}
