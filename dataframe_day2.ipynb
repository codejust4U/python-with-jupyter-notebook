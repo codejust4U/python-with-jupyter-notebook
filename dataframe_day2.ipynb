{
 "cells": [
  {
   "cell_type": "code",
   "execution_count": 4,
   "metadata": {},
   "outputs": [
    {
     "name": "stdout",
     "output_type": "stream",
     "text": [
      "0       pankaj\n",
      "1         ravi\n",
      "2    amanuwell\n",
      "3       subash\n",
      "4      gulshan\n",
      "Name: name, dtype: object\n",
      "0    50\n",
      "1    59\n",
      "2     9\n",
      "3    65\n",
      "4    34\n",
      "Name: rollno, dtype: int64\n",
      "0    40\n",
      "1    99\n",
      "2    98\n",
      "3    97\n",
      "4    96\n",
      "Name: marks, dtype: int64\n",
      "0     first\n",
      "1     first\n",
      "2    second\n",
      "3    second\n",
      "4     first\n",
      "Name: class, dtype: object\n"
     ]
    }
   ],
   "source": [
    "\"\"\"\n",
    "Iterating over Columns :\n",
    "In order to iterate over columns, we need to create a list of dataframe columns and then iterating through that list to pull out the dataframe columns.\n",
    "\"\"\"\n",
    "import pandas as pd\n",
    "import numpy as np\n",
    "data1 = {\n",
    "    \"name\" : [\"pankaj\",\"ravi\",\"amanuwell\",\"subash\",\"gulshan\"],\n",
    "    \"rollno\" : [50,59,9,65,34],\n",
    "    \"marks\" : [40,99,98,97,96],\n",
    "    \"class\" : [\"first\",\"first\",\"second\",\"second\",\"first\"]\n",
    "}\n",
    "dataframe1 = pd.DataFrame(data1)\n",
    "column1 = list(dataframe1)\n",
    "for i in column1:\n",
    "    print(dataframe1[i])"
   ]
  },
  {
   "cell_type": "code",
   "execution_count": null,
   "metadata": {},
   "outputs": [],
   "source": [
    "\"\"\"\n",
    "For more Details refer to Iterating over rows and columns in Pandas DataFrame\n",
    "\n",
    "DataFrame Methods:\n",
    "\n",
    "FUNCTION\tDESCRIPTION\n",
    "index()\tMethod returns index (row labels) of the DataFrame\n",
    "insert()\tMethod inserts a column into a DataFrame\n",
    "add()\tMethod returns addition of dataframe and other, element-wise (binary operator add)\n",
    "sub()\tMethod returns subtraction of dataframe and other, element-wise (binary operator sub)\n",
    "mul()\tMethod returns multiplication of dataframe and other, element-wise (binary operator mul)\n",
    "div()\tMethod returns floating division of dataframe and other, element-wise (binary operator truediv)\n",
    "unique()\tMethod extracts the unique values in the dataframe\n",
    "nunique()\tMethod returns count of the unique values in the dataframe\n",
    "value_counts()\tMethod counts the number of times each unique value occurs within the Series\n",
    "columns()\tMethod returns the column labels of the DataFrame\n",
    "axes()\tMethod returns a list representing the axes of the DataFrame\n",
    "isnull()\tMethod creates a Boolean Series for extracting rows with null values\n",
    "notnull()\tMethod creates a Boolean Series for extracting rows with non-null values\n",
    "between()\tMethod extracts rows where a column value falls in between a predefined range\n",
    "isin()\tMethod extracts rows from a DataFrame where a column value exists in a predefined collection\n",
    "dtypes()\tMethod returns a Series with the data type of each column. The result’s index is the original DataFrame’s columns\n",
    "astype()\tMethod converts the data types in a Series\n",
    "values()\tMethod returns a Numpy representation of the DataFrame i.e. only the values in the DataFrame will be returned, the axes labels will be removed\n",
    "sort_values()- Set1, Set2\tMethod sorts a data frame in Ascending or Descending order of passed Column\n",
    "sort_index()\tMethod sorts the values in a DataFrame based on their index positions or labels instead of their values but sometimes a data frame is made out of two or more data frames and hence later index can be changed using this method\n",
    "loc[]\tMethod retrieves rows based on index label\n",
    "iloc[]\tMethod retrieves rows based on index position\n",
    "ix[]\tMethod retrieves DataFrame rows based on either index label or index position. This method combines the best features of the .loc[] and .iloc[] methods\n",
    "rename()\tMethod is called on a DataFrame to change the names of the index labels or column names\n",
    "columns()\tMethod is an alternative attribute to change the coloumn name\n",
    "drop()\tMethod is used to delete rows or columns from a DataFrame\n",
    "pop()\tMethod is used to delete rows or columns from a DataFrame\n",
    "sample()\tMethod pulls out a random sample of rows or columns from a DataFrame\n",
    "nsmallest()\tMethod pulls out the rows with the smallest values in a column\n",
    "nlargest()\tMethod pulls out the rows with the largest values in a column\n",
    "shape()\tMethod returns a tuple representing the dimensionality of the DataFrame\n",
    "ndim()\tMethod returns an ‘int’ representing the number of axes / array dimensions.\n",
    "Returns 1 if Series, otherwise returns 2 if DataFrame\n",
    "dropna()\tMethod allows the user to analyze and drop Rows/Columns with Null values in different ways\n",
    "fillna()\tMethod manages and let the user replace NaN values with some value of their own\n",
    "rank()\tValues in a Series can be ranked in order with this method\n",
    "query()\tMethod is an alternate string-based syntax for extracting a subset from a DataFrame\n",
    "copy()\tMethod creates an independent copy of a pandas object\n",
    "duplicated()\tMethod creates a Boolean Series and uses it to extract rows that have duplicate values\n",
    "drop_duplicates()\tMethod is an alternative option to identifying duplicate rows and removing them through filtering\n",
    "set_index()\tMethod sets the DataFrame index (row labels) using one or more existing columns\n",
    "reset_index()\tMethod resets index of a Data Frame. This method sets a list of integer ranging from 0 to length of data as index\n",
    "where()\tMethod is used to check a Data Frame for one or more condition and return the result accordingly. By default, the rows not satisfying the condition are filled with NaN value\n",
    "\"\"\""
   ]
  },
  {
   "cell_type": "code",
   "execution_count": 5,
   "metadata": {},
   "outputs": [
    {
     "name": "stdout",
     "output_type": "stream",
     "text": [
      "name      [pankaj, ravi, amanuwell, subash, gulshan]\n",
      "rollno                           [50, 59, 9, 65, 34]\n",
      "marks                           [40, 99, 98, 97, 96]\n",
      "class          [first, first, second, second, first]\n",
      "dtype: object\n"
     ]
    }
   ],
   "source": [
    "serial_data = pd.Series(data1)\n",
    "print(serial_data)"
   ]
  },
  {
   "cell_type": "code",
   "execution_count": 7,
   "metadata": {},
   "outputs": [
    {
     "name": "stdout",
     "output_type": "stream",
     "text": [
      "0    p\n",
      "1    a\n",
      "2    n\n",
      "3    k\n",
      "4    a\n",
      "5    j\n",
      "dtype: object\n"
     ]
    }
   ],
   "source": [
    "import numpy as np\n",
    "dataframe2 = np.array(['p','a','n','k','a','j'])\n",
    "serial_data2 = pd.Series(dataframe2)\n",
    "print(serial_data2)"
   ]
  },
  {
   "cell_type": "code",
   "execution_count": 8,
   "metadata": {},
   "outputs": [
    {
     "name": "stdout",
     "output_type": "stream",
     "text": [
      "0        John\n",
      "1        Jane\n",
      "2       Sarah\n",
      "3       Frank\n",
      "4        Mike\n",
      "5    Jennifer\n",
      "6     Jessica\n",
      "7        Fred\n",
      "8         Bob\n",
      "9         NaN\n",
      "Name: first_name, dtype: object\n"
     ]
    }
   ],
   "source": [
    "dataframe3 = pd.read_csv(r'D:\\excel_datas\\day1\\students - Sheet1.csv')\n",
    "\n",
    "serial_data3 = pd.Series(dataframe3['first_name'])\n",
    "limit = serial_data3.head(10)\n",
    "print(limit)"
   ]
  },
  {
   "cell_type": "code",
   "execution_count": 9,
   "metadata": {},
   "outputs": [
    {
     "name": "stdout",
     "output_type": "stream",
     "text": [
      "21    p\n",
      "22    a\n",
      "23    n\n",
      "24    k\n",
      "25    a\n",
      "26    j\n",
      "dtype: object\n"
     ]
    }
   ],
   "source": [
    "dataframe3 = np.array(['p','a','n','k','a','j'])\n",
    "\n",
    "serial_data4 = pd.Series(dataframe3,index=[21,22,23,24,25,26])\n",
    "print(serial_data4)"
   ]
  },
  {
   "cell_type": "code",
   "execution_count": 10,
   "metadata": {},
   "outputs": [
    {
     "name": "stdout",
     "output_type": "stream",
     "text": [
      "0     1.0\n",
      "1     6.0\n",
      "2    11.0\n",
      "dtype: float64\n",
      "-------------------------------------------------------------------------------\n",
      "\n",
      "0     0.000000\n",
      "1     5.555556\n",
      "2    11.111111\n",
      "3    16.666667\n",
      "4    22.222222\n",
      "5    27.777778\n",
      "6    33.333333\n",
      "7    38.888889\n",
      "8    44.444444\n",
      "9    50.000000\n",
      "dtype: float64\n"
     ]
    }
   ],
   "source": [
    "serial_data5 = pd.Series(np.linspace(1,11,3))\n",
    "print(serial_data5)\n",
    "print(\"-------------------------------------------------------------------------------\\n\")\n",
    "serial_data6 = pd.Series(np.linspace(0,50,10))\n",
    "print(serial_data6)"
   ]
  },
  {
   "cell_type": "code",
   "execution_count": 11,
   "metadata": {},
   "outputs": [
    {
     "name": "stdout",
     "output_type": "stream",
     "text": [
      "a     1\n",
      "b     7\n",
      "c    13\n",
      "d    19\n",
      "e    25\n",
      "f    31\n",
      "g    37\n",
      "dtype: int64\n"
     ]
    }
   ],
   "source": [
    "serial_data7=pd.Series(range(1,40,6), index=[x for x in 'abcdefg'])\n",
    "print(serial_data7)"
   ]
  },
  {
   "cell_type": "code",
   "execution_count": 12,
   "metadata": {},
   "outputs": [
    {
     "name": "stdout",
     "output_type": "stream",
     "text": [
      "11     88\n",
      "12     96\n",
      "13    104\n",
      "14    112\n",
      "15    120\n",
      "dtype: int32\n"
     ]
    }
   ],
   "source": [
    "serial_data8=np.arange(11,16)\n",
    "serobj=pd.Series(data=serial_data8*8,index=serial_data8)\n",
    "print(serobj)"
   ]
  }
 ],
 "metadata": {
  "kernelspec": {
   "display_name": "Python 3",
   "language": "python",
   "name": "python3"
  },
  "language_info": {
   "codemirror_mode": {
    "name": "ipython",
    "version": 3
   },
   "file_extension": ".py",
   "mimetype": "text/x-python",
   "name": "python",
   "nbconvert_exporter": "python",
   "pygments_lexer": "ipython3",
   "version": "3.11.2"
  },
  "orig_nbformat": 4
 },
 "nbformat": 4,
 "nbformat_minor": 2
}
