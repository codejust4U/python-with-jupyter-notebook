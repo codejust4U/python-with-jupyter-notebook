{
 "cells": [
  {
   "cell_type": "markdown",
   "metadata": {},
   "source": [
    "# Form using Tkinter"
   ]
  },
  {
   "cell_type": "code",
   "execution_count": 2,
   "metadata": {},
   "outputs": [],
   "source": [
    "# importing the modules\n",
    "from tkinter import *"
   ]
  },
  {
   "cell_type": "code",
   "execution_count": 51,
   "metadata": {},
   "outputs": [
    {
     "name": "stdout",
     "output_type": "stream",
     "text": [
      "Your datas are as follows : \n",
      "Nama  = pankaj\n",
      "Age  = 22\n",
      "DOB = 545675\n",
      "Gender = male\n"
     ]
    }
   ],
   "source": [
    "root = Tk()\n",
    "\n",
    "root.geometry(\"500x400\")\n",
    "root.config(background=\"#13d444\")\n",
    "root.resizable(False,False)\n",
    "\n",
    "\n",
    "def confirm():\n",
    "    print(\"Your datas are as follows : \")\n",
    "    print(\"Nama  = \"+inp1.get())\n",
    "    print(\"Age  = \"+inp2.get())\n",
    "    print(\"DOB = \"+inp3.get())\n",
    "    print(\"Gender = \"+inp4.get())\n",
    "\n",
    "\n",
    "heading = Label(root,text=\"Registration Form\",bg=\"#13d444\",fg=\"red\",font=(\"times new roman\",35))\n",
    "heading.pack()\n",
    "\n",
    "name = Label(root,text=\"Name\",bg=\"#13d444\",font=(\"times new roman\",20))\n",
    "name.place(x=50,y=80)\n",
    "inp1 = Entry(root,font=(\"times new roman\",20))\n",
    "inp1.place(x=150,y=80)\n",
    "\n",
    "age = Label(root,text=\"Age\",bg=\"#13d444\",font=(\"times new roman\",20))\n",
    "age.place(x=50,y=130)\n",
    "inp2 = Entry(root,font=(\"times new roman\",20))\n",
    "inp2.place(x=150,y=130)\n",
    "\n",
    "dob = Label(root,text=\"DOB\",bg=\"#13d444\",font=(\"times new roman\",20))\n",
    "dob.place(x=50,y=180)\n",
    "inp3 = Entry(root,font=(\"times new roman\",20))\n",
    "inp3.place(x=150,y=180)\n",
    "\n",
    "gender = Label(root,text=\"Gender\",bg=\"#13d444\",font=(\"times new roman\",20))\n",
    "gender.place(x=50,y=230)\n",
    "inp4 = Entry(root,font=(\"times new roman\",20))\n",
    "inp4.place(x=150,y=230)\n",
    "\n",
    "\n",
    "btn1 = Button(root,text=\"Submit\",font=('times new roman',30),cursor=\"hand2\",command=confirm)\n",
    "btn1.place(x=180,y=300)\n",
    "\n",
    "root.mainloop()"
   ]
  }
 ],
 "metadata": {
  "kernelspec": {
   "display_name": "Python 3",
   "language": "python",
   "name": "python3"
  },
  "language_info": {
   "codemirror_mode": {
    "name": "ipython",
    "version": 3
   },
   "file_extension": ".py",
   "mimetype": "text/x-python",
   "name": "python",
   "nbconvert_exporter": "python",
   "pygments_lexer": "ipython3",
   "version": "3.11.2"
  }
 },
 "nbformat": 4,
 "nbformat_minor": 2
}
