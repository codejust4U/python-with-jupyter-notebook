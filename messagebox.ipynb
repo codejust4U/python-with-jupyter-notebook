{
 "cells": [
  {
   "cell_type": "markdown",
   "metadata": {},
   "source": [
    "# messagebox in tkinter"
   ]
  },
  {
   "cell_type": "code",
   "execution_count": 1,
   "metadata": {},
   "outputs": [],
   "source": [
    "#importing the modules\n",
    "from tkinter import *\n",
    "from tkinter import messagebox"
   ]
  },
  {
   "cell_type": "code",
   "execution_count": 5,
   "metadata": {},
   "outputs": [],
   "source": [
    "root = Tk()\n",
    "root.geometry(\"300x200\") \n",
    "  \n",
    "w = Label(root, text ='GeeksForGeeks', font = \"50\")  \n",
    "w.pack() \n",
    "\n",
    "messagebox.showerror('showerror','Error')\n",
    "\n",
    "root.mainloop()"
   ]
  },
  {
   "cell_type": "code",
   "execution_count": 6,
   "metadata": {},
   "outputs": [],
   "source": [
    "root = Tk()\n",
    "root.geometry(\"300x200\") \n",
    "  \n",
    "w = Label(root, text ='GeeksForGeeks', font = \"50\")  \n",
    "w.pack() \n",
    "\n",
    "messagebox.showinfo('showinfo','Information')\n",
    "\n",
    "root.mainloop()"
   ]
  },
  {
   "cell_type": "code",
   "execution_count": 7,
   "metadata": {},
   "outputs": [],
   "source": [
    "root = Tk()\n",
    "root.geometry(\"300x200\") \n",
    "  \n",
    "w = Label(root, text ='GeeksForGeeks', font = \"50\")  \n",
    "w.pack() \n",
    "\n",
    "messagebox.showwarning('showwarning','Warning')\n",
    "\n",
    "root.mainloop()"
   ]
  },
  {
   "cell_type": "code",
   "execution_count": 10,
   "metadata": {},
   "outputs": [],
   "source": [
    "root = Tk()\n",
    "root.geometry(\"300x200\") \n",
    "  \n",
    "w = Label(root, text ='GeeksForGeeks', font = \"50\")  \n",
    "w.pack() \n",
    "\n",
    "messagebox.askquestion('Question','Are you sure?')\n",
    "\n",
    "root.mainloop()"
   ]
  },
  {
   "cell_type": "code",
   "execution_count": 11,
   "metadata": {},
   "outputs": [],
   "source": [
    "root = Tk()\n",
    "root.geometry(\"300x200\") \n",
    "  \n",
    "w = Label(root, text ='GeeksForGeeks', font = \"50\")  \n",
    "w.pack() \n",
    "\n",
    "messagebox.askokcancel('Ok?','want to continue?')\n",
    "\n",
    "root.mainloop()"
   ]
  },
  {
   "cell_type": "code",
   "execution_count": 12,
   "metadata": {},
   "outputs": [],
   "source": [
    "root = Tk()\n",
    "root.geometry(\"300x200\") \n",
    "  \n",
    "w = Label(root, text ='GeeksForGeeks', font = \"50\")  \n",
    "w.pack() \n",
    "\n",
    "messagebox.askretrycancel('retry?',\"Try again\")\n",
    "\n",
    "root.mainloop()"
   ]
  }
 ],
 "metadata": {
  "kernelspec": {
   "display_name": "Python 3",
   "language": "python",
   "name": "python3"
  },
  "language_info": {
   "codemirror_mode": {
    "name": "ipython",
    "version": 3
   },
   "file_extension": ".py",
   "mimetype": "text/x-python",
   "name": "python",
   "nbconvert_exporter": "python",
   "pygments_lexer": "ipython3",
   "version": "3.11.2"
  }
 },
 "nbformat": 4,
 "nbformat_minor": 2
}
