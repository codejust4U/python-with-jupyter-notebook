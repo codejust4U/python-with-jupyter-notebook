{
 "cells": [
  {
   "cell_type": "markdown",
   "metadata": {},
   "source": [
    "# Button with destroy function"
   ]
  },
  {
   "cell_type": "code",
   "execution_count": null,
   "metadata": {},
   "outputs": [],
   "source": [
    "# import tkinter module \n",
    "from tkinter import *\t\n",
    "\n",
    "# Following will import tkinter.ttk module and \n",
    "# automatically override all the widgets \n",
    "# which are present in tkinter module. \n",
    "from tkinter.ttk import *\n",
    "\n",
    "# Create Object\n",
    "root = Tk() \n",
    "\n",
    "# Initialize tkinter window with dimensions 100x100\t\t\t \n",
    "root.geometry('100x100')\t \n",
    "\n",
    "btn = Button(root, text = 'Click me !', \n",
    "\t\t\t\tcommand = root.destroy) \n",
    "\n",
    "# Set the position of button on the top of window \n",
    "btn.pack(side = 'top')\t \n",
    "\n",
    "root.mainloop() "
   ]
  }
 ],
 "metadata": {
  "language_info": {
   "name": "python"
  }
 },
 "nbformat": 4,
 "nbformat_minor": 2
}
