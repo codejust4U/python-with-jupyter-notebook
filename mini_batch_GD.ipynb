{
 "cells": [
  {
   "cell_type": "code",
   "execution_count": 91,
   "metadata": {},
   "outputs": [
    {
     "name": "stdout",
     "output_type": "stream",
     "text": [
      "(442, 10)\n",
      "(442,)\n",
      "Coefficient :  [  -9.15865318 -205.45432163  516.69374454  340.61999905 -895.5520019\n",
      "  561.22067904  153.89310954  126.73139688  861.12700152   52.42112238]\n",
      "\n",
      "Intercept :  151.88331005254167\n",
      "0.4399338661568969\n",
      "(353, 10)\n"
     ]
    }
   ],
   "source": [
    "from sklearn.datasets import load_diabetes\n",
    "import numpy as np\n",
    "import pandas as pd\n",
    "from sklearn.linear_model import LinearRegression\n",
    "from sklearn.metrics import r2_score\n",
    "from sklearn.model_selection import train_test_split\n",
    "import time\n",
    "\n",
    "X,y = load_diabetes(return_X_y=True)\n",
    "\n",
    "print(X.shape)\n",
    "print(y.shape)\n",
    "\n",
    "X_train,X_test,y_train,y_test=train_test_split(X,y,test_size=0.2,random_state=2)\n",
    "\n",
    "reg = LinearRegression()\n",
    "\n",
    "reg.fit(X_train,y_train)\n",
    "\n",
    "print(\"Coefficient : \",reg.coef_)\n",
    "print(\"\\nIntercept : \",reg.intercept_)\n",
    "\n",
    "y_pred = reg.predict(X_test)\n",
    "print(r2_score(y_test,y_pred))\n",
    "\n",
    "print(X_train.shape)"
   ]
  },
  {
   "cell_type": "code",
   "execution_count": 92,
   "metadata": {},
   "outputs": [],
   "source": [
    "import random\n",
    "class MBGDRegressor:\n",
    "    def __init__(self,batch_size,learning_rate=0.01,epochs=100):\n",
    "        self.coef_=None\n",
    "        self.intercept_=None\n",
    "        self.lr= learning_rate\n",
    "        self.epochs = epochs\n",
    "        self.batch_size= batch_size\n",
    "\n",
    "    def fit(self,X_train,y_train):\n",
    "        #init the coeffiecients\n",
    "        self.intercept_=0\n",
    "        self.coef_ = np.ones(X_train.shape[1])\n",
    "\n",
    "        for i in range(self.epochs):\n",
    "            for j in range(int(X_train.shape[0]/self.batch_size)):\n",
    "                idx = random.sample(range(X_train.shape[0]),self.batch_size)\n",
    "            # update coef abd intercept\n",
    "                y_hat = np.dot(X_train[idx],self.coef_)+self.intercept_\n",
    "            #print(\"Shape if y_hat: \",y_hat.shape)\n",
    "                intercept_der = -2*np.mean(y_train[idx]-y_hat)\n",
    "\n",
    "                self.intercept_ = self.intercept_ - (self.lr* intercept_der)\n",
    "\n",
    "                coef_der = -2 * np.dot((y_train[idx]-y_hat), X_train[idx])\n",
    "\n",
    "\n",
    "                self.coef_ = self.coef_ - (self.lr*coef_der)\n",
    "\n",
    "        print(\"Intercept : \",self.intercept_,\"\\n\",\"Coefficient : \",self.coef_)\n",
    "        \n",
    "\n",
    "    def predict(self,X_test):\n",
    "        return np.dot(X_test,self.coef_)+self.intercept_"
   ]
  },
  {
   "cell_type": "code",
   "execution_count": 93,
   "metadata": {},
   "outputs": [],
   "source": [
    "mbgd = MBGDRegressor(batch_size=int(X_train.shape[0]/50),learning_rate=0.009,epochs=100)\n"
   ]
  },
  {
   "cell_type": "code",
   "execution_count": 94,
   "metadata": {},
   "outputs": [
    {
     "name": "stdout",
     "output_type": "stream",
     "text": [
      "Intercept :  150.2954824612994 \n",
      " Coefficient :  [  40.03830826 -120.35650173  437.78865424  303.59034736  -13.80126768\n",
      "  -74.93234427 -187.191702    115.63847773  389.99349537  109.82071758]\n"
     ]
    }
   ],
   "source": [
    "mbgd.fit(X_train,y_train)"
   ]
  },
  {
   "cell_type": "code",
   "execution_count": 95,
   "metadata": {},
   "outputs": [],
   "source": [
    "y_pred = mbgd.predict(X_test)"
   ]
  },
  {
   "cell_type": "code",
   "execution_count": 96,
   "metadata": {},
   "outputs": [
    {
     "data": {
      "text/plain": [
       "0.4488599116343036"
      ]
     },
     "execution_count": 96,
     "metadata": {},
     "output_type": "execute_result"
    }
   ],
   "source": [
    "r2_score(y_test,y_pred)"
   ]
  },
  {
   "cell_type": "code",
   "execution_count": 97,
   "metadata": {},
   "outputs": [],
   "source": [
    "from sklearn.linear_model import SGDRegressor"
   ]
  },
  {
   "cell_type": "code",
   "execution_count": 98,
   "metadata": {},
   "outputs": [],
   "source": [
    "sgd=SGDRegressor(learning_rate='constant',eta0=0.1)"
   ]
  },
  {
   "cell_type": "code",
   "execution_count": 99,
   "metadata": {},
   "outputs": [],
   "source": [
    "batch_size=35\n",
    "for i in range(100):\n",
    "    idx = random.sample(range(X_train.shape[0]),batch_size)\n",
    "    sgd.partial_fit(X_train[idx],y_train[idx])"
   ]
  },
  {
   "cell_type": "code",
   "execution_count": 100,
   "metadata": {},
   "outputs": [
    {
     "data": {
      "text/plain": [
       "array([  59.90587345,  -65.70478721,  343.28286773,  262.68876281,\n",
       "         31.57707375,  -28.66546901, -148.61087579,  125.81453708,\n",
       "        329.732155  ,  138.60866016])"
      ]
     },
     "execution_count": 100,
     "metadata": {},
     "output_type": "execute_result"
    }
   ],
   "source": [
    "sgd.coef_"
   ]
  },
  {
   "cell_type": "code",
   "execution_count": 101,
   "metadata": {},
   "outputs": [
    {
     "data": {
      "text/plain": [
       "array([163.62156844])"
      ]
     },
     "execution_count": 101,
     "metadata": {},
     "output_type": "execute_result"
    }
   ],
   "source": [
    "sgd.intercept_\n"
   ]
  },
  {
   "cell_type": "code",
   "execution_count": 102,
   "metadata": {},
   "outputs": [
    {
     "data": {
      "text/plain": [
       "array([168.84101638, 204.68821684, 151.1196437 , 122.22929028,\n",
       "       257.07857649, 244.35283477, 120.5957287 , 125.59540315,\n",
       "       106.06571719, 195.32881525, 174.8996098 , 182.63493101,\n",
       "       194.34458879, 162.9050532 , 266.0965182 , 108.31414   ,\n",
       "       196.32775435, 151.04322251, 152.36660839, 150.09886077,\n",
       "       142.26840066, 202.97442951, 176.98609406, 191.57512039,\n",
       "       140.36084647, 229.77632814, 207.25338827, 135.28737793,\n",
       "        73.01499877, 254.72018289, 246.81818361, 131.3616702 ,\n",
       "        84.95824528, 121.71463116, 212.61915479, 176.21369577,\n",
       "       180.02400231, 207.88784817, 127.69996789, 247.12548797,\n",
       "       146.41738393, 139.1574986 , 195.27524899, 197.73867943,\n",
       "       180.54322976, 155.30326416, 185.17809483, 289.41701911,\n",
       "       128.69584393, 201.82611085, 250.76170723, 138.78198372,\n",
       "       153.71469321, 160.19441222, 202.40083364, 123.84411201,\n",
       "       168.10047247,  99.32002169, 171.85064976, 153.09055227,\n",
       "       176.06814911, 182.23916022, 123.98395894, 217.52853337,\n",
       "       166.40971275, 168.13151613, 160.46380218, 197.64574883,\n",
       "       132.46140873, 155.57544394, 213.83206859, 198.03367459,\n",
       "       130.82602825, 162.21844279, 154.25545948, 124.77987756,\n",
       "        96.43219905, 100.27342174, 181.20154076, 101.07143015,\n",
       "       107.48660858, 116.26130007, 174.51022059, 270.01949478,\n",
       "       211.87993217, 149.49004545, 261.36990136, 194.93118118,\n",
       "       127.21016787])"
      ]
     },
     "execution_count": 102,
     "metadata": {},
     "output_type": "execute_result"
    }
   ],
   "source": [
    "sgd.predict(X_test)"
   ]
  },
  {
   "cell_type": "code",
   "execution_count": 103,
   "metadata": {},
   "outputs": [
    {
     "data": {
      "text/plain": [
       "0.4488599116343036"
      ]
     },
     "execution_count": 103,
     "metadata": {},
     "output_type": "execute_result"
    }
   ],
   "source": [
    "r2_score(y_test,y_pred)"
   ]
  }
 ],
 "metadata": {
  "kernelspec": {
   "display_name": "Python 3",
   "language": "python",
   "name": "python3"
  },
  "language_info": {
   "codemirror_mode": {
    "name": "ipython",
    "version": 3
   },
   "file_extension": ".py",
   "mimetype": "text/x-python",
   "name": "python",
   "nbconvert_exporter": "python",
   "pygments_lexer": "ipython3",
   "version": "3.11.2"
  },
  "orig_nbformat": 4
 },
 "nbformat": 4,
 "nbformat_minor": 2
}
