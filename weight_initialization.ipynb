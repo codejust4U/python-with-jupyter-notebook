{
 "cells": [
  {
   "cell_type": "markdown",
   "metadata": {},
   "source": [
    "# Using Relu"
   ]
  },
  {
   "cell_type": "code",
   "execution_count": 20,
   "metadata": {},
   "outputs": [],
   "source": [
    "import numpy as np\n",
    "import pandas as pd\n",
    "import matplotlib.pyplot as plt"
   ]
  },
  {
   "cell_type": "code",
   "execution_count": 21,
   "metadata": {},
   "outputs": [],
   "source": [
    "df = pd.read_excel(r'D:\\copy of htdocs\\practice\\Python\\200days\\Day184 Dee[ Learning Day 14\\dataset.xlsx')"
   ]
  },
  {
   "cell_type": "code",
   "execution_count": 22,
   "metadata": {},
   "outputs": [
    {
     "data": {
      "text/html": [
       "<div>\n",
       "<style scoped>\n",
       "    .dataframe tbody tr th:only-of-type {\n",
       "        vertical-align: middle;\n",
       "    }\n",
       "\n",
       "    .dataframe tbody tr th {\n",
       "        vertical-align: top;\n",
       "    }\n",
       "\n",
       "    .dataframe thead th {\n",
       "        text-align: right;\n",
       "    }\n",
       "</style>\n",
       "<table border=\"1\" class=\"dataframe\">\n",
       "  <thead>\n",
       "    <tr style=\"text-align: right;\">\n",
       "      <th></th>\n",
       "      <th>X</th>\n",
       "      <th>Y</th>\n",
       "      <th>class</th>\n",
       "    </tr>\n",
       "  </thead>\n",
       "  <tbody>\n",
       "    <tr>\n",
       "      <th>0</th>\n",
       "      <td>0.3160</td>\n",
       "      <td>0.9870</td>\n",
       "      <td>0</td>\n",
       "    </tr>\n",
       "    <tr>\n",
       "      <th>1</th>\n",
       "      <td>2.1200</td>\n",
       "      <td>-0.0462</td>\n",
       "      <td>1</td>\n",
       "    </tr>\n",
       "    <tr>\n",
       "      <th>2</th>\n",
       "      <td>0.8800</td>\n",
       "      <td>-0.0758</td>\n",
       "      <td>0</td>\n",
       "    </tr>\n",
       "    <tr>\n",
       "      <th>3</th>\n",
       "      <td>-0.0551</td>\n",
       "      <td>-0.0373</td>\n",
       "      <td>1</td>\n",
       "    </tr>\n",
       "    <tr>\n",
       "      <th>4</th>\n",
       "      <td>0.8300</td>\n",
       "      <td>-0.5390</td>\n",
       "      <td>1</td>\n",
       "    </tr>\n",
       "  </tbody>\n",
       "</table>\n",
       "</div>"
      ],
      "text/plain": [
       "        X       Y  class\n",
       "0  0.3160  0.9870      0\n",
       "1  2.1200 -0.0462      1\n",
       "2  0.8800 -0.0758      0\n",
       "3 -0.0551 -0.0373      1\n",
       "4  0.8300 -0.5390      1"
      ]
     },
     "execution_count": 22,
     "metadata": {},
     "output_type": "execute_result"
    }
   ],
   "source": [
    "df.head()"
   ]
  },
  {
   "cell_type": "code",
   "execution_count": 23,
   "metadata": {},
   "outputs": [
    {
     "data": {
      "text/plain": [
       "<matplotlib.collections.PathCollection at 0x1c88959ec50>"
      ]
     },
     "execution_count": 23,
     "metadata": {},
     "output_type": "execute_result"
    },
    {
     "data": {
      "image/png": "[encoded data removed]",
      "text/plain": [
       "<Figure size 640x480 with 1 Axes>"
      ]
     },
     "metadata": {},
     "output_type": "display_data"
    }
   ],
   "source": [
    "plt.scatter(df['X'],df['Y'],c=df['class'])"
   ]
  },
  {
   "cell_type": "code",
   "execution_count": 24,
   "metadata": {},
   "outputs": [],
   "source": [
    "X = df.iloc[:,0:2].values\n",
    "y = df.iloc[:,-1].values"
   ]
  },
  {
   "cell_type": "code",
   "execution_count": 25,
   "metadata": {},
   "outputs": [],
   "source": [
    "import tensorflow\n",
    "from tensorflow import keras\n",
    "from keras import Sequential\n",
    "from keras.layers import Dense"
   ]
  },
  {
   "cell_type": "code",
   "execution_count": 26,
   "metadata": {},
   "outputs": [
    {
     "name": "stdout",
     "output_type": "stream",
     "text": [
      "Model: \"sequential_1\"\n",
      "_________________________________________________________________\n",
      " Layer (type)                Output Shape              Param #   \n",
      "=================================================================\n",
      " dense_2 (Dense)             (None, 10)                30        \n",
      "                                                                 \n",
      " dense_3 (Dense)             (None, 1)                 11        \n",
      "                                                                 \n",
      "=================================================================\n",
      "Total params: 41 (164.00 Byte)\n",
      "Trainable params: 41 (164.00 Byte)\n",
      "Non-trainable params: 0 (0.00 Byte)\n",
      "_________________________________________________________________\n"
     ]
    }
   ],
   "source": [
    "model = Sequential()\n",
    "\n",
    "model.add(Dense(10,activation='relu',input_dim=2))\n",
    "model.add(Dense(1,activation='relu'))\n",
    "\n",
    "model.summary()"
   ]
  },
  {
   "cell_type": "code",
   "execution_count": 27,
   "metadata": {},
   "outputs": [
    {
     "data": {
      "text/plain": [
       "[array([[ 0.45135313, -0.5159843 ,  0.03189182,  0.44949752,  0.6899237 ,\n",
       "          0.6045653 ,  0.58279616,  0.23778123,  0.6786925 ,  0.5852141 ],\n",
       "        [-0.12602395,  0.17431939, -0.3394106 , -0.21225995, -0.6291122 ,\n",
       "          0.49692124, -0.1304583 , -0.5203944 , -0.49278045, -0.39081877]],\n",
       "       dtype=float32),\n",
       " array([0., 0., 0., 0., 0., 0., 0., 0., 0., 0.], dtype=float32),\n",
       " array([[ 0.01028454],\n",
       "        [ 0.41873533],\n",
       "        [-0.42121708],\n",
       "        [ 0.3380192 ],\n",
       "        [-0.57014155],\n",
       "        [-0.25936756],\n",
       "        [ 0.10185939],\n",
       "        [-0.6445267 ],\n",
       "        [ 0.07036942],\n",
       "        [-0.3824297 ]], dtype=float32),\n",
       " array([0.], dtype=float32)]"
      ]
     },
     "execution_count": 27,
     "metadata": {},
     "output_type": "execute_result"
    }
   ],
   "source": [
    "# Set parameters to 0\n",
    "model.get_weights()"
   ]
  },
  {
   "cell_type": "code",
   "execution_count": 28,
   "metadata": {},
   "outputs": [],
   "source": [
    "initial_weights = model.get_weights()"
   ]
  },
  {
   "cell_type": "code",
   "execution_count": 29,
   "metadata": {},
   "outputs": [],
   "source": [
    "initial_weights[0] = np.zeros(model.get_weights()[0].shape)\n",
    "initial_weights[1] = np.zeros(model.get_weights()[1].shape)\n",
    "initial_weights[2] = np.zeros(model.get_weights()[2].shape)\n",
    "initial_weights[3] = np.zeros(model.get_weights()[3].shape)"
   ]
  },
  {
   "cell_type": "code",
   "execution_count": 30,
   "metadata": {},
   "outputs": [],
   "source": [
    "model.set_weights(initial_weights)"
   ]
  },
  {
   "cell_type": "code",
   "execution_count": 31,
   "metadata": {},
   "outputs": [
    {
     "data": {
      "text/plain": [
       "[array([[0., 0., 0., 0., 0., 0., 0., 0., 0., 0.],\n",
       "        [0., 0., 0., 0., 0., 0., 0., 0., 0., 0.]], dtype=float32),\n",
       " array([0., 0., 0., 0., 0., 0., 0., 0., 0., 0.], dtype=float32),\n",
       " array([[0.],\n",
       "        [0.],\n",
       "        [0.],\n",
       "        [0.],\n",
       "        [0.],\n",
       "        [0.],\n",
       "        [0.],\n",
       "        [0.],\n",
       "        [0.],\n",
       "        [0.]], dtype=float32),\n",
       " array([0.], dtype=float32)]"
      ]
     },
     "execution_count": 31,
     "metadata": {},
     "output_type": "execute_result"
    }
   ],
   "source": [
    "model.get_weights()"
   ]
  },
  {
   "cell_type": "code",
   "execution_count": 32,
   "metadata": {},
   "outputs": [],
   "source": [
    "model.compile(loss='binary_crossentropy',optimizer='adam',metrics=['accuracy'])"
   ]
  },
  {
   "cell_type": "code",
   "execution_count": 33,
   "metadata": {},
   "outputs": [
    {
     "name": "stdout",
     "output_type": "stream",
     "text": [
      "Epoch 1/100\n"
     ]
    },
    {
     "name": "stdout",
     "output_type": "stream",
     "text": [
      "1/1 [==============================] - 1s 547ms/step - loss: 7.7125 - accuracy: 0.5000 - val_loss: 15.4249 - val_accuracy: 0.0000e+00\n",
      "Epoch 2/100\n",
      "1/1 [==============================] - 0s 27ms/step - loss: 7.7125 - accuracy: 0.5000 - val_loss: 15.4249 - val_accuracy: 0.0000e+00\n",
      "Epoch 3/100\n",
      "1/1 [==============================] - 0s 29ms/step - loss: 7.7125 - accuracy: 0.5000 - val_loss: 15.4249 - val_accuracy: 0.0000e+00\n",
      "Epoch 4/100\n",
      "1/1 [==============================] - 0s 29ms/step - loss: 7.7125 - accuracy: 0.5000 - val_loss: 15.4249 - val_accuracy: 0.0000e+00\n",
      "Epoch 5/100\n",
      "1/1 [==============================] - 0s 26ms/step - loss: 7.7125 - accuracy: 0.5000 - val_loss: 15.4249 - val_accuracy: 0.0000e+00\n",
      "Epoch 6/100\n",
      "1/1 [==============================] - 0s 36ms/step - loss: 7.7125 - accuracy: 0.5000 - val_loss: 15.4249 - val_accuracy: 0.0000e+00\n",
      "Epoch 7/100\n",
      "1/1 [==============================] - 0s 27ms/step - loss: 7.7125 - accuracy: 0.5000 - val_loss: 15.4249 - val_accuracy: 0.0000e+00\n",
      "Epoch 8/100\n",
      "1/1 [==============================] - 0s 26ms/step - loss: 7.7125 - accuracy: 0.5000 - val_loss: 15.4249 - val_accuracy: 0.0000e+00\n",
      "Epoch 9/100\n",
      "1/1 [==============================] - 0s 27ms/step - loss: 7.7125 - accuracy: 0.5000 - val_loss: 15.4249 - val_accuracy: 0.0000e+00\n",
      "Epoch 10/100\n",
      "1/1 [==============================] - 0s 27ms/step - loss: 7.7125 - accuracy: 0.5000 - val_loss: 15.4249 - val_accuracy: 0.0000e+00\n",
      "Epoch 11/100\n",
      "1/1 [==============================] - 0s 26ms/step - loss: 7.7125 - accuracy: 0.5000 - val_loss: 15.4249 - val_accuracy: 0.0000e+00\n",
      "Epoch 12/100\n",
      "1/1 [==============================] - 0s 25ms/step - loss: 7.7125 - accuracy: 0.5000 - val_loss: 15.4249 - val_accuracy: 0.0000e+00\n",
      "Epoch 13/100\n",
      "1/1 [==============================] - 0s 25ms/step - loss: 7.7125 - accuracy: 0.5000 - val_loss: 15.4249 - val_accuracy: 0.0000e+00\n",
      "Epoch 14/100\n",
      "1/1 [==============================] - 0s 24ms/step - loss: 7.7125 - accuracy: 0.5000 - val_loss: 15.4249 - val_accuracy: 0.0000e+00\n",
      "Epoch 15/100\n",
      "1/1 [==============================] - 0s 25ms/step - loss: 7.7125 - accuracy: 0.5000 - val_loss: 15.4249 - val_accuracy: 0.0000e+00\n",
      "Epoch 16/100\n",
      "1/1 [==============================] - 0s 26ms/step - loss: 7.7125 - accuracy: 0.5000 - val_loss: 15.4249 - val_accuracy: 0.0000e+00\n",
      "Epoch 17/100\n",
      "1/1 [==============================] - 0s 26ms/step - loss: 7.7125 - accuracy: 0.5000 - val_loss: 15.4249 - val_accuracy: 0.0000e+00\n",
      "Epoch 18/100\n",
      "1/1 [==============================] - 0s 26ms/step - loss: 7.7125 - accuracy: 0.5000 - val_loss: 15.4249 - val_accuracy: 0.0000e+00\n",
      "Epoch 19/100\n",
      "1/1 [==============================] - 0s 26ms/step - loss: 7.7125 - accuracy: 0.5000 - val_loss: 15.4249 - val_accuracy: 0.0000e+00\n",
      "Epoch 20/100\n",
      "1/1 [==============================] - 0s 26ms/step - loss: 7.7125 - accuracy: 0.5000 - val_loss: 15.4249 - val_accuracy: 0.0000e+00\n",
      "Epoch 21/100\n",
      "1/1 [==============================] - 0s 26ms/step - loss: 7.7125 - accuracy: 0.5000 - val_loss: 15.4249 - val_accuracy: 0.0000e+00\n",
      "Epoch 22/100\n",
      "1/1 [==============================] - 0s 26ms/step - loss: 7.7125 - accuracy: 0.5000 - val_loss: 15.4249 - val_accuracy: 0.0000e+00\n",
      "Epoch 23/100\n",
      "1/1 [==============================] - 0s 26ms/step - loss: 7.7125 - accuracy: 0.5000 - val_loss: 15.4249 - val_accuracy: 0.0000e+00\n",
      "Epoch 24/100\n",
      "1/1 [==============================] - 0s 26ms/step - loss: 7.7125 - accuracy: 0.5000 - val_loss: 15.4249 - val_accuracy: 0.0000e+00\n",
      "Epoch 25/100\n",
      "1/1 [==============================] - 0s 26ms/step - loss: 7.7125 - accuracy: 0.5000 - val_loss: 15.4249 - val_accuracy: 0.0000e+00\n",
      "Epoch 26/100\n",
      "1/1 [==============================] - 0s 25ms/step - loss: 7.7125 - accuracy: 0.5000 - val_loss: 15.4249 - val_accuracy: 0.0000e+00\n",
      "Epoch 27/100\n",
      "1/1 [==============================] - 0s 25ms/step - loss: 7.7125 - accuracy: 0.5000 - val_loss: 15.4249 - val_accuracy: 0.0000e+00\n",
      "Epoch 28/100\n",
      "1/1 [==============================] - 0s 25ms/step - loss: 7.7125 - accuracy: 0.5000 - val_loss: 15.4249 - val_accuracy: 0.0000e+00\n",
      "Epoch 29/100\n",
      "1/1 [==============================] - 0s 25ms/step - loss: 7.7125 - accuracy: 0.5000 - val_loss: 15.4249 - val_accuracy: 0.0000e+00\n",
      "Epoch 30/100\n",
      "1/1 [==============================] - 0s 25ms/step - loss: 7.7125 - accuracy: 0.5000 - val_loss: 15.4249 - val_accuracy: 0.0000e+00\n",
      "Epoch 31/100\n",
      "1/1 [==============================] - 0s 25ms/step - loss: 7.7125 - accuracy: 0.5000 - val_loss: 15.4249 - val_accuracy: 0.0000e+00\n",
      "Epoch 32/100\n",
      "1/1 [==============================] - 0s 26ms/step - loss: 7.7125 - accuracy: 0.5000 - val_loss: 15.4249 - val_accuracy: 0.0000e+00\n",
      "Epoch 33/100\n",
      "1/1 [==============================] - 0s 24ms/step - loss: 7.7125 - accuracy: 0.5000 - val_loss: 15.4249 - val_accuracy: 0.0000e+00\n",
      "Epoch 34/100\n",
      "1/1 [==============================] - 0s 25ms/step - loss: 7.7125 - accuracy: 0.5000 - val_loss: 15.4249 - val_accuracy: 0.0000e+00\n",
      "Epoch 35/100\n",
      "1/1 [==============================] - 0s 25ms/step - loss: 7.7125 - accuracy: 0.5000 - val_loss: 15.4249 - val_accuracy: 0.0000e+00\n",
      "Epoch 36/100\n",
      "1/1 [==============================] - 0s 26ms/step - loss: 7.7125 - accuracy: 0.5000 - val_loss: 15.4249 - val_accuracy: 0.0000e+00\n",
      "Epoch 37/100\n",
      "1/1 [==============================] - 0s 28ms/step - loss: 7.7125 - accuracy: 0.5000 - val_loss: 15.4249 - val_accuracy: 0.0000e+00\n",
      "Epoch 38/100\n",
      "1/1 [==============================] - 0s 28ms/step - loss: 7.7125 - accuracy: 0.5000 - val_loss: 15.4249 - val_accuracy: 0.0000e+00\n",
      "Epoch 39/100\n",
      "1/1 [==============================] - 0s 30ms/step - loss: 7.7125 - accuracy: 0.5000 - val_loss: 15.4249 - val_accuracy: 0.0000e+00\n",
      "Epoch 40/100\n",
      "1/1 [==============================] - 0s 26ms/step - loss: 7.7125 - accuracy: 0.5000 - val_loss: 15.4249 - val_accuracy: 0.0000e+00\n",
      "Epoch 41/100\n",
      "1/1 [==============================] - 0s 27ms/step - loss: 7.7125 - accuracy: 0.5000 - val_loss: 15.4249 - val_accuracy: 0.0000e+00\n",
      "Epoch 42/100\n",
      "1/1 [==============================] - 0s 28ms/step - loss: 7.7125 - accuracy: 0.5000 - val_loss: 15.4249 - val_accuracy: 0.0000e+00\n",
      "Epoch 43/100\n",
      "1/1 [==============================] - 0s 26ms/step - loss: 7.7125 - accuracy: 0.5000 - val_loss: 15.4249 - val_accuracy: 0.0000e+00\n",
      "Epoch 44/100\n",
      "1/1 [==============================] - 0s 25ms/step - loss: 7.7125 - accuracy: 0.5000 - val_loss: 15.4249 - val_accuracy: 0.0000e+00\n",
      "Epoch 45/100\n",
      "1/1 [==============================] - 0s 28ms/step - loss: 7.7125 - accuracy: 0.5000 - val_loss: 15.4249 - val_accuracy: 0.0000e+00\n",
      "Epoch 46/100\n",
      "1/1 [==============================] - 0s 25ms/step - loss: 7.7125 - accuracy: 0.5000 - val_loss: 15.4249 - val_accuracy: 0.0000e+00\n",
      "Epoch 47/100\n",
      "1/1 [==============================] - 0s 25ms/step - loss: 7.7125 - accuracy: 0.5000 - val_loss: 15.4249 - val_accuracy: 0.0000e+00\n",
      "Epoch 48/100\n",
      "1/1 [==============================] - 0s 25ms/step - loss: 7.7125 - accuracy: 0.5000 - val_loss: 15.4249 - val_accuracy: 0.0000e+00\n",
      "Epoch 49/100\n",
      "1/1 [==============================] - 0s 24ms/step - loss: 7.7125 - accuracy: 0.5000 - val_loss: 15.4249 - val_accuracy: 0.0000e+00\n",
      "Epoch 50/100\n",
      "1/1 [==============================] - 0s 25ms/step - loss: 7.7125 - accuracy: 0.5000 - val_loss: 15.4249 - val_accuracy: 0.0000e+00\n",
      "Epoch 51/100\n",
      "1/1 [==============================] - 0s 27ms/step - loss: 7.7125 - accuracy: 0.5000 - val_loss: 15.4249 - val_accuracy: 0.0000e+00\n",
      "Epoch 52/100\n",
      "1/1 [==============================] - 0s 25ms/step - loss: 7.7125 - accuracy: 0.5000 - val_loss: 15.4249 - val_accuracy: 0.0000e+00\n",
      "Epoch 53/100\n",
      "1/1 [==============================] - 0s 26ms/step - loss: 7.7125 - accuracy: 0.5000 - val_loss: 15.4249 - val_accuracy: 0.0000e+00\n",
      "Epoch 54/100\n",
      "1/1 [==============================] - 0s 25ms/step - loss: 7.7125 - accuracy: 0.5000 - val_loss: 15.4249 - val_accuracy: 0.0000e+00\n",
      "Epoch 55/100\n",
      "1/1 [==============================] - 0s 26ms/step - loss: 7.7125 - accuracy: 0.5000 - val_loss: 15.4249 - val_accuracy: 0.0000e+00\n",
      "Epoch 56/100\n",
      "1/1 [==============================] - 0s 25ms/step - loss: 7.7125 - accuracy: 0.5000 - val_loss: 15.4249 - val_accuracy: 0.0000e+00\n",
      "Epoch 57/100\n",
      "1/1 [==============================] - 0s 27ms/step - loss: 7.7125 - accuracy: 0.5000 - val_loss: 15.4249 - val_accuracy: 0.0000e+00\n",
      "Epoch 58/100\n",
      "1/1 [==============================] - 0s 24ms/step - loss: 7.7125 - accuracy: 0.5000 - val_loss: 15.4249 - val_accuracy: 0.0000e+00\n",
      "Epoch 59/100\n",
      "1/1 [==============================] - 0s 28ms/step - loss: 7.7125 - accuracy: 0.5000 - val_loss: 15.4249 - val_accuracy: 0.0000e+00\n",
      "Epoch 60/100\n",
      "1/1 [==============================] - 0s 25ms/step - loss: 7.7125 - accuracy: 0.5000 - val_loss: 15.4249 - val_accuracy: 0.0000e+00\n",
      "Epoch 61/100\n",
      "1/1 [==============================] - 0s 25ms/step - loss: 7.7125 - accuracy: 0.5000 - val_loss: 15.4249 - val_accuracy: 0.0000e+00\n",
      "Epoch 62/100\n",
      "1/1 [==============================] - 0s 29ms/step - loss: 7.7125 - accuracy: 0.5000 - val_loss: 15.4249 - val_accuracy: 0.0000e+00\n",
      "Epoch 63/100\n",
      "1/1 [==============================] - 0s 26ms/step - loss: 7.7125 - accuracy: 0.5000 - val_loss: 15.4249 - val_accuracy: 0.0000e+00\n",
      "Epoch 64/100\n",
      "1/1 [==============================] - 0s 27ms/step - loss: 7.7125 - accuracy: 0.5000 - val_loss: 15.4249 - val_accuracy: 0.0000e+00\n",
      "Epoch 65/100\n",
      "1/1 [==============================] - 0s 24ms/step - loss: 7.7125 - accuracy: 0.5000 - val_loss: 15.4249 - val_accuracy: 0.0000e+00\n",
      "Epoch 66/100\n",
      "1/1 [==============================] - 0s 26ms/step - loss: 7.7125 - accuracy: 0.5000 - val_loss: 15.4249 - val_accuracy: 0.0000e+00\n",
      "Epoch 67/100\n",
      "1/1 [==============================] - 0s 25ms/step - loss: 7.7125 - accuracy: 0.5000 - val_loss: 15.4249 - val_accuracy: 0.0000e+00\n",
      "Epoch 68/100\n",
      "1/1 [==============================] - 0s 26ms/step - loss: 7.7125 - accuracy: 0.5000 - val_loss: 15.4249 - val_accuracy: 0.0000e+00\n",
      "Epoch 69/100\n",
      "1/1 [==============================] - 0s 27ms/step - loss: 7.7125 - accuracy: 0.5000 - val_loss: 15.4249 - val_accuracy: 0.0000e+00\n",
      "Epoch 70/100\n",
      "1/1 [==============================] - 0s 26ms/step - loss: 7.7125 - accuracy: 0.5000 - val_loss: 15.4249 - val_accuracy: 0.0000e+00\n",
      "Epoch 71/100\n",
      "1/1 [==============================] - 0s 26ms/step - loss: 7.7125 - accuracy: 0.5000 - val_loss: 15.4249 - val_accuracy: 0.0000e+00\n",
      "Epoch 72/100\n",
      "1/1 [==============================] - 0s 26ms/step - loss: 7.7125 - accuracy: 0.5000 - val_loss: 15.4249 - val_accuracy: 0.0000e+00\n",
      "Epoch 73/100\n",
      "1/1 [==============================] - 0s 162ms/step - loss: 7.7125 - accuracy: 0.5000 - val_loss: 15.4249 - val_accuracy: 0.0000e+00\n",
      "Epoch 74/100\n",
      "1/1 [==============================] - 0s 27ms/step - loss: 7.7125 - accuracy: 0.5000 - val_loss: 15.4249 - val_accuracy: 0.0000e+00\n",
      "Epoch 75/100\n",
      "1/1 [==============================] - 0s 27ms/step - loss: 7.7125 - accuracy: 0.5000 - val_loss: 15.4249 - val_accuracy: 0.0000e+00\n",
      "Epoch 76/100\n",
      "1/1 [==============================] - 0s 27ms/step - loss: 7.7125 - accuracy: 0.5000 - val_loss: 15.4249 - val_accuracy: 0.0000e+00\n",
      "Epoch 77/100\n",
      "1/1 [==============================] - 0s 26ms/step - loss: 7.7125 - accuracy: 0.5000 - val_loss: 15.4249 - val_accuracy: 0.0000e+00\n",
      "Epoch 78/100\n",
      "1/1 [==============================] - 0s 27ms/step - loss: 7.7125 - accuracy: 0.5000 - val_loss: 15.4249 - val_accuracy: 0.0000e+00\n",
      "Epoch 79/100\n",
      "1/1 [==============================] - 0s 69ms/step - loss: 7.7125 - accuracy: 0.5000 - val_loss: 15.4249 - val_accuracy: 0.0000e+00\n",
      "Epoch 80/100\n",
      "1/1 [==============================] - 0s 39ms/step - loss: 7.7125 - accuracy: 0.5000 - val_loss: 15.4249 - val_accuracy: 0.0000e+00\n",
      "Epoch 81/100\n",
      "1/1 [==============================] - 0s 36ms/step - loss: 7.7125 - accuracy: 0.5000 - val_loss: 15.4249 - val_accuracy: 0.0000e+00\n",
      "Epoch 82/100\n",
      "1/1 [==============================] - 0s 26ms/step - loss: 7.7125 - accuracy: 0.5000 - val_loss: 15.4249 - val_accuracy: 0.0000e+00\n",
      "Epoch 83/100\n",
      "1/1 [==============================] - 0s 25ms/step - loss: 7.7125 - accuracy: 0.5000 - val_loss: 15.4249 - val_accuracy: 0.0000e+00\n",
      "Epoch 84/100\n",
      "1/1 [==============================] - 0s 28ms/step - loss: 7.7125 - accuracy: 0.5000 - val_loss: 15.4249 - val_accuracy: 0.0000e+00\n",
      "Epoch 85/100\n",
      "1/1 [==============================] - 0s 26ms/step - loss: 7.7125 - accuracy: 0.5000 - val_loss: 15.4249 - val_accuracy: 0.0000e+00\n",
      "Epoch 86/100\n",
      "1/1 [==============================] - 0s 25ms/step - loss: 7.7125 - accuracy: 0.5000 - val_loss: 15.4249 - val_accuracy: 0.0000e+00\n",
      "Epoch 87/100\n",
      "1/1 [==============================] - 0s 26ms/step - loss: 7.7125 - accuracy: 0.5000 - val_loss: 15.4249 - val_accuracy: 0.0000e+00\n",
      "Epoch 88/100\n",
      "1/1 [==============================] - 0s 28ms/step - loss: 7.7125 - accuracy: 0.5000 - val_loss: 15.4249 - val_accuracy: 0.0000e+00\n",
      "Epoch 89/100\n",
      "1/1 [==============================] - 0s 27ms/step - loss: 7.7125 - accuracy: 0.5000 - val_loss: 15.4249 - val_accuracy: 0.0000e+00\n",
      "Epoch 90/100\n",
      "1/1 [==============================] - 0s 24ms/step - loss: 7.7125 - accuracy: 0.5000 - val_loss: 15.4249 - val_accuracy: 0.0000e+00\n",
      "Epoch 91/100\n",
      "1/1 [==============================] - 0s 31ms/step - loss: 7.7125 - accuracy: 0.5000 - val_loss: 15.4249 - val_accuracy: 0.0000e+00\n",
      "Epoch 92/100\n",
      "1/1 [==============================] - 0s 36ms/step - loss: 7.7125 - accuracy: 0.5000 - val_loss: 15.4249 - val_accuracy: 0.0000e+00\n",
      "Epoch 93/100\n",
      "1/1 [==============================] - 0s 35ms/step - loss: 7.7125 - accuracy: 0.5000 - val_loss: 15.4249 - val_accuracy: 0.0000e+00\n",
      "Epoch 94/100\n",
      "1/1 [==============================] - 0s 43ms/step - loss: 7.7125 - accuracy: 0.5000 - val_loss: 15.4249 - val_accuracy: 0.0000e+00\n",
      "Epoch 95/100\n",
      "1/1 [==============================] - 0s 31ms/step - loss: 7.7125 - accuracy: 0.5000 - val_loss: 15.4249 - val_accuracy: 0.0000e+00\n",
      "Epoch 96/100\n",
      "1/1 [==============================] - 0s 24ms/step - loss: 7.7125 - accuracy: 0.5000 - val_loss: 15.4249 - val_accuracy: 0.0000e+00\n",
      "Epoch 97/100\n",
      "1/1 [==============================] - 0s 29ms/step - loss: 7.7125 - accuracy: 0.5000 - val_loss: 15.4249 - val_accuracy: 0.0000e+00\n",
      "Epoch 98/100\n",
      "1/1 [==============================] - 0s 27ms/step - loss: 7.7125 - accuracy: 0.5000 - val_loss: 15.4249 - val_accuracy: 0.0000e+00\n",
      "Epoch 99/100\n",
      "1/1 [==============================] - 0s 31ms/step - loss: 7.7125 - accuracy: 0.5000 - val_loss: 15.4249 - val_accuracy: 0.0000e+00\n",
      "Epoch 100/100\n",
      "1/1 [==============================] - 0s 29ms/step - loss: 7.7125 - accuracy: 0.5000 - val_loss: 15.4249 - val_accuracy: 0.0000e+00\n"
     ]
    }
   ],
   "source": [
    "history = model.fit(X,y,epochs=100,validation_split=0.2)"
   ]
  },
  {
   "cell_type": "code",
   "execution_count": 34,
   "metadata": {},
   "outputs": [
    {
     "data": {
      "text/plain": [
       "[array([[0., 0., 0., 0., 0., 0., 0., 0., 0., 0.],\n",
       "        [0., 0., 0., 0., 0., 0., 0., 0., 0., 0.]], dtype=float32),\n",
       " array([0., 0., 0., 0., 0., 0., 0., 0., 0., 0.], dtype=float32),\n",
       " array([[0.],\n",
       "        [0.],\n",
       "        [0.],\n",
       "        [0.],\n",
       "        [0.],\n",
       "        [0.],\n",
       "        [0.],\n",
       "        [0.],\n",
       "        [0.],\n",
       "        [0.]], dtype=float32),\n",
       " array([0.], dtype=float32)]"
      ]
     },
     "execution_count": 34,
     "metadata": {},
     "output_type": "execute_result"
    }
   ],
   "source": [
    "model.get_weights()"
   ]
  },
  {
   "cell_type": "code",
   "execution_count": 35,
   "metadata": {},
   "outputs": [
    {
     "name": "stdout",
     "output_type": "stream",
     "text": [
      "9600/9600 [==============================] - 7s 762us/step\n"
     ]
    },
    {
     "data": {
      "text/plain": [
       "<Axes: >"
      ]
     },
     "execution_count": 35,
     "metadata": {},
     "output_type": "execute_result"
    },
    {
     "data": {
      "image/png": "[encoded data removed]",
      "text/plain": [
       "<Figure size 640x480 with 1 Axes>"
      ]
     },
     "metadata": {},
     "output_type": "display_data"
    }
   ],
   "source": [
    "from mlxtend.plotting import plot_decision_regions\n",
    "plot_decision_regions(X,y.astype('int'), clf=model, legend=2)"
   ]
  }
 ],
 "metadata": {
  "kernelspec": {
   "display_name": "Python 3",
   "language": "python",
   "name": "python3"
  },
  "language_info": {
   "codemirror_mode": {
    "name": "ipython",
    "version": 3
   },
   "file_extension": ".py",
   "mimetype": "text/x-python",
   "name": "python",
   "nbconvert_exporter": "python",
   "pygments_lexer": "ipython3",
   "version": "3.11.4"
  },
  "orig_nbformat": 4
 },
 "nbformat": 4,
 "nbformat_minor": 2
}
