{
 "cells": [
  {
   "cell_type": "markdown",
   "metadata": {},
   "source": [
    "# Long Short Term Memory"
   ]
  },
  {
   "cell_type": "markdown",
   "metadata": {},
   "source": [
    "![Alt text](image.png)"
   ]
  },
  {
   "cell_type": "code",
   "execution_count": 7,
   "metadata": {},
   "outputs": [],
   "source": [
    "import random\n",
    "import numpy as np\n",
    "import math\n",
    "def sigmoid(x): \n",
    "    return 1. / (1 + np.exp(-x))\n",
    "def sigmoid_derivative(values): \n",
    "    return values*(1-values)\n",
    "def tanh_derivative(values): \n",
    "    return 1. - values ** 2\n",
    "# createst uniform random array w/ values in [a,b) and shape args\n",
    "def rand_arr(a, b, *args): \n",
    "    np.random.seed(0)\n",
    "    return np.random.rand(*args) * (b - a) + a"
   ]
  },
  {
   "cell_type": "code",
   "execution_count": 8,
   "metadata": {},
   "outputs": [],
   "source": [
    "\n",
    "\n",
    "def sigmoid(x):\n",
    "    return 1.0 / (1.0 + np.exp(-x))\n",
    "\n",
    "def tanh_derivative(values):\n",
    "    return 1.0 - values ** 2\n"
   ]
  },
  {
   "cell_type": "code",
   "execution_count": 9,
   "metadata": {},
   "outputs": [],
   "source": [
    "class LstmParam:\n",
    "    def __init__(self, mem_cell_ct, x_dim):\n",
    "        self.mem_cell_ct = mem_cell_ct\n",
    "        self.x_dim = x_dim\n",
    "        concat_len = x_dim + mem_cell_ct\n",
    "        # Weight matrices\n",
    "        self.wg = rand_arr(-0.1, 0.1, mem_cell_ct, concat_len)\n",
    "        self.wi = rand_arr(-0.1, 0.1, mem_cell_ct, concat_len)\n",
    "        self.wf = rand_arr(-0.1, 0.1, mem_cell_ct, concat_len)\n",
    "        self.wo = rand_arr(-0.1, 0.1, mem_cell_ct, concat_len)\n",
    "        # Bias terms\n",
    "        self.bg = rand_arr(-0.1, 0.1, mem_cell_ct)\n",
    "        self.bi = rand_arr(-0.1, 0.1, mem_cell_ct)\n",
    "        self.bf = rand_arr(-0.1, 0.1, mem_cell_ct)\n",
    "        self.bo = rand_arr(-0.1, 0.1, mem_cell_ct)\n",
    "        # Diffs (derivative of the loss function w.r.t. all parameters)\n",
    "        self.wg_diff = np.zeros((mem_cell_ct, concat_len))\n",
    "        self.wi_diff = np.zeros((mem_cell_ct, concat_len))\n",
    "        self.wf_diff = np.zeros((mem_cell_ct, concat_len))\n",
    "        self.wo_diff = np.zeros((mem_cell_ct, concat_len))\n",
    "        self.bg_diff = np.zeros(mem_cell_ct)\n",
    "        self.bi_diff = np.zeros(mem_cell_ct)\n",
    "        self.bf_diff = np.zeros(mem_cell_ct)\n",
    "        self.bo_diff = np.zeros(mem_cell_ct)\n"
   ]
  },
  {
   "cell_type": "code",
   "execution_count": 11,
   "metadata": {},
   "outputs": [],
   "source": [
    "class LstmCell:\n",
    "    def __init__(self, param):\n",
    "        self.param = param\n",
    "        self.state = ...\n",
    "\n",
    "    def forward(self, x, h_prev, s_prev):\n",
    "        # Concatenate x and h_prev\n",
    "        xc = np.hstack((x, h_prev))\n",
    "\n",
    "        # Calculate the forget gate\n",
    "        self.state.f = sigmoid(np.dot(self.param.wf, xc) + self.param.bf)\n",
    "\n",
    "        # Calculate the input gate\n",
    "        self.state.i = sigmoid(np.dot(self.param.wi, xc) + self.param.bi)\n",
    "\n",
    "        # Calculate the candidate cell state\n",
    "        self.state.g = np.tanh(np.dot(self.param.wg, xc) + self.param.bg)\n",
    "\n",
    "        # Calculate the present cell state\n",
    "        self.state.s = self.state.g * self.state.i + s_prev * self.state.f\n",
    "\n",
    "        # Calculate the output gate\n",
    "        self.state.o = sigmoid(np.dot(self.param.wo, xc) + self.param.bo)\n",
    "\n",
    "        # Calculate the output state\n",
    "        self.state.h = self.state.s * self.state.o\n",
    "\n",
    "        return self.state.h, self.state.s\n"
   ]
  },
  {
   "cell_type": "code",
   "execution_count": 10,
   "metadata": {},
   "outputs": [
    {
     "ename": "NameError",
     "evalue": "name 'x' is not defined",
     "output_type": "error",
     "traceback": [
      "\u001b[1;31m---------------------------------------------------------------------------\u001b[0m",
      "\u001b[1;31mNameError\u001b[0m                                 Traceback (most recent call last)",
      "\u001b[1;32md:\\copy of htdocs\\practice\\Python\\200days\\Day198 Deep Learning Day 28\\LSTM.ipynb Cell 6\u001b[0m line \u001b[0;36m2\n\u001b[0;32m      <a href='vscode-notebook-cell:/d%3A/copy%20of%20htdocs/practice/Python/200days/Day198%20Deep%20Learning%20Day%2028/LSTM.ipynb#W4sZmlsZQ%3D%3D?line=0'>1</a>\u001b[0m \u001b[39m#stacking x(present input xt) and h(t-1)\u001b[39;00m\n\u001b[1;32m----> <a href='vscode-notebook-cell:/d%3A/copy%20of%20htdocs/practice/Python/200days/Day198%20Deep%20Learning%20Day%2028/LSTM.ipynb#W4sZmlsZQ%3D%3D?line=1'>2</a>\u001b[0m xc \u001b[39m=\u001b[39m np\u001b[39m.\u001b[39mhstack((x,  h_prev))\n\u001b[0;32m      <a href='vscode-notebook-cell:/d%3A/copy%20of%20htdocs/practice/Python/200days/Day198%20Deep%20Learning%20Day%2028/LSTM.ipynb#W4sZmlsZQ%3D%3D?line=2'>3</a>\u001b[0m \u001b[39m#dot product of Wf(forget weight matrix and xc +bias)\u001b[39;00m\n\u001b[0;32m      <a href='vscode-notebook-cell:/d%3A/copy%20of%20htdocs/practice/Python/200days/Day198%20Deep%20Learning%20Day%2028/LSTM.ipynb#W4sZmlsZQ%3D%3D?line=3'>4</a>\u001b[0m \u001b[39mself\u001b[39m\u001b[39m.\u001b[39mstate\u001b[39m.\u001b[39mf \u001b[39m=\u001b[39m sigmoid(np\u001b[39m.\u001b[39mdot(\u001b[39mself\u001b[39m\u001b[39m.\u001b[39mparam\u001b[39m.\u001b[39mwf, xc) \u001b[39m+\u001b[39m \u001b[39mself\u001b[39m\u001b[39m.\u001b[39mparam\u001b[39m.\u001b[39mbf)\n",
      "\u001b[1;31mNameError\u001b[0m: name 'x' is not defined"
     ]
    }
   ],
   "source": [
    "#stacking x(present input xt) and h(t-1)\n",
    "xc = np.hstack((x,  h_prev))\n",
    "#dot product of Wf(forget weight matrix and xc +bias)\n",
    "self.state.f = sigmoid(np.dot(self.param.wf, xc) + self.param.bf)\n",
    "#finally multiplying forget_gate(self.state.f) with previous cell state(s_prev) \n",
    "#to get present state.\n",
    "self.state.s = self.state.g * self.state.i + s_prev * self.state.f"
   ]
  },
  {
   "cell_type": "code",
   "execution_count": null,
   "metadata": {},
   "outputs": [
    {
     "ename": "NameError",
     "evalue": "name 'sigmoid' is not defined",
     "output_type": "error",
     "traceback": [
      "\u001b[1;31m---------------------------------------------------------------------------\u001b[0m",
      "\u001b[1;31mNameError\u001b[0m                                 Traceback (most recent call last)",
      "\u001b[1;32md:\\copy of htdocs\\practice\\Python\\200days\\Day198 Deep Learning Day 28\\LSTM.ipynb Cell 6\u001b[0m line \u001b[0;36m2\n\u001b[0;32m      <a href='vscode-notebook-cell:/d%3A/copy%20of%20htdocs/practice/Python/200days/Day198%20Deep%20Learning%20Day%2028/LSTM.ipynb#W5sZmlsZQ%3D%3D?line=0'>1</a>\u001b[0m \u001b[39m#xc already calculated above\u001b[39;00m\n\u001b[1;32m----> <a href='vscode-notebook-cell:/d%3A/copy%20of%20htdocs/practice/Python/200days/Day198%20Deep%20Learning%20Day%2028/LSTM.ipynb#W5sZmlsZQ%3D%3D?line=1'>2</a>\u001b[0m \u001b[39mself\u001b[39m\u001b[39m.\u001b[39mstate\u001b[39m.\u001b[39mi \u001b[39m=\u001b[39m sigmoid(np\u001b[39m.\u001b[39mdot(\u001b[39mself\u001b[39m\u001b[39m.\u001b[39mparam\u001b[39m.\u001b[39mwi, xc) \u001b[39m+\u001b[39m \u001b[39mself\u001b[39m\u001b[39m.\u001b[39mparam\u001b[39m.\u001b[39mbi)\n\u001b[0;32m      <a href='vscode-notebook-cell:/d%3A/copy%20of%20htdocs/practice/Python/200days/Day198%20Deep%20Learning%20Day%2028/LSTM.ipynb#W5sZmlsZQ%3D%3D?line=2'>3</a>\u001b[0m \u001b[39m#C(t)\u001b[39;00m\n\u001b[0;32m      <a href='vscode-notebook-cell:/d%3A/copy%20of%20htdocs/practice/Python/200days/Day198%20Deep%20Learning%20Day%2028/LSTM.ipynb#W5sZmlsZQ%3D%3D?line=3'>4</a>\u001b[0m \u001b[39mself\u001b[39m\u001b[39m.\u001b[39mstate\u001b[39m.\u001b[39mg \u001b[39m=\u001b[39m np\u001b[39m.\u001b[39mtanh(np\u001b[39m.\u001b[39mdot(\u001b[39mself\u001b[39m\u001b[39m.\u001b[39mparam\u001b[39m.\u001b[39mwg, xc) \u001b[39m+\u001b[39m \u001b[39mself\u001b[39m\u001b[39m.\u001b[39mparam\u001b[39m.\u001b[39mbg)\n",
      "\u001b[1;31mNameError\u001b[0m: name 'sigmoid' is not defined"
     ]
    }
   ],
   "source": [
    "#xc already calculated above\n",
    "self.state.i = sigmoid(np.dot(self.param.wi, xc) + self.param.bi)\n",
    "#C(t)\n",
    "self.state.g = np.tanh(np.dot(self.param.wg, xc) + self.param.bg)"
   ]
  },
  {
   "cell_type": "code",
   "execution_count": null,
   "metadata": {},
   "outputs": [
    {
     "ename": "NameError",
     "evalue": "name 'self' is not defined",
     "output_type": "error",
     "traceback": [
      "\u001b[1;31m---------------------------------------------------------------------------\u001b[0m",
      "\u001b[1;31mNameError\u001b[0m                                 Traceback (most recent call last)",
      "\u001b[1;32md:\\copy of htdocs\\practice\\Python\\200days\\Day198 Deep Learning Day 28\\LSTM.ipynb Cell 7\u001b[0m line \u001b[0;36m2\n\u001b[0;32m      <a href='vscode-notebook-cell:/d%3A/copy%20of%20htdocs/practice/Python/200days/Day198%20Deep%20Learning%20Day%2028/LSTM.ipynb#W6sZmlsZQ%3D%3D?line=0'>1</a>\u001b[0m \u001b[39m#to calculate the present state\u001b[39;00m\n\u001b[1;32m----> <a href='vscode-notebook-cell:/d%3A/copy%20of%20htdocs/practice/Python/200days/Day198%20Deep%20Learning%20Day%2028/LSTM.ipynb#W6sZmlsZQ%3D%3D?line=1'>2</a>\u001b[0m \u001b[39mself\u001b[39m\u001b[39m.\u001b[39mstate\u001b[39m.\u001b[39ms \u001b[39m=\u001b[39m \u001b[39mself\u001b[39;49m\u001b[39m.\u001b[39mstate\u001b[39m.\u001b[39mg \u001b[39m*\u001b[39m \u001b[39mself\u001b[39m\u001b[39m.\u001b[39mstate\u001b[39m.\u001b[39mi \u001b[39m+\u001b[39m s_prev \u001b[39m*\u001b[39m \u001b[39mself\u001b[39m\u001b[39m.\u001b[39mstate\u001b[39m.\u001b[39mf\n",
      "\u001b[1;31mNameError\u001b[0m: name 'self' is not defined"
     ]
    }
   ],
   "source": [
    "\n",
    "#to calculate the present state\n",
    "self.state.s = self.state.g * self.state.i + s_prev * self.state.f"
   ]
  },
  {
   "cell_type": "code",
   "execution_count": null,
   "metadata": {},
   "outputs": [],
   "source": [
    "#to calculate the output state\n",
    "self.state.o = sigmoid(np.dot(self.param.wo, xc) + self.param.bo)\n",
    "#output state h\n",
    "self.state.h = self.state.s * self.state.o"
   ]
  }
 ],
 "metadata": {
  "kernelspec": {
   "display_name": "Python 3",
   "language": "python",
   "name": "python3"
  },
  "language_info": {
   "codemirror_mode": {
    "name": "ipython",
    "version": 3
   },
   "file_extension": ".py",
   "mimetype": "text/x-python",
   "name": "python",
   "nbconvert_exporter": "python",
   "pygments_lexer": "ipython3",
   "version": "3.11.5"
  },
  "orig_nbformat": 4
 },
 "nbformat": 4,
 "nbformat_minor": 2
}
