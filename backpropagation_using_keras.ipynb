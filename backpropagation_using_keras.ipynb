{
 "cells": [
  {
   "cell_type": "markdown",
   "metadata": {},
   "source": [
    "# Backpropagation Regression with Keras"
   ]
  },
  {
   "cell_type": "code",
   "execution_count": 44,
   "metadata": {},
   "outputs": [],
   "source": [
    "import numpy as np\n",
    "import pandas as pd\n"
   ]
  },
  {
   "cell_type": "code",
   "execution_count": 45,
   "metadata": {},
   "outputs": [],
   "source": [
    "df = pd.DataFrame([[8,8,4],[7,9,5],[6,10,6],[5,12,7]], columns=['cgpa', 'profile_score', 'lpa'])"
   ]
  },
  {
   "cell_type": "code",
   "execution_count": 46,
   "metadata": {},
   "outputs": [
    {
     "data": {
      "text/html": [
       "<div>\n",
       "<style scoped>\n",
       "    .dataframe tbody tr th:only-of-type {\n",
       "        vertical-align: middle;\n",
       "    }\n",
       "\n",
       "    .dataframe tbody tr th {\n",
       "        vertical-align: top;\n",
       "    }\n",
       "\n",
       "    .dataframe thead th {\n",
       "        text-align: right;\n",
       "    }\n",
       "</style>\n",
       "<table border=\"1\" class=\"dataframe\">\n",
       "  <thead>\n",
       "    <tr style=\"text-align: right;\">\n",
       "      <th></th>\n",
       "      <th>cgpa</th>\n",
       "      <th>profile_score</th>\n",
       "      <th>lpa</th>\n",
       "    </tr>\n",
       "  </thead>\n",
       "  <tbody>\n",
       "    <tr>\n",
       "      <th>0</th>\n",
       "      <td>8</td>\n",
       "      <td>8</td>\n",
       "      <td>4</td>\n",
       "    </tr>\n",
       "    <tr>\n",
       "      <th>1</th>\n",
       "      <td>7</td>\n",
       "      <td>9</td>\n",
       "      <td>5</td>\n",
       "    </tr>\n",
       "    <tr>\n",
       "      <th>2</th>\n",
       "      <td>6</td>\n",
       "      <td>10</td>\n",
       "      <td>6</td>\n",
       "    </tr>\n",
       "    <tr>\n",
       "      <th>3</th>\n",
       "      <td>5</td>\n",
       "      <td>12</td>\n",
       "      <td>7</td>\n",
       "    </tr>\n",
       "  </tbody>\n",
       "</table>\n",
       "</div>"
      ],
      "text/plain": [
       "   cgpa  profile_score  lpa\n",
       "0     8              8    4\n",
       "1     7              9    5\n",
       "2     6             10    6\n",
       "3     5             12    7"
      ]
     },
     "execution_count": 46,
     "metadata": {},
     "output_type": "execute_result"
    }
   ],
   "source": [
    "df"
   ]
  },
  {
   "cell_type": "code",
   "execution_count": 47,
   "metadata": {},
   "outputs": [],
   "source": [
    "import tensorflow\n",
    "from tensorflow import keras\n",
    "from keras import Sequential\n",
    "from keras.layers import Dense"
   ]
  },
  {
   "cell_type": "code",
   "execution_count": 48,
   "metadata": {},
   "outputs": [],
   "source": [
    "model = Sequential()"
   ]
  },
  {
   "cell_type": "code",
   "execution_count": 49,
   "metadata": {},
   "outputs": [],
   "source": [
    "model.add(Dense(2,activation='linear',input_dim=2))\n",
    "model.add(Dense(1,activation='linear'))"
   ]
  },
  {
   "cell_type": "code",
   "execution_count": 50,
   "metadata": {},
   "outputs": [
    {
     "name": "stdout",
     "output_type": "stream",
     "text": [
      "Model: \"sequential_3\"\n",
      "_________________________________________________________________\n",
      " Layer (type)                Output Shape              Param #   \n",
      "=================================================================\n",
      " dense_6 (Dense)             (None, 2)                 6         \n",
      "                                                                 \n",
      " dense_7 (Dense)             (None, 1)                 3         \n",
      "                                                                 \n",
      "=================================================================\n",
      "Total params: 9 (36.00 Byte)\n",
      "Trainable params: 9 (36.00 Byte)\n",
      "Non-trainable params: 0 (0.00 Byte)\n",
      "_________________________________________________________________\n"
     ]
    }
   ],
   "source": [
    "model.summary()\n"
   ]
  },
  {
   "cell_type": "code",
   "execution_count": 51,
   "metadata": {},
   "outputs": [
    {
     "data": {
      "text/plain": [
       "[array([[-0.430066  , -0.3381111 ],\n",
       "        [ 0.50166893, -1.1173279 ]], dtype=float32),\n",
       " array([0., 0.], dtype=float32),\n",
       " array([[-0.31274545],\n",
       "        [-1.0103467 ]], dtype=float32),\n",
       " array([0.], dtype=float32)]"
      ]
     },
     "execution_count": 51,
     "metadata": {},
     "output_type": "execute_result"
    }
   ],
   "source": [
    "model.get_weights()"
   ]
  },
  {
   "cell_type": "code",
   "execution_count": 52,
   "metadata": {},
   "outputs": [],
   "source": [
    "new_weights = [np.array([[0.1  ,0.1],\n",
    "        [ 0.1, 0.1]], dtype=np.float32),\n",
    " np.array([0., 0.], dtype=np.float32),\n",
    " np.array([[0.1],\n",
    "        [0.1]], dtype=np.float32),\n",
    " np.array([0.], dtype=np.float32)]"
   ]
  },
  {
   "cell_type": "code",
   "execution_count": 53,
   "metadata": {},
   "outputs": [],
   "source": [
    "model.set_weights(new_weights)"
   ]
  },
  {
   "cell_type": "code",
   "execution_count": 54,
   "metadata": {},
   "outputs": [
    {
     "data": {
      "text/plain": [
       "[array([[0.1, 0.1],\n",
       "        [0.1, 0.1]], dtype=float32),\n",
       " array([0., 0.], dtype=float32),\n",
       " array([[0.1],\n",
       "        [0.1]], dtype=float32),\n",
       " array([0.], dtype=float32)]"
      ]
     },
     "execution_count": 54,
     "metadata": {},
     "output_type": "execute_result"
    }
   ],
   "source": [
    "model.get_weights()"
   ]
  },
  {
   "cell_type": "code",
   "execution_count": 55,
   "metadata": {},
   "outputs": [],
   "source": [
    "optimizer = keras.optimizers.Adam(learning_rate=0.001)\n",
    "model.compile(loss='mean_squared_error',optimizer=optimizer)"
   ]
  },
  {
   "cell_type": "code",
   "execution_count": 56,
   "metadata": {},
   "outputs": [
    {
     "name": "stdout",
     "output_type": "stream",
     "text": [
      "Epoch 1/100\n"
     ]
    },
    {
     "name": "stdout",
     "output_type": "stream",
     "text": [
      "4/4 [==============================] - 0s 2ms/step - loss: 27.9023\n",
      "Epoch 2/100\n",
      "4/4 [==============================] - 0s 1ms/step - loss: 27.5848\n",
      "Epoch 3/100\n",
      "4/4 [==============================] - 0s 2ms/step - loss: 27.2557\n",
      "Epoch 4/100\n",
      "4/4 [==============================] - 0s 3ms/step - loss: 26.9005\n",
      "Epoch 5/100\n",
      "4/4 [==============================] - 0s 2ms/step - loss: 26.5708\n",
      "Epoch 6/100\n",
      "4/4 [==============================] - 0s 2ms/step - loss: 26.2003\n",
      "Epoch 7/100\n",
      "4/4 [==============================] - 0s 3ms/step - loss: 25.8201\n",
      "Epoch 8/100\n",
      "4/4 [==============================] - 0s 2ms/step - loss: 25.4560\n",
      "Epoch 9/100\n",
      "4/4 [==============================] - 0s 1ms/step - loss: 25.0881\n",
      "Epoch 10/100\n",
      "4/4 [==============================] - 0s 3ms/step - loss: 24.6481\n",
      "Epoch 11/100\n",
      "4/4 [==============================] - 0s 2ms/step - loss: 24.2277\n",
      "Epoch 12/100\n",
      "4/4 [==============================] - 0s 3ms/step - loss: 23.8381\n",
      "Epoch 13/100\n",
      "4/4 [==============================] - 0s 2ms/step - loss: 23.3669\n",
      "Epoch 14/100\n",
      "4/4 [==============================] - 0s 2ms/step - loss: 22.9542\n",
      "Epoch 15/100\n",
      "4/4 [==============================] - 0s 3ms/step - loss: 22.4703\n",
      "Epoch 16/100\n",
      "4/4 [==============================] - 0s 3ms/step - loss: 22.0342\n",
      "Epoch 17/100\n",
      "4/4 [==============================] - 0s 2ms/step - loss: 21.5535\n",
      "Epoch 18/100\n",
      "4/4 [==============================] - 0s 2ms/step - loss: 21.0708\n",
      "Epoch 19/100\n",
      "4/4 [==============================] - 0s 3ms/step - loss: 20.5808\n",
      "Epoch 20/100\n",
      "4/4 [==============================] - 0s 2ms/step - loss: 20.0824\n",
      "Epoch 21/100\n",
      "4/4 [==============================] - 0s 1ms/step - loss: 19.5802\n",
      "Epoch 22/100\n",
      "4/4 [==============================] - 0s 2ms/step - loss: 19.0343\n",
      "Epoch 23/100\n",
      "4/4 [==============================] - 0s 1ms/step - loss: 18.5690\n",
      "Epoch 24/100\n",
      "4/4 [==============================] - 0s 2ms/step - loss: 18.0176\n",
      "Epoch 25/100\n",
      "4/4 [==============================] - 0s 1000us/step - loss: 17.5182\n",
      "Epoch 26/100\n",
      "4/4 [==============================] - 0s 2ms/step - loss: 17.0060\n",
      "Epoch 27/100\n",
      "4/4 [==============================] - 0s 1ms/step - loss: 16.4773\n",
      "Epoch 28/100\n",
      "4/4 [==============================] - 0s 2ms/step - loss: 15.9171\n",
      "Epoch 29/100\n",
      "4/4 [==============================] - 0s 1ms/step - loss: 15.4452\n",
      "Epoch 30/100\n",
      "4/4 [==============================] - 0s 2ms/step - loss: 14.9117\n",
      "Epoch 31/100\n",
      "4/4 [==============================] - 0s 1ms/step - loss: 14.3212\n",
      "Epoch 32/100\n",
      "4/4 [==============================] - 0s 2ms/step - loss: 13.8449\n",
      "Epoch 33/100\n",
      "4/4 [==============================] - 0s 1ms/step - loss: 13.2971\n",
      "Epoch 34/100\n",
      "4/4 [==============================] - 0s 2ms/step - loss: 12.8586\n",
      "Epoch 35/100\n",
      "4/4 [==============================] - 0s 1ms/step - loss: 12.3378\n",
      "Epoch 36/100\n",
      "4/4 [==============================] - 0s 2ms/step - loss: 11.7950\n",
      "Epoch 37/100\n",
      "4/4 [==============================] - 0s 2ms/step - loss: 11.2768\n",
      "Epoch 38/100\n",
      "4/4 [==============================] - 0s 2ms/step - loss: 10.8142\n",
      "Epoch 39/100\n",
      "4/4 [==============================] - 0s 3ms/step - loss: 10.3183\n",
      "Epoch 40/100\n",
      "4/4 [==============================] - 0s 2ms/step - loss: 9.9066\n",
      "Epoch 41/100\n",
      "4/4 [==============================] - 0s 2ms/step - loss: 9.4657\n",
      "Epoch 42/100\n",
      "4/4 [==============================] - 0s 1ms/step - loss: 8.9874\n",
      "Epoch 43/100\n",
      "4/4 [==============================] - 0s 2ms/step - loss: 8.5576\n",
      "Epoch 44/100\n",
      "4/4 [==============================] - 0s 2ms/step - loss: 8.0731\n",
      "Epoch 45/100\n",
      "4/4 [==============================] - 0s 2ms/step - loss: 7.7412\n",
      "Epoch 46/100\n",
      "4/4 [==============================] - 0s 2ms/step - loss: 7.3085\n",
      "Epoch 47/100\n",
      "4/4 [==============================] - 0s 1ms/step - loss: 6.9002\n",
      "Epoch 48/100\n",
      "4/4 [==============================] - 0s 2ms/step - loss: 6.5845\n",
      "Epoch 49/100\n",
      "4/4 [==============================] - 0s 1ms/step - loss: 6.1532\n",
      "Epoch 50/100\n",
      "4/4 [==============================] - 0s 3ms/step - loss: 5.8873\n",
      "Epoch 51/100\n",
      "4/4 [==============================] - 0s 1ms/step - loss: 5.5156\n",
      "Epoch 52/100\n",
      "4/4 [==============================] - 0s 2ms/step - loss: 5.2377\n",
      "Epoch 53/100\n",
      "4/4 [==============================] - 0s 1ms/step - loss: 4.8976\n",
      "Epoch 54/100\n",
      "4/4 [==============================] - 0s 3ms/step - loss: 4.6484\n",
      "Epoch 55/100\n",
      "4/4 [==============================] - 0s 1ms/step - loss: 4.3146\n",
      "Epoch 56/100\n",
      "4/4 [==============================] - 0s 2ms/step - loss: 4.1094\n",
      "Epoch 57/100\n",
      "4/4 [==============================] - 0s 2ms/step - loss: 3.8434\n",
      "Epoch 58/100\n",
      "4/4 [==============================] - 0s 1ms/step - loss: 3.6485\n",
      "Epoch 59/100\n",
      "4/4 [==============================] - 0s 2ms/step - loss: 3.3871\n",
      "Epoch 60/100\n",
      "4/4 [==============================] - 0s 2ms/step - loss: 3.2499\n",
      "Epoch 61/100\n",
      "4/4 [==============================] - 0s 2ms/step - loss: 3.0233\n",
      "Epoch 62/100\n",
      "4/4 [==============================] - 0s 3ms/step - loss: 2.8369\n",
      "Epoch 63/100\n",
      "4/4 [==============================] - 0s 2ms/step - loss: 2.7254\n",
      "Epoch 64/100\n",
      "4/4 [==============================] - 0s 2ms/step - loss: 2.5089\n",
      "Epoch 65/100\n",
      "4/4 [==============================] - 0s 3ms/step - loss: 2.4261\n",
      "Epoch 66/100\n",
      "4/4 [==============================] - 0s 2ms/step - loss: 2.2576\n",
      "Epoch 67/100\n",
      "4/4 [==============================] - 0s 2ms/step - loss: 2.1465\n",
      "Epoch 68/100\n",
      "4/4 [==============================] - 0s 3ms/step - loss: 2.0270\n",
      "Epoch 69/100\n",
      "4/4 [==============================] - 0s 2ms/step - loss: 1.9259\n",
      "Epoch 70/100\n",
      "4/4 [==============================] - 0s 2ms/step - loss: 1.8519\n",
      "Epoch 71/100\n",
      "4/4 [==============================] - 0s 2ms/step - loss: 1.7519\n",
      "Epoch 72/100\n",
      "4/4 [==============================] - 0s 1ms/step - loss: 1.6976\n",
      "Epoch 73/100\n",
      "4/4 [==============================] - 0s 2ms/step - loss: 1.6091\n",
      "Epoch 74/100\n",
      "4/4 [==============================] - 0s 1ms/step - loss: 1.5706\n",
      "Epoch 75/100\n",
      "4/4 [==============================] - 0s 2ms/step - loss: 1.4777\n",
      "Epoch 76/100\n",
      "4/4 [==============================] - 0s 1ms/step - loss: 1.4578\n",
      "Epoch 77/100\n",
      "4/4 [==============================] - 0s 2ms/step - loss: 1.3858\n",
      "Epoch 78/100\n",
      "4/4 [==============================] - 0s 2ms/step - loss: 1.3767\n",
      "Epoch 79/100\n",
      "4/4 [==============================] - 0s 2ms/step - loss: 1.3251\n",
      "Epoch 80/100\n",
      "4/4 [==============================] - 0s 3ms/step - loss: 1.2730\n",
      "Epoch 81/100\n",
      "4/4 [==============================] - 0s 2ms/step - loss: 1.2723\n",
      "Epoch 82/100\n",
      "4/4 [==============================] - 0s 2ms/step - loss: 1.2223\n",
      "Epoch 83/100\n",
      "4/4 [==============================] - 0s 1ms/step - loss: 1.2008\n",
      "Epoch 84/100\n",
      "4/4 [==============================] - 0s 2ms/step - loss: 1.1800\n",
      "Epoch 85/100\n",
      "4/4 [==============================] - 0s 2ms/step - loss: 1.1627\n",
      "Epoch 86/100\n",
      "4/4 [==============================] - 0s 1ms/step - loss: 1.1486\n",
      "Epoch 87/100\n",
      "4/4 [==============================] - 0s 2ms/step - loss: 1.1501\n",
      "Epoch 88/100\n",
      "4/4 [==============================] - 0s 1ms/step - loss: 1.1181\n",
      "Epoch 89/100\n",
      "4/4 [==============================] - 0s 3ms/step - loss: 1.1195\n",
      "Epoch 90/100\n",
      "4/4 [==============================] - 0s 2ms/step - loss: 1.0917\n",
      "Epoch 91/100\n",
      "4/4 [==============================] - 0s 2ms/step - loss: 1.0862\n",
      "Epoch 92/100\n",
      "4/4 [==============================] - 0s 1ms/step - loss: 1.0821\n",
      "Epoch 93/100\n",
      "4/4 [==============================] - 0s 1ms/step - loss: 1.0706\n",
      "Epoch 94/100\n",
      "4/4 [==============================] - 0s 4ms/step - loss: 1.0632\n",
      "Epoch 95/100\n",
      "4/4 [==============================] - 0s 2ms/step - loss: 1.0598\n",
      "Epoch 96/100\n",
      "4/4 [==============================] - 0s 2ms/step - loss: 1.0642\n",
      "Epoch 97/100\n",
      "4/4 [==============================] - 0s 2ms/step - loss: 1.0570\n",
      "Epoch 98/100\n",
      "4/4 [==============================] - 0s 2ms/step - loss: 1.0436\n",
      "Epoch 99/100\n",
      "4/4 [==============================] - 0s 2ms/step - loss: 1.0491\n",
      "Epoch 100/100\n",
      "4/4 [==============================] - 0s 1ms/step - loss: 1.0356\n"
     ]
    },
    {
     "data": {
      "text/plain": [
       "<keras.src.callbacks.History at 0x23f073fc710>"
      ]
     },
     "execution_count": 56,
     "metadata": {},
     "output_type": "execute_result"
    }
   ],
   "source": [
    "model.fit(df.iloc[:,0:-1].values,df['lpa'].values,epochs=100,verbose=1,batch_size=1)"
   ]
  },
  {
   "cell_type": "code",
   "execution_count": 57,
   "metadata": {},
   "outputs": [
    {
     "data": {
      "text/plain": [
       "[array([[0.38434047, 0.38434047],\n",
       "        [0.390983  , 0.390983  ]], dtype=float32),\n",
       " array([0.29191026, 0.29191026], dtype=float32),\n",
       " array([[0.39341325],\n",
       "        [0.39341325]], dtype=float32),\n",
       " array([0.21576247], dtype=float32)]"
      ]
     },
     "execution_count": 57,
     "metadata": {},
     "output_type": "execute_result"
    }
   ],
   "source": [
    "model.get_weights()"
   ]
  }
 ],
 "metadata": {
  "kernelspec": {
   "display_name": "Python 3",
   "language": "python",
   "name": "python3"
  },
  "language_info": {
   "codemirror_mode": {
    "name": "ipython",
    "version": 3
   },
   "file_extension": ".py",
   "mimetype": "text/x-python",
   "name": "python",
   "nbconvert_exporter": "python",
   "pygments_lexer": "ipython3",
   "version": "3.11.2"
  },
  "orig_nbformat": 4
 },
 "nbformat": 4,
 "nbformat_minor": 2
}
