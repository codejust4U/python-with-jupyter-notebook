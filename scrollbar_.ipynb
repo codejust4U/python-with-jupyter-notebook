{
 "cells": [
  {
   "cell_type": "markdown",
   "metadata": {},
   "source": [
    "# Scrollbar in tkinter"
   ]
  },
  {
   "cell_type": "code",
   "execution_count": 1,
   "metadata": {},
   "outputs": [],
   "source": [
    "#importing the modules\n",
    "from tkinter import *\n",
    "from tkinter import ttk"
   ]
  },
  {
   "cell_type": "code",
   "execution_count": 15,
   "metadata": {},
   "outputs": [],
   "source": [
    "root = Tk()\n",
    "\n",
    "root.geometry(\"150x200\") \n",
    "lbl1 = Label(root,text='Scrollbar',font=('castellar',35))\n",
    "lbl1.pack()\n",
    "\n",
    "frame1 = Frame(root)\n",
    "frame1.pack()\n",
    "\n",
    "scroll_y = Scrollbar(root)\n",
    "scroll_y.pack(side=RIGHT,fill=Y)\n",
    "\n",
    "list1 = Listbox(root,yscrollcommand=scroll_y.set,font=('georgia',25))\n",
    "for i in range(1,16):\n",
    "    list1.insert(END,'Subject '+str(i))\n",
    "\n",
    "list1.pack(side=LEFT,fill=BOTH)\n",
    "scroll_y.config(command=list1.yview)\n",
    "\n",
    "\n",
    "root.mainloop()"
   ]
  }
 ],
 "metadata": {
  "kernelspec": {
   "display_name": "Python 3",
   "language": "python",
   "name": "python3"
  },
  "language_info": {
   "codemirror_mode": {
    "name": "ipython",
    "version": 3
   },
   "file_extension": ".py",
   "mimetype": "text/x-python",
   "name": "python",
   "nbconvert_exporter": "python",
   "pygments_lexer": "ipython3",
   "version": "3.11.2"
  }
 },
 "nbformat": 4,
 "nbformat_minor": 2
}
