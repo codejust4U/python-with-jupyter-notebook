{
 "cells": [
  {
   "cell_type": "markdown",
   "metadata": {},
   "source": [
    "# Lasso Regression from scratch - GFG"
   ]
  },
  {
   "cell_type": "code",
   "execution_count": 10,
   "metadata": {},
   "outputs": [],
   "source": [
    "# Importing libraries \n",
    "  \n",
    "import numpy as np \n",
    "  \n",
    "import pandas as pd \n",
    "  \n",
    "from sklearn.model_selection import train_test_split \n",
    "  \n",
    "import matplotlib.pyplot as plt"
   ]
  },
  {
   "cell_type": "code",
   "execution_count": 11,
   "metadata": {},
   "outputs": [],
   "source": [
    "# Lasso Regression \n",
    "  \n",
    "class LassoRegression() : \n",
    "      \n",
    "    def __init__( self, learning_rate, iterations, l1_penality ) : \n",
    "          \n",
    "        self.learning_rate = learning_rate \n",
    "          \n",
    "        self.iterations = iterations \n",
    "          \n",
    "        self.l1_penality = l1_penality \n",
    "          \n",
    "    # Function for model training \n",
    "              \n",
    "    def fit( self, X, Y ) : \n",
    "          \n",
    "        # no_of_training_examples, no_of_features \n",
    "          \n",
    "        self.m, self.n = X.shape \n",
    "          \n",
    "        # weight initialization \n",
    "          \n",
    "        self.W = np.zeros( self.n ) \n",
    "          \n",
    "        self.b = 0\n",
    "          \n",
    "        self.X = X \n",
    "          \n",
    "        self.Y = Y \n",
    "          \n",
    "        # gradient descent learning \n",
    "                  \n",
    "        for i in range( self.iterations ) : \n",
    "              \n",
    "            self.update_weights() \n",
    "              \n",
    "        return self\n",
    "      \n",
    "    # Helper function to update weights in gradient descent \n",
    "      \n",
    "    def update_weights( self ) : \n",
    "             \n",
    "        Y_pred = self.predict( self.X ) \n",
    "          \n",
    "        # calculate gradients   \n",
    "          \n",
    "        dW = np.zeros( self.n ) \n",
    "          \n",
    "        for j in range( self.n ) : \n",
    "              \n",
    "            if self.W[j] > 0 : \n",
    "                  \n",
    "                dW[j] = ( - ( 2 * ( self.X[:, j] ).dot( self.Y - Y_pred ) )  \n",
    "                           \n",
    "                         + self.l1_penality ) / self.m \n",
    "          \n",
    "            else : \n",
    "                  \n",
    "                dW[j] = ( - ( 2 * ( self.X[:, j] ).dot( self.Y - Y_pred ) )  \n",
    "                           \n",
    "                         - self.l1_penality ) / self.m \n",
    "  \n",
    "       \n",
    "        db = - 2 * np.sum( self.Y - Y_pred ) / self.m  \n",
    "          \n",
    "        # update weights \n",
    "      \n",
    "        self.W = self.W - self.learning_rate * dW \n",
    "      \n",
    "        self.b = self.b - self.learning_rate * db \n",
    "          \n",
    "        return self\n",
    "      \n",
    "    # Hypothetical function  h( x )  \n",
    "      \n",
    "    def predict( self, X ) : \n",
    "      \n",
    "        return X.dot( self.W ) + self.b "
   ]
  },
  {
   "cell_type": "code",
   "execution_count": 12,
   "metadata": {},
   "outputs": [],
   "source": [
    "def main() : \n",
    "      \n",
    "    # Importing dataset \n",
    "      \n",
    "    df = pd.read_csv('Salary_Data.csv') \n",
    "  \n",
    "    X = df.iloc[:, :-1].values \n",
    "  \n",
    "    Y = df.iloc[:, 1].values \n",
    "      \n",
    "    # Splitting dataset into train and test set \n",
    "  \n",
    "    X_train, X_test, Y_train, Y_test = train_test_split( X, Y, test_size = 1 / 3, random_state = 0 ) \n",
    "      \n",
    "    # Model training \n",
    "      \n",
    "    model = LassoRegression( iterations = 1000, learning_rate = 0.01, l1_penality = 500 ) \n",
    "  \n",
    "    model.fit( X_train, Y_train ) \n",
    "      \n",
    "    # Prediction on test set \n",
    "  \n",
    "    Y_pred = model.predict( X_test ) \n",
    "      \n",
    "    print( \"Predicted values \", np.round( Y_pred[:3], 2 ) )  \n",
    "      \n",
    "    print( \"Real values      \", Y_test[:3] ) \n",
    "      \n",
    "    print( \"Trained W        \", round( model.W[0], 2 ) ) \n",
    "      \n",
    "    print( \"Trained b        \", round( model.b, 2 ) ) \n",
    "      \n",
    "    # Visualization on test set  \n",
    "      \n",
    "    plt.scatter( X_test, Y_test, color = 'blue' ) \n",
    "      \n",
    "    plt.plot( X_test, Y_pred, color = 'orange' ) \n",
    "      \n",
    "    plt.title( 'Salary vs Experience' ) \n",
    "      \n",
    "    plt.xlabel( 'Years of Experience' ) \n",
    "      \n",
    "    plt.ylabel( 'Salary' ) \n",
    "      \n",
    "    plt.show() "
   ]
  },
  {
   "cell_type": "code",
   "execution_count": 13,
   "metadata": {},
   "outputs": [
    {
     "name": "stdout",
     "output_type": "stream",
     "text": [
      "Predicted values  [ 40600.91 123294.39  65033.07]\n",
      "Real values       [ 37731. 122391.  57081.]\n",
      "Trained W         9396.99\n",
      "Trained b         26505.43\n"
     ]
    },
    {
     "data": {
      "image/png": "[encoded data removed]",
      "text/plain": [
       "<Figure size 640x480 with 1 Axes>"
      ]
     },
     "metadata": {},
     "output_type": "display_data"
    }
   ],
   "source": [
    "if __name__ == \"__main__\" :  \n",
    "      \n",
    "    main()"
   ]
  }
 ],
 "metadata": {
  "kernelspec": {
   "display_name": "Python 3",
   "language": "python",
   "name": "python3"
  },
  "language_info": {
   "codemirror_mode": {
    "name": "ipython",
    "version": 3
   },
   "file_extension": ".py",
   "mimetype": "text/x-python",
   "name": "python",
   "nbconvert_exporter": "python",
   "pygments_lexer": "ipython3",
   "version": "3.11.5"
  }
 },
 "nbformat": 4,
 "nbformat_minor": 2
}
