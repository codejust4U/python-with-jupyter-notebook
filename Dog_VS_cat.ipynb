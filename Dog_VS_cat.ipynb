{
 "cells": [
  {
   "cell_type": "markdown",
   "metadata": {},
   "source": [
    "# CNN Project / Dog VS Cat"
   ]
  },
  {
   "cell_type": "code",
   "execution_count": 55,
   "metadata": {},
   "outputs": [],
   "source": [
    "#import zipfile"
   ]
  },
  {
   "cell_type": "code",
   "execution_count": 56,
   "metadata": {},
   "outputs": [
    {
     "data": {
      "text/plain": [
       "' \\nzip_ref = zipfile.ZipFile(r\"D:\\\\copy of htdocs\\\\practice\\\\Python\\x80days\\\\Day193 Deep Learning Day 23\\test1.zip\")\\nzip_ref.extractall(\\'/content\\')\\nzip_ref.close()\\n'"
      ]
     },
     "execution_count": 56,
     "metadata": {},
     "output_type": "execute_result"
    }
   ],
   "source": [
    "\"\"\" \n",
    "zip_ref = zipfile.ZipFile(r\"D:\\copy of htdocs\\practice\\Python\\200days\\Day193 Deep Learning Day 23\\test1.zip\")\n",
    "zip_ref.extractall('/content')\n",
    "zip_ref.close()\n",
    "\"\"\""
   ]
  },
  {
   "cell_type": "code",
   "execution_count": 57,
   "metadata": {},
   "outputs": [],
   "source": [
    "import tensorflow as tf\n",
    "from tensorflow import keras\n",
    "from keras import Sequential\n",
    "from keras.layers import Dense,Conv2D, MaxPooling2D,Flatten"
   ]
  },
  {
   "cell_type": "code",
   "execution_count": 58,
   "metadata": {},
   "outputs": [
    {
     "name": "stdout",
     "output_type": "stream",
     "text": [
      "Found 25000 files belonging to 1 classes.\n",
      "Found 12500 files belonging to 1 classes.\n"
     ]
    }
   ],
   "source": [
    "# generators\n",
    "train_ds = keras.utils.image_dataset_from_directory(\n",
    "    directory=r\"D:\\copy of htdocs\\practice\\Python\\200days\\Day193 Deep Learning Day 23\\dataset\\train\",\n",
    "    labels=None,\n",
    "    label_mode='int',\n",
    "    batch_size=32,\n",
    "    image_size=(256, 256),\n",
    "    class_names='class_1'\n",
    ")\n",
    "\n",
    "\n",
    "\n",
    "validation_ds = keras.utils.image_dataset_from_directory(\n",
    "    directory=r\"D:\\copy of htdocs\\practice\\Python\\200days\\Day193 Deep Learning Day 23\\dataset\\test\",\n",
    "    labels=None,\n",
    "    label_mode='int',\n",
    "    batch_size=32,\n",
    "    image_size=(256, 256),\n",
    "    class_names='class_2'\n",
    ")\n",
    "\n"
   ]
  },
  {
   "cell_type": "code",
   "execution_count": null,
   "metadata": {},
   "outputs": [],
   "source": [
    "import tensorflow as tf\n",
    "\n",
    "# Define your process function\n",
    "def process(image, labels):\n",
    "    image = tf.cast(image / 255., tf.float32)\n",
    "    return image, labels\n",
    "\n",
    "# Assuming you have defined train_ds and validation_ds as datasets with (image, label) pairs\n",
    "train_ds = train_ds.map(process)\n",
    "validation_ds = validation_ds.map(process)\n"
   ]
  }
 ],
 "metadata": {
  "kernelspec": {
   "display_name": "Python 3",
   "language": "python",
   "name": "python3"
  },
  "language_info": {
   "codemirror_mode": {
    "name": "ipython",
    "version": 3
   },
   "file_extension": ".py",
   "mimetype": "text/x-python",
   "name": "python",
   "nbconvert_exporter": "python",
   "pygments_lexer": "ipython3",
   "version": "3.11.4"
  },
  "orig_nbformat": 4
 },
 "nbformat": 4,
 "nbformat_minor": 2
}
