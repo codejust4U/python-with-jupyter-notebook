{
 "cells": [
  {
   "cell_type": "markdown",
   "metadata": {},
   "source": [
    "# Listbox in tkinter"
   ]
  },
  {
   "cell_type": "code",
   "execution_count": 1,
   "metadata": {},
   "outputs": [],
   "source": [
    "# importing modules\n",
    "from tkinter import *"
   ]
  },
  {
   "cell_type": "code",
   "execution_count": 24,
   "metadata": {},
   "outputs": [],
   "source": [
    "root = Tk()\n",
    "\n",
    "lbl1 = Label(root,text='Listbox',font=('castellar',35))\n",
    "lbl1.pack()\n",
    "\n",
    "list1 = ['C',\n",
    "         'C++',\n",
    "         'Python',\n",
    "         'Java',\n",
    "         'Typescript']\n",
    "\n",
    "list_box1=Listbox(root,font=('georgia',25))\n",
    "list_box1.pack()\n",
    "for i in list1:\n",
    "    list_box1.insert(END,i)\n",
    "\n",
    "\n",
    "def list_btn():\n",
    "    for i in list_box1.curselection():\n",
    "        item=list_box1.get(i)\n",
    "        lbl2 = Label(root,text=item,font=('georgia',25))\n",
    "        lbl2.pack()\n",
    "\n",
    "\n",
    "\n",
    "btn1 = Button(root,text='Get item from listbox',font=('Georgia',30),command=list_btn)\n",
    "btn1.pack()\n",
    "\n",
    "root.mainloop()"
   ]
  }
 ],
 "metadata": {
  "kernelspec": {
   "display_name": "Python 3",
   "language": "python",
   "name": "python3"
  },
  "language_info": {
   "codemirror_mode": {
    "name": "ipython",
    "version": 3
   },
   "file_extension": ".py",
   "mimetype": "text/x-python",
   "name": "python",
   "nbconvert_exporter": "python",
   "pygments_lexer": "ipython3",
   "version": "3.11.2"
  }
 },
 "nbformat": 4,
 "nbformat_minor": 2
}
