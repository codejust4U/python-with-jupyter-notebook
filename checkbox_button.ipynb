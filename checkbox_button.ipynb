{
 "cells": [
  {
   "cell_type": "markdown",
   "metadata": {},
   "source": [
    "# Check button in tkinter"
   ]
  },
  {
   "cell_type": "code",
   "execution_count": 1,
   "metadata": {},
   "outputs": [],
   "source": [
    "# importing the modules\n",
    "from tkinter import *"
   ]
  },
  {
   "cell_type": "code",
   "execution_count": 23,
   "metadata": {},
   "outputs": [],
   "source": [
    "# importing the modules\n",
    "from tkinter import *\n",
    "root = Tk()\n",
    "\n",
    "lbl1 = Label(root,text=\"Choose your optional subjects\",foreground=\"yellow\",background=\"black\",font=(\"Algerian\",35))\n",
    "lbl1.place(x=200,y=50)\n",
    "\n",
    "def confirm():\n",
    "    opt_sub = str(check_var.get())\n",
    "    lbl2 = Label(text=\"Your optional subjects are : \"+opt_sub,font=('Georgia',30))\n",
    "    lbl2.place(x=100,y=650)\n",
    "\n",
    "check_var = StringVar()\n",
    "\n",
    "check_box1 = Checkbutton(root,text=\"C\",variable=check_var,font=(\"Algerian\",25))\n",
    "check_box1.place(x=150,y=150)\n",
    "check_var.set(\"C\")\n",
    "check_box2 = Checkbutton(root,text=\"C++\",variable=check_var,font=(\"Algerian\",25))\n",
    "check_box2.place(x=150,y=200)\n",
    "check_var.set(\"C\")\n",
    "check_box3 = Checkbutton(root,text=\"Java\",variable=check_var,font=(\"Algerian\",25))\n",
    "check_box3.place(x=150,y=250)\n",
    "check_var.set(\"C\")\n",
    "check_box4 = Checkbutton(root,text=\".Net\",variable=check_var,font=(\"Algerian\",25))\n",
    "check_box4.place(x=150,y=300)\n",
    "check_var.set(\"C\")\n",
    "check_box5 = Checkbutton(root,text=\"JS\",variable=check_var,font=(\"Algerian\",25))\n",
    "check_box5.place(x=150,y=350)\n",
    "check_var.set(\"C\")\n",
    "check_box6 = Checkbutton(root,text=\"Python\",variable=check_var,font=(\"Algerian\",25))\n",
    "check_box6.place(x=150,y=400)\n",
    "check_var.set(\"C\")\n",
    "btn1 = Button(root,text=\"Confirm\",command=confirm,font=('Georgia',30))\n",
    "btn1.place(x=200,y=500)\n",
    "check_var.set(\"C\")\n",
    "\n",
    "\n",
    "\n",
    "root.mainloop()"
   ]
  }
 ],
 "metadata": {
  "kernelspec": {
   "display_name": "Python 3",
   "language": "python",
   "name": "python3"
  },
  "language_info": {
   "codemirror_mode": {
    "name": "ipython",
    "version": 3
   },
   "file_extension": ".py",
   "mimetype": "text/x-python",
   "name": "python",
   "nbconvert_exporter": "python",
   "pygments_lexer": "ipython3",
   "version": "3.11.2"
  }
 },
 "nbformat": 4,
 "nbformat_minor": 2
}
