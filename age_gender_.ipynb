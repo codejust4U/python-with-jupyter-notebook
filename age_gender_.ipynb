{
 "cells": [
  {
   "cell_type": "markdown",
   "metadata": {},
   "source": [
    "# AGE GENDER "
   ]
  },
  {
   "cell_type": "code",
   "execution_count": 12,
   "metadata": {},
   "outputs": [],
   "source": [
    "import os\n",
    "import numpy as np\n",
    "import pandas as pd\n",
    "from keras.preprocessing.image import ImageDataGenerator"
   ]
  },
  {
   "cell_type": "code",
   "execution_count": 13,
   "metadata": {},
   "outputs": [],
   "source": [
    "folder_path = r'D:\\copy of htdocs\\practice\\Python\\200days\\Day195 Deep Learning Day 25\\utkface_aligned_cropped\\UTKFace'"
   ]
  },
  {
   "cell_type": "code",
   "execution_count": 14,
   "metadata": {},
   "outputs": [],
   "source": [
    "age=[]\n",
    "gender=[]\n",
    "img_path=[]\n",
    "for file in os.listdir(folder_path):\n",
    "  age.append(int(file.split('_')[0]))\n",
    "  gender.append(int(file.split('_')[1]))\n",
    "  img_path.append(file)"
   ]
  },
  {
   "cell_type": "code",
   "execution_count": 15,
   "metadata": {},
   "outputs": [
    {
     "data": {
      "text/plain": [
       "128"
      ]
     },
     "execution_count": 15,
     "metadata": {},
     "output_type": "execute_result"
    }
   ],
   "source": [
    "len(age)"
   ]
  },
  {
   "cell_type": "code",
   "execution_count": 16,
   "metadata": {},
   "outputs": [],
   "source": [
    "df = pd.DataFrame({'age':age,'gender':gender,'img':img_path})"
   ]
  },
  {
   "cell_type": "code",
   "execution_count": 17,
   "metadata": {},
   "outputs": [
    {
     "data": {
      "text/plain": [
       "(128, 3)"
      ]
     },
     "execution_count": 17,
     "metadata": {},
     "output_type": "execute_result"
    }
   ],
   "source": [
    "df.shape"
   ]
  },
  {
   "cell_type": "code",
   "execution_count": 18,
   "metadata": {},
   "outputs": [
    {
     "data": {
      "text/html": [
       "<div>\n",
       "<style scoped>\n",
       "    .dataframe tbody tr th:only-of-type {\n",
       "        vertical-align: middle;\n",
       "    }\n",
       "\n",
       "    .dataframe tbody tr th {\n",
       "        vertical-align: top;\n",
       "    }\n",
       "\n",
       "    .dataframe thead th {\n",
       "        text-align: right;\n",
       "    }\n",
       "</style>\n",
       "<table border=\"1\" class=\"dataframe\">\n",
       "  <thead>\n",
       "    <tr style=\"text-align: right;\">\n",
       "      <th></th>\n",
       "      <th>age</th>\n",
       "      <th>gender</th>\n",
       "      <th>img</th>\n",
       "    </tr>\n",
       "  </thead>\n",
       "  <tbody>\n",
       "    <tr>\n",
       "      <th>0</th>\n",
       "      <td>1</td>\n",
       "      <td>0</td>\n",
       "      <td>1_0_0_20161219140623097.jpg.chip.jpg</td>\n",
       "    </tr>\n",
       "    <tr>\n",
       "      <th>1</th>\n",
       "      <td>1</td>\n",
       "      <td>0</td>\n",
       "      <td>1_0_0_20161219140627985.jpg.chip.jpg</td>\n",
       "    </tr>\n",
       "    <tr>\n",
       "      <th>2</th>\n",
       "      <td>1</td>\n",
       "      <td>0</td>\n",
       "      <td>1_0_0_20161219140642920.jpg.chip.jpg</td>\n",
       "    </tr>\n",
       "    <tr>\n",
       "      <th>3</th>\n",
       "      <td>1</td>\n",
       "      <td>0</td>\n",
       "      <td>1_0_0_20161219154018476.jpg.chip.jpg</td>\n",
       "    </tr>\n",
       "    <tr>\n",
       "      <th>4</th>\n",
       "      <td>1</td>\n",
       "      <td>0</td>\n",
       "      <td>1_0_0_20161219154556757.jpg.chip.jpg</td>\n",
       "    </tr>\n",
       "  </tbody>\n",
       "</table>\n",
       "</div>"
      ],
      "text/plain": [
       "   age  gender                                   img\n",
       "0    1       0  1_0_0_20161219140623097.jpg.chip.jpg\n",
       "1    1       0  1_0_0_20161219140627985.jpg.chip.jpg\n",
       "2    1       0  1_0_0_20161219140642920.jpg.chip.jpg\n",
       "3    1       0  1_0_0_20161219154018476.jpg.chip.jpg\n",
       "4    1       0  1_0_0_20161219154556757.jpg.chip.jpg"
      ]
     },
     "execution_count": 18,
     "metadata": {},
     "output_type": "execute_result"
    }
   ],
   "source": [
    "df.head()"
   ]
  },
  {
   "cell_type": "code",
   "execution_count": 19,
   "metadata": {},
   "outputs": [],
   "source": [
    "train_df = df.sample(frac=1,random_state=0).iloc[:100]\n",
    "test_df = df.sample(frac=1,random_state=0).iloc[100:]"
   ]
  },
  {
   "cell_type": "code",
   "execution_count": 20,
   "metadata": {},
   "outputs": [
    {
     "data": {
      "text/plain": [
       "(100, 3)"
      ]
     },
     "execution_count": 20,
     "metadata": {},
     "output_type": "execute_result"
    }
   ],
   "source": [
    "train_df.shape"
   ]
  },
  {
   "cell_type": "code",
   "execution_count": 21,
   "metadata": {},
   "outputs": [
    {
     "data": {
      "text/plain": [
       "(28, 3)"
      ]
     },
     "execution_count": 21,
     "metadata": {},
     "output_type": "execute_result"
    }
   ],
   "source": [
    "test_df.shape"
   ]
  },
  {
   "cell_type": "code",
   "execution_count": 22,
   "metadata": {},
   "outputs": [],
   "source": [
    "train_datagen = ImageDataGenerator(rescale=1./255,\n",
    "                                   rotation_range=30,\n",
    "                                   width_shift_range=0.2,\n",
    "                                   height_shift_range=0.2,\n",
    "                                   shear_range=0.2,\n",
    "                                   zoom_range=0.2,\n",
    "                                   horizontal_flip=True)\n",
    "\n",
    "test_datagen = ImageDataGenerator(rescale=1./255)"
   ]
  },
  {
   "cell_type": "code",
   "execution_count": 23,
   "metadata": {},
   "outputs": [
    {
     "name": "stdout",
     "output_type": "stream",
     "text": [
      "Found 100 validated image filenames.\n",
      "Found 28 validated image filenames.\n"
     ]
    }
   ],
   "source": [
    "train_generator = train_datagen.flow_from_dataframe(train_df,\n",
    "                                                    directory=folder_path,\n",
    "                                                    x_col='img',\n",
    "                                                    y_col=['age','gender'],\n",
    "                                                    target_size=(200,200),\n",
    "                                                    class_mode='multi_output')\n",
    "\n",
    "test_generator = test_datagen.flow_from_dataframe(test_df,\n",
    "                                                    directory=folder_path,\n",
    "                                                    x_col='img',\n",
    "                                                    y_col=['age','gender'],\n",
    "                                                    target_size=(200,200),\n",
    "                                                  class_mode='multi_output')"
   ]
  },
  {
   "cell_type": "code",
   "execution_count": 24,
   "metadata": {},
   "outputs": [],
   "source": [
    "from keras.applications.resnet50 import ResNet50\n",
    "from keras.layers import *\n",
    "from keras.models import Model"
   ]
  },
  {
   "cell_type": "code",
   "execution_count": 25,
   "metadata": {},
   "outputs": [
    {
     "name": "stdout",
     "output_type": "stream",
     "text": [
      "Downloading data from https://storage.googleapis.com/tensorflow/keras-applications/resnet/resnet50_weights_tf_dim_ordering_tf_kernels_notop.h5\n",
      "94765736/94765736 [==============================] - 72s 1us/step\n"
     ]
    }
   ],
   "source": [
    "resnet = ResNet50(include_top=False, input_shape=(200,200,3))"
   ]
  },
  {
   "cell_type": "code",
   "execution_count": 26,
   "metadata": {},
   "outputs": [],
   "source": [
    "resnet = ResNet50(include_top=False, input_shape=(200,200,3))\n",
    "\n",
    "resnet.trainable=False\n",
    "\n",
    "output = resnet.layers[-1].output\n",
    "\n",
    "flatten = Flatten()(output)\n",
    "\n",
    "dense1 = Dense(512, activation='relu')(flatten)\n",
    "dense2 = Dense(512,activation='relu')(flatten)\n",
    "\n",
    "dense3 = Dense(512,activation='relu')(dense1)\n",
    "dense4 = Dense(512,activation='relu')(dense2)\n",
    "\n",
    "output1 = Dense(1,activation='linear',name='age')(dense3)\n",
    "output2 = Dense(1,activation='sigmoid',name='gender')(dense4)"
   ]
  },
  {
   "cell_type": "code",
   "execution_count": 27,
   "metadata": {},
   "outputs": [],
   "source": [
    "model = Model(inputs=resnet.input,outputs=[output1,output2])"
   ]
  },
  {
   "cell_type": "code",
   "execution_count": 30,
   "metadata": {},
   "outputs": [],
   "source": [
    "history=model.compile(optimizer='adam', loss={'age': 'mae', 'gender': 'binary_crossentropy'}, metrics={'age': 'mae', 'gender': 'accuracy'},loss_weights={'age':1,'gender':99})"
   ]
  },
  {
   "cell_type": "code",
   "execution_count": 31,
   "metadata": {},
   "outputs": [
    {
     "name": "stdout",
     "output_type": "stream",
     "text": [
      "Epoch 1/10\n",
      "4/4 [==============================] - 12s 2s/step - loss: 9.6887 - age_loss: 9.6887 - gender_loss: 0.0000e+00 - age_mae: 9.6887 - gender_accuracy: 1.0000 - val_loss: 3.3496 - val_age_loss: 3.3496 - val_gender_loss: 0.0000e+00 - val_age_mae: 3.3496 - val_gender_accuracy: 1.0000\n",
      "Epoch 2/10\n",
      "4/4 [==============================] - 8s 2s/step - loss: 3.0442 - age_loss: 3.0442 - gender_loss: 0.0000e+00 - age_mae: 3.0442 - gender_accuracy: 1.0000 - val_loss: 2.6918 - val_age_loss: 2.6918 - val_gender_loss: 0.0000e+00 - val_age_mae: 2.6918 - val_gender_accuracy: 1.0000\n",
      "Epoch 3/10\n",
      "4/4 [==============================] - 8s 2s/step - loss: 1.5150 - age_loss: 1.5150 - gender_loss: 0.0000e+00 - age_mae: 1.5150 - gender_accuracy: 1.0000 - val_loss: 2.5385 - val_age_loss: 2.5385 - val_gender_loss: 0.0000e+00 - val_age_mae: 2.5385 - val_gender_accuracy: 1.0000\n",
      "Epoch 4/10\n",
      "4/4 [==============================] - 9s 2s/step - loss: 1.6827 - age_loss: 1.6827 - gender_loss: 0.0000e+00 - age_mae: 1.6827 - gender_accuracy: 1.0000 - val_loss: 2.1383 - val_age_loss: 2.1383 - val_gender_loss: 0.0000e+00 - val_age_mae: 2.1383 - val_gender_accuracy: 1.0000\n",
      "Epoch 5/10\n",
      "4/4 [==============================] - 9s 2s/step - loss: 3.3661 - age_loss: 3.3661 - gender_loss: 0.0000e+00 - age_mae: 3.3661 - gender_accuracy: 1.0000 - val_loss: 3.0821 - val_age_loss: 3.0821 - val_gender_loss: 0.0000e+00 - val_age_mae: 3.0821 - val_gender_accuracy: 1.0000\n",
      "Epoch 6/10\n",
      "4/4 [==============================] - 8s 2s/step - loss: 1.2380 - age_loss: 1.2380 - gender_loss: 0.0000e+00 - age_mae: 1.2380 - gender_accuracy: 1.0000 - val_loss: 1.2643 - val_age_loss: 1.2643 - val_gender_loss: 0.0000e+00 - val_age_mae: 1.2643 - val_gender_accuracy: 1.0000\n",
      "Epoch 7/10\n",
      "4/4 [==============================] - 8s 2s/step - loss: 1.1731 - age_loss: 1.1731 - gender_loss: 0.0000e+00 - age_mae: 1.1731 - gender_accuracy: 1.0000 - val_loss: 2.6730 - val_age_loss: 2.6730 - val_gender_loss: 0.0000e+00 - val_age_mae: 2.6730 - val_gender_accuracy: 1.0000\n",
      "Epoch 8/10\n",
      "4/4 [==============================] - 8s 2s/step - loss: 2.8306 - age_loss: 2.8306 - gender_loss: 0.0000e+00 - age_mae: 2.8306 - gender_accuracy: 1.0000 - val_loss: 2.2221 - val_age_loss: 2.2221 - val_gender_loss: 0.0000e+00 - val_age_mae: 2.2221 - val_gender_accuracy: 1.0000\n",
      "Epoch 9/10\n",
      "4/4 [==============================] - 8s 2s/step - loss: 1.7938 - age_loss: 1.7938 - gender_loss: 0.0000e+00 - age_mae: 1.7938 - gender_accuracy: 1.0000 - val_loss: 2.9692 - val_age_loss: 2.9692 - val_gender_loss: 0.0000e+00 - val_age_mae: 2.9692 - val_gender_accuracy: 1.0000\n",
      "Epoch 10/10\n",
      "4/4 [==============================] - 8s 2s/step - loss: 2.6620 - age_loss: 2.6620 - gender_loss: 0.0000e+00 - age_mae: 2.6620 - gender_accuracy: 1.0000 - val_loss: 1.2482 - val_age_loss: 1.2482 - val_gender_loss: 0.0000e+00 - val_age_mae: 1.2482 - val_gender_accuracy: 1.0000\n"
     ]
    },
    {
     "data": {
      "text/plain": [
       "<keras.src.callbacks.History at 0x193487b9e90>"
      ]
     },
     "execution_count": 31,
     "metadata": {},
     "output_type": "execute_result"
    }
   ],
   "source": [
    "model.fit(train_generator, batch_size=32, epochs=10, validation_data=test_generator)"
   ]
  }
 ],
 "metadata": {
  "kernelspec": {
   "display_name": "Python 3",
   "language": "python",
   "name": "python3"
  },
  "language_info": {
   "codemirror_mode": {
    "name": "ipython",
    "version": 3
   },
   "file_extension": ".py",
   "mimetype": "text/x-python",
   "name": "python",
   "nbconvert_exporter": "python",
   "pygments_lexer": "ipython3",
   "version": "3.11.5"
  },
  "orig_nbformat": 4
 },
 "nbformat": 4,
 "nbformat_minor": 2
}
