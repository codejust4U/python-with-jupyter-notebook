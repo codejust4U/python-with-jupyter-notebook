{
 "cells": [
  {
   "cell_type": "markdown",
   "metadata": {},
   "source": [
    "# Text varibale in tkinter"
   ]
  },
  {
   "cell_type": "code",
   "execution_count": 1,
   "metadata": {},
   "outputs": [],
   "source": [
    "# importing tkinter modules\n",
    "from tkinter import *"
   ]
  },
  {
   "cell_type": "code",
   "execution_count": 6,
   "metadata": {},
   "outputs": [],
   "source": [
    "\n",
    "\n",
    "root = Tk()\n",
    "\n",
    "def update_label():\n",
    "    strvar.set(\"Hello \" + entry.get())\n",
    "\n",
    "name_label = Label(root, text=\"Enter your name:\")\n",
    "name_label.pack()\n",
    "\n",
    "entry = Entry(root)\n",
    "entry.pack()\n",
    "\n",
    "# Use a StringVar to update the label text\n",
    "strvar = StringVar()\n",
    "lbl = Label(root, textvariable=strvar)\n",
    "lbl.pack()\n",
    "\n",
    "# Function to update the label when a button is clicked\n",
    "update_button = Button(root, text=\"Update\", command=update_label)\n",
    "update_button.pack()\n",
    "\n",
    "root.mainloop()\n"
   ]
  }
 ],
 "metadata": {
  "kernelspec": {
   "display_name": "Python 3",
   "language": "python",
   "name": "python3"
  },
  "language_info": {
   "codemirror_mode": {
    "name": "ipython",
    "version": 3
   },
   "file_extension": ".py",
   "mimetype": "text/x-python",
   "name": "python",
   "nbconvert_exporter": "python",
   "pygments_lexer": "ipython3",
   "version": "3.11.2"
  }
 },
 "nbformat": 4,
 "nbformat_minor": 2
}
