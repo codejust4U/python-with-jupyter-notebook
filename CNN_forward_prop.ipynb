{
 "cells": [
  {
   "cell_type": "markdown",
   "metadata": {},
   "source": [
    "# CNN forward propagation"
   ]
  },
  {
   "cell_type": "code",
   "execution_count": 4,
   "metadata": {},
   "outputs": [],
   "source": [
    "import numpy as np\n",
    "import matplotlib.pyplot as plt\n",
    "import tensorflow\n",
    "from tensorflow import keras\n",
    "from keras.datasets import mnist"
   ]
  },
  {
   "cell_type": "code",
   "execution_count": 5,
   "metadata": {},
   "outputs": [],
   "source": [
    "\n",
    "def conv_forward(A_prev, W, b, activation, padding=\"same\", stride=(1, 1)):\n",
    "\t\"\"\"forward prop convolutional 3D image, RGB image - color\n",
    "\tArg:\n",
    "\tA_prev: contains the output of prev layer (m, h_prev, w_prev, c_prev)\n",
    "\tW: filter for the convolution (kh, kw, c_prev, c_new)\n",
    "\tb: biases (1, 1, 1, c_new)\n",
    "\tpadding: string ‘same’, or ‘valid’\n",
    "\tstride: tuple (sh, sw)\n",
    "\n",
    "    Return: padded convolved images RGB np.array\n",
    "\t\"\"\"\n",
    "\n",
    "\tm, h_prev, w_prev, c_prev = A_prev.shape\n",
    "\tk_h, k_w, c_prev, c_new = W.shape\n",
    "\ts_h, s_w = stride\n",
    "\t\n",
    "\n",
    "\tif padding == 'valid':\n",
    "\t\tp_h=0\n",
    "\t\tp_w=0\n",
    "\t\n",
    "\n",
    "\tif padding == 'same':\n",
    "\t\tp_h = np.ceil(((s_h*h_prev) - s_h + k_h - h_prev) / 2)\n",
    "\t\tp_h = int(p_h)\n",
    "\t\tp_w = np.ceil(((s_w*w_prev) - s_w + k_w - w_prev) / 2)\n",
    "\t\tp_w = int(p_w)\n",
    "\t\n",
    "\n",
    "\tA_prev = np.pad(A_prev, [(0, 0), (p_h, p_h), (p_w, p_w), (0, 0)],\n",
    "\t\t\t\tmode='constant', constant_values=0)\n",
    "\t\n",
    "\n",
    "\tout_h = int(((h_prev - k_h + (2*p_h)) / (stride[0])) + 1)\n",
    "\tout_w = int(((w_prev - k_w + (2*p_w)) / (stride[1])) + 1)\n",
    "\toutput_conv = np.zeros((m, out_h, out_w, c_new))\n",
    "\tm_A_prev = np.arange(0, m)\n",
    "\t\n",
    "\n",
    "\tfor i in range(out_h):\n",
    "\t\tfor j in range(out_w):\n",
    "\t\t\tfor f in range(c_new):\n",
    "\t\t\t\toutput_conv[m_A_prev, i, j, f] = activation((\n",
    "\t\t\t\t\tnp.sum(np.multiply(\n",
    "\t\t\t\t\t\tA_prev[m_A_prev,i*(stride[0])\n",
    "                        :k_h+(i*(stride[0])),j*(stride[1]):k_w+(j*(stride[1]))],W[:, :, :, f]), axis=(1, 2, 3))) + b[0, 0, 0, f])\n",
    "\t\t\t\treturn output_conv\n"
   ]
  },
  {
   "cell_type": "code",
   "execution_count": null,
   "metadata": {},
   "outputs": [],
   "source": [
    "\n",
    "if __name__ == \"__main__\":\n",
    "\tnp.random.seed(0)\n",
    "\tlib =(X_train,y_train),(X_test,y_test)=mnist.load_data()\n",
    "\tX_train = lib['X_train']\n",
    "\tm, h, w = X_train.shape\n",
    "\tX_train_c = X_train.reshape((-1, h, w, 1))\n",
    "\t\n",
    "\n",
    "\tW = np.random.randn(3, 3, 1, 2)\n",
    "\tb = np.random.randn(1, 1, 1, 2)\n",
    "\t\n",
    "\n",
    "\tdef relu(Z):\n",
    "\t\treturn np.maximum(Z, 0)\n",
    "\t\n",
    "\n",
    "\tplt.imshow(X_train[0])\n",
    "\tplt.show()\n",
    "\tA = conv_forward(X_train_c, W, b, relu, padding='valid')\n",
    "\tprint(A.shape)\n",
    "\tplt.imshow(A[0, :, :, 0])\n",
    "\tplt.show()\n",
    "\n"
   ]
  }
 ],
 "metadata": {
  "kernelspec": {
   "display_name": "Python 3",
   "language": "python",
   "name": "python3"
  },
  "language_info": {
   "codemirror_mode": {
    "name": "ipython",
    "version": 3
   },
   "file_extension": ".py",
   "mimetype": "text/x-python",
   "name": "python",
   "nbconvert_exporter": "python",
   "pygments_lexer": "ipython3",
   "version": "3.11.4"
  },
  "orig_nbformat": 4
 },
 "nbformat": 4,
 "nbformat_minor": 2
}
