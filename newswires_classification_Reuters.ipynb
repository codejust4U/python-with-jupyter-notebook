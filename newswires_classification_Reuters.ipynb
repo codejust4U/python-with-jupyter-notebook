{
 "cells": [
  {
   "cell_type": "markdown",
   "metadata": {},
   "source": [
    "# NEWSWIRES CLASSIFICATION - a multiclass classification using Reuters Dataset"
   ]
  },
  {
   "cell_type": "markdown",
   "metadata": {},
   "source": [
    "### Multiclass classification\n",
    "- Having imbalanced dataset\n",
    "- more than two classes"
   ]
  },
  {
   "cell_type": "code",
   "execution_count": 216,
   "metadata": {},
   "outputs": [],
   "source": [
    "# importing libraries\n",
    "import numpy as np\n",
    "import pandas as pd\n",
    "import matplotlib.pyplot as plt\n",
    "import seaborn as sns"
   ]
  },
  {
   "cell_type": "markdown",
   "metadata": {},
   "source": [
    "- loading the dataset"
   ]
  },
  {
   "cell_type": "code",
   "execution_count": 217,
   "metadata": {},
   "outputs": [],
   "source": [
    "from keras.datasets import reuters"
   ]
  },
  {
   "cell_type": "code",
   "execution_count": 218,
   "metadata": {},
   "outputs": [],
   "source": [
    "(train_data,train_labels),(test_data,test_labels) = reuters.load_data(num_words=10000)  # restricting the data to 10000 most frequently occuring"
   ]
  },
  {
   "cell_type": "code",
   "execution_count": 219,
   "metadata": {},
   "outputs": [
    {
     "name": "stdout",
     "output_type": "stream",
     "text": [
      "8982\n",
      "2246\n"
     ]
    }
   ],
   "source": [
    "# checking length of trainig and test data\n",
    "print(len(train_data))\n",
    "\n",
    "print(len(test_data))"
   ]
  },
  {
   "cell_type": "code",
   "execution_count": 220,
   "metadata": {},
   "outputs": [
    {
     "data": {
      "text/plain": [
       "31"
      ]
     },
     "execution_count": 220,
     "metadata": {},
     "output_type": "execute_result"
    }
   ],
   "source": [
    "len(train_data[10])"
   ]
  },
  {
   "cell_type": "code",
   "execution_count": 221,
   "metadata": {},
   "outputs": [
    {
     "name": "stdout",
     "output_type": "stream",
     "text": [
      "[1, 245, 273, 207, 156, 53, 74, 160, 26, 14, 46, 296, 26, 39, 74, 2979, 3554, 14, 46, 4689, 4329, 86, 61, 3499, 4795, 14, 61, 451, 4329, 17, 12]\n"
     ]
    }
   ],
   "source": [
    "print(train_data[10])"
   ]
  },
  {
   "cell_type": "code",
   "execution_count": 222,
   "metadata": {},
   "outputs": [],
   "source": [
    "# decoding newswires back to text\n",
    "\n",
    "word_index = reuters.get_word_index()\n",
    "\n",
    "reversed_word_index = dict([(value, key) for (key, value) in word_index.items()])"
   ]
  },
  {
   "cell_type": "code",
   "execution_count": 223,
   "metadata": {},
   "outputs": [],
   "source": [
    "decoded_newswire = ''.join([reversed_word_index.get(i-3,'?') for i in train_data[0]])   # note that the indices are offset by 3 coz 0,1 and 2 are reveresed indices for \"padding\",\"start of sequence\",\"unknown\""
   ]
  },
  {
   "cell_type": "code",
   "execution_count": 224,
   "metadata": {},
   "outputs": [
    {
     "data": {
      "text/plain": [
       "3"
      ]
     },
     "execution_count": 224,
     "metadata": {},
     "output_type": "execute_result"
    }
   ],
   "source": [
    "train_labels[10]"
   ]
  },
  {
   "cell_type": "code",
   "execution_count": 225,
   "metadata": {},
   "outputs": [],
   "source": [
    "# preparing the data\n",
    "\n",
    "def vectorize_sequences(sequences, dimension=10000):\n",
    "    results = np.zeros((len(sequences),dimension))\n",
    "    \n",
    "    for i, sequence  in enumerate(sequences):\n",
    "        results[i,sequence] = 1.\n",
    "    return results\n",
    "\n",
    "X_train = vectorize_sequences(train_data)  # vectorizing training data\n",
    "X_test = vectorize_sequences(test_data)     # vectorizing test data\n"
   ]
  },
  {
   "cell_type": "code",
   "execution_count": 226,
   "metadata": {},
   "outputs": [],
   "source": [
    "# encoding the data\n",
    "\n",
    "def one_to_hot(labels,dimension=46):\n",
    "    results = np.zeros((len(labels),dimension))\n",
    "\n",
    "    for i,label in enumerate(labels):\n",
    "        results[i, label] = 1.\n",
    "    return results"
   ]
  },
  {
   "cell_type": "code",
   "execution_count": 227,
   "metadata": {},
   "outputs": [],
   "source": [
    "one_hot_train_labels=one_to_hot(train_labels)\n",
    "one_hot_test_labels = one_to_hot(test_labels)"
   ]
  },
  {
   "cell_type": "code",
   "execution_count": 228,
   "metadata": {},
   "outputs": [],
   "source": [
    "# built in way :\n",
    "from tensorflow.keras.utils import to_categorical\n",
    "\n",
    "one_hot_train_labels = to_categorical(train_labels)\n",
    "\n",
    "one_hot_test_labels = to_categorical(test_labels)"
   ]
  },
  {
   "cell_type": "markdown",
   "metadata": {},
   "source": [
    "- building the network"
   ]
  },
  {
   "cell_type": "code",
   "execution_count": 229,
   "metadata": {},
   "outputs": [],
   "source": [
    "from keras import models\n",
    "from keras import layers\n"
   ]
  },
  {
   "cell_type": "code",
   "execution_count": 230,
   "metadata": {},
   "outputs": [],
   "source": [
    "model = models.Sequential()\n",
    "model.add(layers.Dense(64,activation='relu',input_shape=(10000,)))\n",
    "model.add(layers.Dense(64,activation='relu'))\n",
    "model.add(layers.Dense(46,activation='softmax'))"
   ]
  },
  {
   "cell_type": "code",
   "execution_count": 231,
   "metadata": {},
   "outputs": [],
   "source": [
    "# compiling the model\n",
    "\n",
    "model.compile(optimizer='rmsprop',\n",
    "              loss='categorical_crossentropy',\n",
    "              metrics=['accuracy'])"
   ]
  },
  {
   "cell_type": "code",
   "execution_count": 232,
   "metadata": {},
   "outputs": [],
   "source": [
    "# validating the approach\n",
    "\n",
    "X_val = X_train[:1000]\n",
    "partial_X_train = X_train[1000:]\n",
    "\n",
    "y_val = one_hot_train_labels[:1000]\n",
    "partial_y_train = one_hot_train_labels[1000:]"
   ]
  },
  {
   "cell_type": "code",
   "execution_count": 233,
   "metadata": {},
   "outputs": [
    {
     "name": "stdout",
     "output_type": "stream",
     "text": [
      "Epoch 1/20\n",
      "16/16 [==============================] - 1s 26ms/step - loss: 2.6698 - accuracy: 0.4807 - val_loss: 1.7970 - val_accuracy: 0.6140\n",
      "Epoch 2/20\n",
      "16/16 [==============================] - 0s 16ms/step - loss: 1.5069 - accuracy: 0.6741 - val_loss: 1.3452 - val_accuracy: 0.6870\n",
      "Epoch 3/20\n",
      "16/16 [==============================] - 0s 16ms/step - loss: 1.1504 - accuracy: 0.7489 - val_loss: 1.1988 - val_accuracy: 0.7130\n",
      "Epoch 4/20\n",
      "16/16 [==============================] - 0s 17ms/step - loss: 0.9486 - accuracy: 0.7950 - val_loss: 1.0754 - val_accuracy: 0.7680\n",
      "Epoch 5/20\n",
      "16/16 [==============================] - 0s 16ms/step - loss: 0.7901 - accuracy: 0.8296 - val_loss: 0.9973 - val_accuracy: 0.7920\n",
      "Epoch 6/20\n",
      "16/16 [==============================] - 0s 17ms/step - loss: 0.6610 - accuracy: 0.8545 - val_loss: 0.9512 - val_accuracy: 0.8020\n",
      "Epoch 7/20\n",
      "16/16 [==============================] - 0s 15ms/step - loss: 0.5521 - accuracy: 0.8826 - val_loss: 0.9301 - val_accuracy: 0.7920\n",
      "Epoch 8/20\n",
      "16/16 [==============================] - 0s 17ms/step - loss: 0.4667 - accuracy: 0.8999 - val_loss: 0.8910 - val_accuracy: 0.7970\n",
      "Epoch 9/20\n",
      "16/16 [==============================] - 0s 15ms/step - loss: 0.3918 - accuracy: 0.9171 - val_loss: 0.9313 - val_accuracy: 0.7830\n",
      "Epoch 10/20\n",
      "16/16 [==============================] - 0s 15ms/step - loss: 0.3352 - accuracy: 0.9287 - val_loss: 0.8852 - val_accuracy: 0.8050\n",
      "Epoch 11/20\n",
      "16/16 [==============================] - 0s 15ms/step - loss: 0.2891 - accuracy: 0.9365 - val_loss: 0.8699 - val_accuracy: 0.8010\n",
      "Epoch 12/20\n",
      "16/16 [==============================] - 0s 15ms/step - loss: 0.2522 - accuracy: 0.9422 - val_loss: 0.8750 - val_accuracy: 0.8080\n",
      "Epoch 13/20\n",
      "16/16 [==============================] - 0s 15ms/step - loss: 0.2218 - accuracy: 0.9491 - val_loss: 0.9099 - val_accuracy: 0.7980\n",
      "Epoch 14/20\n",
      "16/16 [==============================] - 0s 15ms/step - loss: 0.2036 - accuracy: 0.9504 - val_loss: 0.9366 - val_accuracy: 0.7940\n",
      "Epoch 15/20\n",
      "16/16 [==============================] - 0s 15ms/step - loss: 0.1808 - accuracy: 0.9533 - val_loss: 0.8775 - val_accuracy: 0.8170\n",
      "Epoch 16/20\n",
      "16/16 [==============================] - 0s 14ms/step - loss: 0.1705 - accuracy: 0.9524 - val_loss: 0.8915 - val_accuracy: 0.8120\n",
      "Epoch 17/20\n",
      "16/16 [==============================] - 0s 15ms/step - loss: 0.1611 - accuracy: 0.9520 - val_loss: 0.8823 - val_accuracy: 0.8140\n",
      "Epoch 18/20\n",
      "16/16 [==============================] - 0s 14ms/step - loss: 0.1462 - accuracy: 0.9564 - val_loss: 0.9234 - val_accuracy: 0.8020\n",
      "Epoch 19/20\n",
      "16/16 [==============================] - 0s 15ms/step - loss: 0.1387 - accuracy: 0.9551 - val_loss: 0.9232 - val_accuracy: 0.8100\n",
      "Epoch 20/20\n",
      "16/16 [==============================] - 0s 14ms/step - loss: 0.1384 - accuracy: 0.9540 - val_loss: 0.9393 - val_accuracy: 0.8070\n"
     ]
    }
   ],
   "source": [
    "# training the model\n",
    "history=model.fit(partial_X_train,\n",
    "          partial_y_train,\n",
    "          epochs=20,\n",
    "          batch_size=512,\n",
    "          validation_data=(X_val,y_val))"
   ]
  },
  {
   "cell_type": "code",
   "execution_count": 234,
   "metadata": {},
   "outputs": [
    {
     "data": {
      "image/png": "[encoded data removed]",
      "text/plain": [
       "<Figure size 640x480 with 1 Axes>"
      ]
     },
     "metadata": {},
     "output_type": "display_data"
    }
   ],
   "source": [
    "# plotting the model\n",
    "\n",
    "loss = history.history['loss']\n",
    "val_loss = history.history['val_loss']\n",
    "\n",
    "epochs = range(1,len(loss)+1)\n",
    "\n",
    "plt.plot(epochs,loss,'b+',label='Training label')\n",
    "plt.plot(epochs,val_loss,'b',label='Validation loss')\n",
    "plt.title('Training and validation loss')\n",
    "plt.xlabel('epochs')\n",
    "plt.ylabel('loss')\n",
    "plt.legend()\n",
    "\n",
    "plt.show()"
   ]
  },
  {
   "cell_type": "code",
   "execution_count": 235,
   "metadata": {},
   "outputs": [
    {
     "data": {
      "image/png": "[encoded data removed]",
      "text/plain": [
       "<Figure size 640x480 with 1 Axes>"
      ]
     },
     "metadata": {},
     "output_type": "display_data"
    }
   ],
   "source": [
    "plt.clf()\n",
    "\n",
    "acc = history.history['accuracy']\n",
    "val_acc = history.history['val_accuracy']\n",
    "\n",
    "plt.plot(epochs,acc,'b+',label='Traing accuracy')\n",
    "plt.plot(epochs,val_acc,'b',label='Validation accuracy')\n",
    "plt.title('Training and validaion accuracy')\n",
    "plt.xlabel('Epochs')\n",
    "plt.ylabel('loss')\n",
    "plt.legend()\n",
    "\n",
    "plt.show()"
   ]
  },
  {
   "cell_type": "code",
   "execution_count": 236,
   "metadata": {},
   "outputs": [
    {
     "data": {
      "text/plain": [
       "\"\\nfrom tensorflow.keras import models, layers\\n\\nmodel = models.Sequential()\\nmodel.add(layers.Dense(64, activation='relu', input_shape=(10000,)))  # Adjust input shape to match your data\\n\\nmodel.add(layers.Dense(64, activation='relu'))\\nmodel.add(layers.Dense(46, activation='softmax'))\\n\\nmodel.compile(optimizer='rmsprop',\\n              loss='categorical_crossentropy',\\n              metrics=['accuracy'])\\n\""
      ]
     },
     "execution_count": 236,
     "metadata": {},
     "output_type": "execute_result"
    }
   ],
   "source": [
    "\"\"\"\n",
    "from tensorflow.keras import models, layers\n",
    "\n",
    "model = models.Sequential()\n",
    "model.add(layers.Dense(64, activation='relu', input_shape=(10000,)))  # Adjust input shape to match your data\n",
    "\n",
    "model.add(layers.Dense(64, activation='relu'))\n",
    "model.add(layers.Dense(46, activation='softmax'))\n",
    "\n",
    "model.compile(optimizer='rmsprop',\n",
    "              loss='categorical_crossentropy',\n",
    "              metrics=['accuracy'])\n",
    "\"\"\""
   ]
  },
  {
   "cell_type": "code",
   "execution_count": 237,
   "metadata": {},
   "outputs": [],
   "source": [
    "# retraining the model from scratch\n",
    "\n",
    "model = models.Sequential()\n",
    "model.add(layers.Dense(64, activation='relu', input_shape=(10000,)))  # Adjust input shape to match your data\n",
    "\n",
    "model.add(layers.Dense(64, activation='relu'))\n",
    "model.add(layers.Dense(46, activation='softmax'))"
   ]
  },
  {
   "cell_type": "code",
   "execution_count": 238,
   "metadata": {},
   "outputs": [],
   "source": [
    "model.compile(optimizer='rmsprop',\n",
    "              loss='categorical_crossentropy',\n",
    "              metrics=['accuracy'])"
   ]
  },
  {
   "cell_type": "code",
   "execution_count": 239,
   "metadata": {},
   "outputs": [
    {
     "name": "stdout",
     "output_type": "stream",
     "text": [
      "Epoch 1/9\n",
      "16/16 [==============================] - 1s 23ms/step - loss: 2.7249 - accuracy: 0.4782 - val_loss: 1.8411 - val_accuracy: 0.6250\n",
      "Epoch 2/9\n",
      "16/16 [==============================] - 0s 18ms/step - loss: 1.5304 - accuracy: 0.6907 - val_loss: 1.3721 - val_accuracy: 0.7050\n",
      "Epoch 3/9\n",
      "16/16 [==============================] - 0s 15ms/step - loss: 1.1572 - accuracy: 0.7497 - val_loss: 1.1803 - val_accuracy: 0.7500\n",
      "Epoch 4/9\n",
      "16/16 [==============================] - 0s 15ms/step - loss: 0.9445 - accuracy: 0.7917 - val_loss: 1.0845 - val_accuracy: 0.7650\n",
      "Epoch 5/9\n",
      "16/16 [==============================] - 0s 15ms/step - loss: 0.7857 - accuracy: 0.8250 - val_loss: 1.0229 - val_accuracy: 0.7820\n",
      "Epoch 6/9\n",
      "16/16 [==============================] - 0s 15ms/step - loss: 0.6522 - accuracy: 0.8604 - val_loss: 0.9557 - val_accuracy: 0.7960\n",
      "Epoch 7/9\n",
      "16/16 [==============================] - 0s 15ms/step - loss: 0.5448 - accuracy: 0.8867 - val_loss: 0.9197 - val_accuracy: 0.7980\n",
      "Epoch 8/9\n",
      "16/16 [==============================] - 0s 15ms/step - loss: 0.4573 - accuracy: 0.9060 - val_loss: 0.8771 - val_accuracy: 0.8150\n",
      "Epoch 9/9\n",
      "16/16 [==============================] - 0s 14ms/step - loss: 0.3853 - accuracy: 0.9196 - val_loss: 0.8946 - val_accuracy: 0.8010\n"
     ]
    },
    {
     "data": {
      "text/plain": [
       "<keras.src.callbacks.History at 0x20c7ad9d610>"
      ]
     },
     "execution_count": 239,
     "metadata": {},
     "output_type": "execute_result"
    }
   ],
   "source": [
    "model.fit(partial_X_train,\n",
    "          partial_y_train,\n",
    "          epochs=9,\n",
    "          batch_size=512,\n",
    "          validation_data=(X_val,y_val))"
   ]
  },
  {
   "cell_type": "code",
   "execution_count": 240,
   "metadata": {},
   "outputs": [
    {
     "name": "stdout",
     "output_type": "stream",
     "text": [
      "71/71 [==============================] - 0s 1ms/step - loss: 0.9592 - accuracy: 0.7823\n"
     ]
    }
   ],
   "source": [
    "# evaluating the model\n",
    "\n",
    "results = model.evaluate(X_test,one_hot_test_labels)"
   ]
  },
  {
   "cell_type": "code",
   "execution_count": 241,
   "metadata": {},
   "outputs": [
    {
     "data": {
      "text/plain": [
       "0.18655387355298308"
      ]
     },
     "execution_count": 241,
     "metadata": {},
     "output_type": "execute_result"
    }
   ],
   "source": [
    "import copy\n",
    "test_labels_copy = copy.copy(test_labels)\n",
    "np.random.shuffle(test_labels_copy)\n",
    "hits_array = np.array(test_labels) == np.array(test_labels_copy)\n",
    "\n",
    "float(np.sum(hits_array))/len(test_labels)"
   ]
  },
  {
   "cell_type": "code",
   "execution_count": 242,
   "metadata": {},
   "outputs": [
    {
     "name": "stdout",
     "output_type": "stream",
     "text": [
      "71/71 [==============================] - 0s 1ms/step\n"
     ]
    }
   ],
   "source": [
    "# generating predictions on new data\n",
    "\n",
    "predictions = model.predict(X_test)"
   ]
  },
  {
   "cell_type": "code",
   "execution_count": 243,
   "metadata": {},
   "outputs": [
    {
     "data": {
      "text/plain": [
       "(46,)"
      ]
     },
     "execution_count": 243,
     "metadata": {},
     "output_type": "execute_result"
    }
   ],
   "source": [
    "predictions[0].shape"
   ]
  },
  {
   "cell_type": "code",
   "execution_count": 244,
   "metadata": {},
   "outputs": [
    {
     "data": {
      "text/plain": [
       "0.99999994"
      ]
     },
     "execution_count": 244,
     "metadata": {},
     "output_type": "execute_result"
    }
   ],
   "source": [
    "# coffiecients in this vector sum to 1\n",
    "np.sum(predictions[0])"
   ]
  },
  {
   "cell_type": "code",
   "execution_count": 245,
   "metadata": {},
   "outputs": [],
   "source": [
    "# a different way to handle labels and loss\n",
    "\n",
    "y_train=np.array(train_labels)\n",
    "y_test=np.array(test_labels)"
   ]
  },
  {
   "cell_type": "code",
   "execution_count": 246,
   "metadata": {},
   "outputs": [],
   "source": [
    "# changing the loss function\n",
    "\n",
    "model.compile(optimizer='rmsprop',\n",
    "              loss='sparse_categorical_crossentropy',\n",
    "               metrics=['acc'])"
   ]
  },
  {
   "cell_type": "code",
   "execution_count": 247,
   "metadata": {},
   "outputs": [],
   "source": [
    "# modeling with an information bottleneck\n",
    "\n",
    "model = models.Sequential()\n",
    "\n",
    "model.add(layers.Dense(64,activation='relu',input_shape=(10000,)))\n",
    "model.add(layers.Dense(64,activation='relu'))\n",
    "model.add(layers.Dense(46,activation='softmax'))"
   ]
  },
  {
   "cell_type": "code",
   "execution_count": 248,
   "metadata": {},
   "outputs": [],
   "source": [
    "model.compile(optimizer='rmsprop',\n",
    "              loss='categorical_crossentropy',\n",
    "              metrics=['accuracy'])"
   ]
  },
  {
   "cell_type": "code",
   "execution_count": 249,
   "metadata": {},
   "outputs": [
    {
     "name": "stdout",
     "output_type": "stream",
     "text": [
      "Epoch 1/20\n",
      "16/16 [==============================] - 1s 24ms/step - loss: 2.7065 - accuracy: 0.5127 - val_loss: 1.8001 - val_accuracy: 0.6160\n",
      "Epoch 2/20\n",
      "16/16 [==============================] - 0s 15ms/step - loss: 1.5408 - accuracy: 0.6725 - val_loss: 1.3749 - val_accuracy: 0.6730\n",
      "Epoch 3/20\n",
      "16/16 [==============================] - 0s 14ms/step - loss: 1.1856 - accuracy: 0.7419 - val_loss: 1.2029 - val_accuracy: 0.7170\n",
      "Epoch 4/20\n",
      "16/16 [==============================] - 0s 15ms/step - loss: 0.9635 - accuracy: 0.7917 - val_loss: 1.0569 - val_accuracy: 0.7680\n",
      "Epoch 5/20\n",
      "16/16 [==============================] - 0s 15ms/step - loss: 0.7948 - accuracy: 0.8274 - val_loss: 0.9878 - val_accuracy: 0.7840\n",
      "Epoch 6/20\n",
      "16/16 [==============================] - 0s 15ms/step - loss: 0.6647 - accuracy: 0.8548 - val_loss: 0.9318 - val_accuracy: 0.7980\n",
      "Epoch 7/20\n",
      "16/16 [==============================] - 0s 15ms/step - loss: 0.5552 - accuracy: 0.8820 - val_loss: 0.8945 - val_accuracy: 0.8060\n",
      "Epoch 8/20\n",
      "16/16 [==============================] - 0s 15ms/step - loss: 0.4699 - accuracy: 0.8999 - val_loss: 0.8674 - val_accuracy: 0.8050\n",
      "Epoch 9/20\n",
      "16/16 [==============================] - 0s 15ms/step - loss: 0.3964 - accuracy: 0.9138 - val_loss: 0.8979 - val_accuracy: 0.7970\n",
      "Epoch 10/20\n",
      "16/16 [==============================] - 0s 14ms/step - loss: 0.3396 - accuracy: 0.9272 - val_loss: 0.8656 - val_accuracy: 0.8090\n",
      "Epoch 11/20\n",
      "16/16 [==============================] - 0s 16ms/step - loss: 0.2925 - accuracy: 0.9365 - val_loss: 0.8431 - val_accuracy: 0.8170\n",
      "Epoch 12/20\n",
      "16/16 [==============================] - 0s 15ms/step - loss: 0.2579 - accuracy: 0.9407 - val_loss: 0.8488 - val_accuracy: 0.8120\n",
      "Epoch 13/20\n",
      "16/16 [==============================] - 0s 14ms/step - loss: 0.2302 - accuracy: 0.9453 - val_loss: 0.8796 - val_accuracy: 0.8070\n",
      "Epoch 14/20\n",
      "16/16 [==============================] - 0s 15ms/step - loss: 0.2058 - accuracy: 0.9499 - val_loss: 0.8957 - val_accuracy: 0.8220\n",
      "Epoch 15/20\n",
      "16/16 [==============================] - 0s 15ms/step - loss: 0.1878 - accuracy: 0.9499 - val_loss: 0.8774 - val_accuracy: 0.8150\n",
      "Epoch 16/20\n",
      "16/16 [==============================] - 0s 15ms/step - loss: 0.1754 - accuracy: 0.9529 - val_loss: 0.9435 - val_accuracy: 0.8150\n",
      "Epoch 17/20\n",
      "16/16 [==============================] - 0s 15ms/step - loss: 0.1594 - accuracy: 0.9529 - val_loss: 0.9232 - val_accuracy: 0.7980\n",
      "Epoch 18/20\n",
      "16/16 [==============================] - 0s 16ms/step - loss: 0.1515 - accuracy: 0.9557 - val_loss: 0.9131 - val_accuracy: 0.8120\n",
      "Epoch 19/20\n",
      "16/16 [==============================] - 0s 15ms/step - loss: 0.1427 - accuracy: 0.9567 - val_loss: 0.9393 - val_accuracy: 0.8050\n",
      "Epoch 20/20\n",
      "16/16 [==============================] - 0s 16ms/step - loss: 0.1353 - accuracy: 0.9573 - val_loss: 0.9646 - val_accuracy: 0.8160\n"
     ]
    },
    {
     "data": {
      "text/plain": [
       "<keras.src.callbacks.History at 0x20c4b267150>"
      ]
     },
     "execution_count": 249,
     "metadata": {},
     "output_type": "execute_result"
    }
   ],
   "source": [
    "model.fit(partial_X_train,\n",
    "          partial_y_train,\n",
    "          epochs=20,\n",
    "          batch_size=512,\n",
    "          validation_data=(X_val,y_val))"
   ]
  }
 ],
 "metadata": {
  "kernelspec": {
   "display_name": "Python 3",
   "language": "python",
   "name": "python3"
  },
  "language_info": {
   "codemirror_mode": {
    "name": "ipython",
    "version": 3
   },
   "file_extension": ".py",
   "mimetype": "text/x-python",
   "name": "python",
   "nbconvert_exporter": "python",
   "pygments_lexer": "ipython3",
   "version": "3.11.5"
  }
 },
 "nbformat": 4,
 "nbformat_minor": 2
}
