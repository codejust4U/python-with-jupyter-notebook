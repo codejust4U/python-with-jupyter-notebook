{
 "cells": [
  {
   "attachments": {},
   "cell_type": "markdown",
   "metadata": {},
   "source": [
    "# Increment in population in last 10 years"
   ]
  },
  {
   "cell_type": "code",
   "execution_count": 3,
   "metadata": {},
   "outputs": [
    {
     "name": "stdout",
     "output_type": "stream",
     "text": [
      "Population:  10000\n",
      "Population:  9090.90909090909\n",
      "Population:  8264.462809917353\n",
      "Population:  7513.148009015775\n",
      "Population:  6830.134553650703\n",
      "Population:  6209.213230591548\n",
      "Population:  5644.739300537771\n",
      "Population:  5131.5811823070635\n",
      "Population:  4665.07380209733\n",
      "Population:  4240.976183724845\n"
     ]
    }
   ],
   "source": [
    "curren_pop=10000\n",
    "for i in range(10,0,-1):\n",
    "    print(\"Population: \",curren_pop)\n",
    "    curren_pop = curren_pop/1.1\n"
   ]
  },
  {
   "attachments": {},
   "cell_type": "markdown",
   "metadata": {},
   "source": [
    "# Equation in series"
   ]
  },
  {
   "cell_type": "code",
   "execution_count": 7,
   "metadata": {},
   "outputs": [
    {
     "name": "stdout",
     "output_type": "stream",
     "text": [
      "0.3333333333333333\n",
      "2.0\n",
      "16.2\n",
      "170.66666666666666\n",
      "2232.1428571428573\n"
     ]
    }
   ],
   "source": [
    "n = int(input(\"Enter n: \"))\n",
    "series_n = 1\n",
    "power_n = 2\n",
    "for i in range(1,n+1):\n",
    "    series_n = i**power_n\n",
    "    power_n += 1\n",
    "    print(series_n/power_n)"
   ]
  }
 ],
 "metadata": {
  "kernelspec": {
   "display_name": "Python 3",
   "language": "python",
   "name": "python3"
  },
  "language_info": {
   "codemirror_mode": {
    "name": "ipython",
    "version": 3
   },
   "file_extension": ".py",
   "mimetype": "text/x-python",
   "name": "python",
   "nbconvert_exporter": "python",
   "pygments_lexer": "ipython3",
   "version": "3.11.2"
  },
  "orig_nbformat": 4
 },
 "nbformat": 4,
 "nbformat_minor": 2
}
