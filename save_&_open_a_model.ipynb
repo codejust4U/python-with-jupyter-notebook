{
 "cells": [
  {
   "attachments": {},
   "cell_type": "markdown",
   "metadata": {},
   "source": [
    "# Save and Open the model"
   ]
  },
  {
   "attachments": {},
   "cell_type": "markdown",
   "metadata": {},
   "source": [
    "Two ways:\n",
    "\n",
    "1. Using pickle package - fast but takes more storage\n",
    "\n",
    "2. Using joblib package - little bit slow but takes less storage"
   ]
  },
  {
   "attachments": {},
   "cell_type": "markdown",
   "metadata": {},
   "source": [
    "## With Pickle --- Start"
   ]
  },
  {
   "cell_type": "code",
   "execution_count": null,
   "metadata": {},
   "outputs": [],
   "source": [
    "#importing the modules\n",
    "import pickle as pkl\n",
    "from pyexpat import model\n",
    "\n",
    "filename = \"pickle_model.pickle\"\n",
    "\n",
    "#saving the model \n",
    "pkl.dump(model,open(filename),\"wb\")\n",
    "\n",
    "#loading the model\n",
    "load_model = pkl.load(open(filename,\"rb\"))\n"
   ]
  },
  {
   "attachments": {},
   "cell_type": "markdown",
   "metadata": {},
   "source": [
    "## outline\n",
    "train Random Forest model,\n",
    "\n",
    "save model to disk,\n",
    "\n",
    "load model from disk,\n",
    "\n",
    "compute predictions with loaded model."
   ]
  },
  {
   "cell_type": "code",
   "execution_count": 1,
   "metadata": {},
   "outputs": [],
   "source": [
    "from sklearn.datasets import load_iris\n",
    "from sklearn.ensemble import RandomForestClassifier\n",
    "\n"
   ]
  },
  {
   "cell_type": "code",
   "execution_count": 3,
   "metadata": {},
   "outputs": [],
   "source": [
    "import pickle\n",
    "\n",
    "#load the sample data from sklearn\n",
    "X,y = load_iris(return_X_y=True)\n",
    "\n",
    "#creating the random forest classifier\n",
    "rf = RandomForestClassifier()\n",
    "\n",
    "#fitting the datas into model\n",
    "rf.fit(X,y)\n",
    "\n",
    "filename = \"random_forest.pickle\"\n",
    "\n",
    "# save the model\n",
    "pickle.dump(rf,open(filename,\"wb\"))\n",
    "\n",
    "#laoding the model\n",
    "load_model = pickle.load(open(filename,\"rb\"))\n",
    "\n",
    "#for the predictions\n",
    "y_pred = load_model.predict(X)\n"
   ]
  },
  {
   "attachments": {},
   "cell_type": "markdown",
   "metadata": {},
   "source": [
    "## End of Pickle"
   ]
  },
  {
   "attachments": {},
   "cell_type": "markdown",
   "metadata": {},
   "source": [
    "## With joblib -- start"
   ]
  },
  {
   "cell_type": "code",
   "execution_count": null,
   "metadata": {},
   "outputs": [],
   "source": [
    "import joblib\n",
    "\n",
    "filename = \"my_model.joblib\"\n",
    "\n",
    "#save the model\n",
    "joblib.dump(rf,filename)\n",
    "\n",
    "#load the model\n",
    "load_model = joblib.load(filename)"
   ]
  },
  {
   "attachments": {},
   "cell_type": "markdown",
   "metadata": {},
   "source": [
    "Complete joblib"
   ]
  },
  {
   "cell_type": "code",
   "execution_count": 1,
   "metadata": {},
   "outputs": [],
   "source": [
    "from sklearn.datasets import load_iris\n",
    "from sklearn.ensemble  import RandomForestClassifier\n",
    "\n",
    "# load libraries\n",
    "import joblib\n",
    "\n",
    "#laod_data \n",
    "X,y=load_iris(return_X_y=True)\n",
    "\n",
    "#createing Random Forest Classifier\n",
    "rf = RandomForestClassifier()\n",
    "\n",
    "#fit the model\n",
    "rf.fit(X,y)\n",
    "\n",
    "filename = \"random_forest.joblib\"\n",
    "\n",
    "#save the model\n",
    "joblib.dump(rf,filename)\n",
    "\n",
    "#load the model \n",
    "load_model = joblib.load(filename)\n",
    "\n",
    "# predicting the model\n",
    "y_pred = load_model.predict(X)"
   ]
  },
  {
   "cell_type": "code",
   "execution_count": null,
   "metadata": {},
   "outputs": [],
   "source": [
    "import pickle\n",
    "import joblib\n",
    "\n",
    "filename = 'random_forest.pickle'\n",
    "%timeit - n 100 pickle.dump(rf, open(filename,'wb'))\n",
    "%timeit - n 100 load_model = pickle.load(open(filename,'rb'))\n",
    "\n",
    "\n",
    "filename = 'random_forest.joblib'\n",
    "joblib.dump(rf, filename)\n",
    "load_model = joblib.load(filename)\n"
   ]
  },
  {
   "cell_type": "code",
   "execution_count": 11,
   "metadata": {},
   "outputs": [
    {
     "name": "stdout",
     "output_type": "stream",
     "text": [
      "1.99 ms ± 143 µs per loop (mean ± std. dev. of 7 runs, 100 loops each)\n"
     ]
    }
   ],
   "source": [
    "import pickle\n",
    "\n",
    "filename = 'random_forest.pickle'\n",
    "\n",
    "# Save with pickle and measure execution time\n",
    "%timeit -n 100 pickle.dump(rf, open(filename, 'wb'))\n"
   ]
  },
  {
   "cell_type": "code",
   "execution_count": 12,
   "metadata": {},
   "outputs": [
    {
     "name": "stdout",
     "output_type": "stream",
     "text": [
      "1.78 ms ± 185 µs per loop (mean ± std. dev. of 7 runs, 100 loops each)\n"
     ]
    }
   ],
   "source": [
    "\n",
    "%timeit -n 100 load_model = pickle.load(open(filename,'rb'))"
   ]
  },
  {
   "cell_type": "code",
   "execution_count": 13,
   "metadata": {},
   "outputs": [
    {
     "name": "stdout",
     "output_type": "stream",
     "text": [
      "18.3 ms ± 745 µs per loop (mean ± std. dev. of 7 runs, 100 loops each)\n"
     ]
    }
   ],
   "source": [
    "import joblib\n",
    "\n",
    "filename = 'random_forest.joblib'\n",
    "\n",
    "# Save with pickle and measure execution time\n",
    "%timeit -n 100 joblib.dump(rf, open(filename, 'wb'))\n"
   ]
  },
  {
   "cell_type": "code",
   "execution_count": 14,
   "metadata": {},
   "outputs": [
    {
     "name": "stdout",
     "output_type": "stream",
     "text": [
      "13.7 ms ± 406 µs per loop (mean ± std. dev. of 7 runs, 100 loops each)\n"
     ]
    }
   ],
   "source": [
    "\n",
    "%timeit -n 100 load_model = joblib.load(filename)"
   ]
  }
 ],
 "metadata": {
  "kernelspec": {
   "display_name": "Python 3",
   "language": "python",
   "name": "python3"
  },
  "language_info": {
   "codemirror_mode": {
    "name": "ipython",
    "version": 3
   },
   "file_extension": ".py",
   "mimetype": "text/x-python",
   "name": "python",
   "nbconvert_exporter": "python",
   "pygments_lexer": "ipython3",
   "version": "3.11.2"
  },
  "orig_nbformat": 4
 },
 "nbformat": 4,
 "nbformat_minor": 2
}
