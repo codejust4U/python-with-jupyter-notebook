{
 "cells": [
  {
   "cell_type": "markdown",
   "metadata": {},
   "source": [
    "### Linear search\n",
    "- time complexity i.e O(n)\n",
    "- no sorted array is required"
   ]
  },
  {
   "cell_type": "code",
   "execution_count": 39,
   "metadata": {},
   "outputs": [],
   "source": [
    "def linear_search(arr,item):\n",
    "    for i in range(len(arr)):\n",
    "        if arr[i] ==  item:\n",
    "            return  i\n",
    "    return -1"
   ]
  },
  {
   "cell_type": "code",
   "execution_count": 40,
   "metadata": {},
   "outputs": [],
   "source": [
    "arr = [34,76,89,23,98]\n"
   ]
  },
  {
   "cell_type": "code",
   "execution_count": 41,
   "metadata": {},
   "outputs": [
    {
     "data": {
      "text/plain": [
       "4"
      ]
     },
     "execution_count": 41,
     "metadata": {},
     "output_type": "execute_result"
    }
   ],
   "source": [
    "linear_search(arr,98)"
   ]
  },
  {
   "cell_type": "markdown",
   "metadata": {},
   "source": [
    "----\n",
    "---\n"
   ]
  },
  {
   "cell_type": "markdown",
   "metadata": {},
   "source": [
    "### Binary Search"
   ]
  },
  {
   "cell_type": "markdown",
   "metadata": {},
   "source": [
    "### here u get the questions as if this works on:\n",
    " nlog(n)+log(n)\n",
    "\n",
    "### still why we prefer binary rather than linear as O(n)< nlog(n)+log(n)\n",
    "\n",
    "this is because of ammortized cost i.e\n",
    "\n",
    "if k is very big number \n",
    "\n",
    "then\n",
    "\n",
    "    sorting is done at once but searching can be done many times so\n",
    "    \n"
   ]
  },
  {
   "cell_type": "code",
   "execution_count": 42,
   "metadata": {},
   "outputs": [],
   "source": [
    "def binary_search(arr, low, high, item):\n",
    "    print(\"low :\",low,\"high :\",high,end=' ')\n",
    "    if low <= high:\n",
    "        mid = (low + high) // 2\n",
    "        print(\"mid : \",arr[mid])\n",
    "        if arr[mid] == item:\n",
    "            return mid\n",
    "        elif arr[mid] > item:\n",
    "            return binary_search(arr, low, mid - 1, item)\n",
    "        else:\n",
    "            return binary_search(arr, mid + 1, high, item)\n",
    "    else:\n",
    "        return \"Item not found\"\n"
   ]
  },
  {
   "cell_type": "code",
   "execution_count": 43,
   "metadata": {},
   "outputs": [
    {
     "name": "stdout",
     "output_type": "stream",
     "text": [
      "low : 0 high : 8 mid :  57\n",
      "low : 5 high : 8 mid :  80\n",
      "low : 7 high : 8 mid :  99\n",
      "low : 8 high : 8 mid :  100\n",
      "low : 9 high : 8 Item not found\n"
     ]
    }
   ],
   "source": [
    "arr = [12,24,35,46,57,68,80,99,100]\n",
    "\n",
    "print(binary_search(arr,0,len(arr)-1,200))"
   ]
  },
  {
   "cell_type": "markdown",
   "metadata": {},
   "source": [
    "----\n",
    "---\n"
   ]
  },
  {
   "cell_type": "markdown",
   "metadata": {},
   "source": [
    "\n",
    "### sorting"
   ]
  },
  {
   "cell_type": "code",
   "execution_count": 44,
   "metadata": {},
   "outputs": [],
   "source": [
    "def is_sorted(arr):\n",
    "    sorted =True\n",
    "    for i in range (len(arr)-1) :\n",
    "        if arr[i] > arr [i+1]:\n",
    "            sorted = False\n",
    "    return sorted"
   ]
  },
  {
   "cell_type": "code",
   "execution_count": 45,
   "metadata": {},
   "outputs": [
    {
     "data": {
      "text/plain": [
       "False"
      ]
     },
     "execution_count": 45,
     "metadata": {},
     "output_type": "execute_result"
    }
   ],
   "source": [
    "arr = [1,2,3,7,5,6]\n",
    "is_sorted(arr)"
   ]
  },
  {
   "cell_type": "markdown",
   "metadata": {},
   "source": [
    "----\n",
    "---\n"
   ]
  },
  {
   "cell_type": "markdown",
   "metadata": {},
   "source": [
    "### Monkey sort\n"
   ]
  },
  {
   "cell_type": "markdown",
   "metadata": {},
   "source": [
    "- infinite time complexity"
   ]
  },
  {
   "cell_type": "code",
   "execution_count": 46,
   "metadata": {},
   "outputs": [
    {
     "data": {
      "text/plain": [
       "[3, 1, 4, 2]"
      ]
     },
     "execution_count": 46,
     "metadata": {},
     "output_type": "execute_result"
    }
   ],
   "source": [
    "import random\n",
    "a=[1,2,3,4]\n",
    "random.shuffle(a)\n",
    "a"
   ]
  },
  {
   "cell_type": "code",
   "execution_count": 47,
   "metadata": {},
   "outputs": [],
   "source": [
    "import time\n",
    "def monkey_sort(arr):\n",
    "    while not is_sorted(arr):\n",
    "        time.sleep(1)\n",
    "        random.shuffle(arr)\n",
    "        print(arr)\n",
    "    print(arr)"
   ]
  },
  {
   "cell_type": "code",
   "execution_count": 48,
   "metadata": {},
   "outputs": [],
   "source": [
    "#monkey_sort([45,76,32,67,22,12,98])\n",
    "#don't run it, it will take time"
   ]
  },
  {
   "cell_type": "markdown",
   "metadata": {},
   "source": [
    "----\n",
    "---\n"
   ]
  },
  {
   "cell_type": "markdown",
   "metadata": {},
   "source": [
    "### Sleep sort\n",
    "the king of laziness\n",
    "\n",
    "which means in it each number will wait of whats times value is"
   ]
  },
  {
   "cell_type": "markdown",
   "metadata": {},
   "source": [
    "----\n",
    "---\n"
   ]
  },
  {
   "cell_type": "markdown",
   "metadata": {},
   "source": [
    "### Bubble sort\n"
   ]
  },
  {
   "cell_type": "markdown",
   "metadata": {},
   "source": [
    "- compare the adjacent items and place the high items at after and repeats it with all \n",
    "- no.of pass = n-1\n",
    "- no of comparision = (n-1)+(n-2)+(n-3).....1\n",
    "- no of swapping = 1+2+3+.....+(n-1)\n",
    "\n",
    "which is\n",
    "\n",
    "n(n-1)/2\n",
    "\n",
    "i.e O(n^2)\n",
    "\n",
    "\n",
    "- space complexity = 1\n",
    "\n",
    "\n",
    "- adaptive?\n",
    "\n",
    "- ans is No\n",
    "\n",
    "- but what yes means, is that it takes advantages of existing order which means if other terms are already sorted then it wont sort, it only sort which is not sorted."
   ]
  },
  {
   "cell_type": "code",
   "execution_count": 49,
   "metadata": {},
   "outputs": [],
   "source": [
    "def bubble_sort(arr):\n",
    "    for i in range(len(arr)-1):\n",
    "        for j in range(len(arr)-1-i):\n",
    "            if arr[j]>arr[j+1]:\n",
    "                arr[j],arr[j+1]=arr[j+1],arr[j]\n",
    "\n",
    "\n",
    "    print(arr)"
   ]
  },
  {
   "cell_type": "code",
   "execution_count": 50,
   "metadata": {},
   "outputs": [
    {
     "name": "stdout",
     "output_type": "stream",
     "text": [
      "[23, 34, 45, 53, 77]\n"
     ]
    }
   ],
   "source": [
    "arr = [23,45,77,53,34]\n",
    "bubble_sort(arr)"
   ]
  },
  {
   "cell_type": "markdown",
   "metadata": {},
   "source": [
    "- can bubble sort be made adaptive?\n",
    "- yes by using flag, which means it wont sort remainig part which is sorted and break the loop and returns flags as 1"
   ]
  },
  {
   "cell_type": "code",
   "execution_count": 51,
   "metadata": {},
   "outputs": [],
   "source": [
    "def bubble_sort(arr):\n",
    "    for i in range(len(arr)-1):\n",
    "        flag = 0\n",
    "        for j in range(len(arr)-1-i):\n",
    "            if arr[j]>arr[j+1]:\n",
    "                arr[j],arr[j+1]=arr[j+1],arr[j]\n",
    "                flag=1\n",
    "        if flag == 0:\n",
    "            break\n",
    "\n",
    "\n",
    "    return arr"
   ]
  },
  {
   "cell_type": "code",
   "execution_count": 52,
   "metadata": {},
   "outputs": [
    {
     "data": {
      "text/plain": [
       "[23, 45, 77, 78, 79]"
      ]
     },
     "execution_count": 52,
     "metadata": {},
     "output_type": "execute_result"
    }
   ],
   "source": [
    "arr = [23,45,77,78,79]\n",
    "bubble_sort(arr)"
   ]
  },
  {
   "cell_type": "markdown",
   "metadata": {},
   "source": [
    "- Worst case - O(n^2)\n",
    "- best case - O(n)\n",
    "\n",
    "- stable?\n",
    "\n",
    "In computer science, a stable sorting algorithm preserves the order of records with equal keys.\n",
    "\n",
    "In numerical analysis, a numerically stable algorithm avoids magnifying small errors. An algorithm is stable if the result produced is relatively insensitive to perturbations during computation.\n",
    "\n",
    "- Yes, bubble sort is stable"
   ]
  },
  {
   "cell_type": "markdown",
   "metadata": {},
   "source": [
    "----\n",
    "---\n"
   ]
  },
  {
   "cell_type": "markdown",
   "metadata": {},
   "source": [
    "### Selection sort"
   ]
  },
  {
   "cell_type": "markdown",
   "metadata": {},
   "source": [
    "- time complexity = O(n^2) = comparision\n",
    "\n",
    "- swaps = 0(n)\n",
    "\n",
    "- space complexity = O(1)"
   ]
  },
  {
   "cell_type": "code",
   "execution_count": 53,
   "metadata": {},
   "outputs": [],
   "source": [
    "def selection_sort(arr):\n",
    "    for i in range(len(arr)-1):\n",
    "        min = i\n",
    "        # assume the first element is minimum\n",
    "        for j in range(i+1,len(arr)):\n",
    "            if arr[j] < arr[min]:\n",
    "                min = j\n",
    "        \n",
    "\n",
    "    return arr"
   ]
  },
  {
   "cell_type": "code",
   "execution_count": 54,
   "metadata": {},
   "outputs": [
    {
     "data": {
      "text/plain": [
       "[23, 45, 77, 78, 79]"
      ]
     },
     "execution_count": 54,
     "metadata": {},
     "output_type": "execute_result"
    }
   ],
   "source": [
    "\n",
    "arr = [23,45,77,78,79]\n",
    "selection_sort(arr)"
   ]
  },
  {
   "cell_type": "markdown",
   "metadata": {},
   "source": [
    "----\n",
    "---\n"
   ]
  },
  {
   "cell_type": "code",
   "execution_count": 55,
   "metadata": {},
   "outputs": [],
   "source": [
    "l1 = []\n",
    "import random\n",
    "for i in range(10000):\n",
    "    l1.append(random.randint(1,10000))\n"
   ]
  },
  {
   "cell_type": "code",
   "execution_count": 56,
   "metadata": {},
   "outputs": [
    {
     "data": {
      "text/plain": [
       "10000"
      ]
     },
     "execution_count": 56,
     "metadata": {},
     "output_type": "execute_result"
    }
   ],
   "source": [
    "len(l1)"
   ]
  },
  {
   "cell_type": "code",
   "execution_count": 57,
   "metadata": {},
   "outputs": [],
   "source": [
    "l1 = l1[:]\n"
   ]
  },
  {
   "cell_type": "code",
   "execution_count": 58,
   "metadata": {},
   "outputs": [
    {
     "name": "stdout",
     "output_type": "stream",
     "text": [
      "time : 3.566542387008667\n"
     ]
    }
   ],
   "source": [
    "import time\n",
    "start = time.time()\n",
    "bubble_sort(l1)\n",
    "print(\"time :\",time.time()-start)\n"
   ]
  },
  {
   "cell_type": "code",
   "execution_count": 59,
   "metadata": {},
   "outputs": [
    {
     "name": "stdout",
     "output_type": "stream",
     "text": [
      "time : 1.5080022811889648\n"
     ]
    }
   ],
   "source": [
    "import time\n",
    "start = time.time()\n",
    "selection_sort(l1)\n",
    "print(\"time :\",time.time()-start)"
   ]
  },
  {
   "cell_type": "markdown",
   "metadata": {},
   "source": [
    "### thats why selection sort is fast."
   ]
  },
  {
   "cell_type": "markdown",
   "metadata": {},
   "source": [
    "- but selection sort is not adaptive, which means at best case bubble sort will perform better rather than selection sort.\n",
    "- selection sort isn't stable\n",
    "\n",
    "### benefits\n",
    "-fast in time\n"
   ]
  },
  {
   "cell_type": "markdown",
   "metadata": {},
   "source": [
    "----\n",
    "---\n"
   ]
  },
  {
   "cell_type": "markdown",
   "metadata": {},
   "source": [
    "### Merge sort\n",
    "\n",
    "it means divide and conquer which means it will split the datas as evenly as possible and it repeats until each item is individual and then compare and merge again."
   ]
  },
  {
   "cell_type": "code",
   "execution_count": null,
   "metadata": {},
   "outputs": [],
   "source": []
  },
  {
   "cell_type": "code",
   "execution_count": 60,
   "metadata": {},
   "outputs": [],
   "source": [
    "def merge_sorted(arr1,arr2):\n",
    "    i=j=0\n",
    "    merged=[]\n",
    "    while (i<len(arr1) and j < len(arr2)):\n",
    "        if arr1[i]<arr2[j]:\n",
    "            merged.append(arr1[i])\n",
    "            i+=1\n",
    "        else:\n",
    "            merged.append(arr2[j])\n",
    "            j+=1\n",
    "\n",
    "    while i<len(arr1):\n",
    "        merged.append(arr1[i])\n",
    "        i+=1\n",
    "    \n",
    "    while j <len(arr2):\n",
    "        merged.append(arr2[j])\n",
    "        j+=1\n",
    "\n",
    "    return merged"
   ]
  },
  {
   "cell_type": "code",
   "execution_count": 61,
   "metadata": {},
   "outputs": [
    {
     "data": {
      "text/plain": [
       "[1, 2, 3, 4, 5, 6]"
      ]
     },
     "execution_count": 61,
     "metadata": {},
     "output_type": "execute_result"
    }
   ],
   "source": [
    "arr1=[1,2,4]\n",
    "arr2=[3,5,6]\n",
    "merge_sorted(arr1,arr2)"
   ]
  },
  {
   "cell_type": "code",
   "execution_count": 62,
   "metadata": {},
   "outputs": [],
   "source": [
    "def merge_sort(arr):\n",
    "    if len(arr)==1:\n",
    "        return arr\n",
    "    mid= len(arr)//2\n",
    "    left =arr[:mid]\n",
    "    right=arr[mid:]\n",
    "\n",
    "    left = merge_sort(left)\n",
    "    right =  merge_sort(right)\n",
    "    return merge_sorted(left,right)"
   ]
  },
  {
   "cell_type": "code",
   "execution_count": 63,
   "metadata": {},
   "outputs": [
    {
     "data": {
      "text/plain": [
       "[1, 2, 4, 5, 6, 7, 8, 9]"
      ]
     },
     "execution_count": 63,
     "metadata": {},
     "output_type": "execute_result"
    }
   ],
   "source": [
    "arr = [2,1,5,8,9,6,7,4]\n",
    "merge_sort(arr)"
   ]
  },
  {
   "cell_type": "markdown",
   "metadata": {},
   "source": [
    "### time complexity\n",
    "- level of tree = log(n)\n",
    "- merge time complexity = nlog(n)\n",
    "- divde = O(1)\n",
    "- merge = O(n)\n",
    "- forming the tree = log(n)\n",
    "\n",
    "\n",
    "== nlog(n)\n",
    "\n",
    "\n",
    "### space complexity\n",
    "- already the time is same as length = O(n)\n",
    "\n",
    "\n",
    "### not adaptive\n",
    "\n",
    "### stable - yes"
   ]
  },
  {
   "cell_type": "code",
   "execution_count": 64,
   "metadata": {},
   "outputs": [],
   "source": [
    "def merge_sorted(arr1,arr2,arr):\n",
    "    i=j=k=0\n",
    "    merged=[]\n",
    "    while (i<len(arr1) and j < len(arr2)):\n",
    "        if arr1[i]<arr2[j]:\n",
    "            arr[k]=arr1[i]\n",
    "            i+=1\n",
    "        else:\n",
    "            arr[k]=arr2[j]\n",
    "            j+=1\n",
    "\n",
    "    while i<len(arr1):\n",
    "        arr[k]=arr1[i]\n",
    "        i+=1\n",
    "    \n",
    "    while j <len(arr2):\n",
    "        arr[k]=arr2[j]\n",
    "        j+=1\n",
    "\n",
    "    return merged"
   ]
  },
  {
   "cell_type": "code",
   "execution_count": 65,
   "metadata": {},
   "outputs": [],
   "source": [
    "def merge_sort(arr):\n",
    "    if len(arr)==1:\n",
    "        return arr\n",
    "    mid= len(arr)//2\n",
    "    left =arr[:mid]\n",
    "    right=arr[mid:]\n",
    "\n",
    "    merge_sort(left)\n",
    "    merge_sort(right)\n",
    "    merge_sorted(left,right,arr)"
   ]
  },
  {
   "cell_type": "code",
   "execution_count": 66,
   "metadata": {},
   "outputs": [
    {
     "data": {
      "text/plain": [
       "[]"
      ]
     },
     "execution_count": 66,
     "metadata": {},
     "output_type": "execute_result"
    }
   ],
   "source": [
    "arr1=[1,2,4]\n",
    "arr2=[3,5,6]\n",
    "merge_sorted(arr1,arr2,arr)"
   ]
  },
  {
   "cell_type": "code",
   "execution_count": 67,
   "metadata": {},
   "outputs": [
    {
     "name": "stdout",
     "output_type": "stream",
     "text": [
      "[8, 1, 5, 8, 9, 6, 7, 4]\n"
     ]
    }
   ],
   "source": [
    "arr = [2,1,5,8,9,6,7,4]\n",
    "merge_sort(arr)\n",
    "print(arr)"
   ]
  }
 ],
 "metadata": {
  "kernelspec": {
   "display_name": "Python 3",
   "language": "python",
   "name": "python3"
  },
  "language_info": {
   "codemirror_mode": {
    "name": "ipython",
    "version": 3
   },
   "file_extension": ".py",
   "mimetype": "text/x-python",
   "name": "python",
   "nbconvert_exporter": "python",
   "pygments_lexer": "ipython3",
   "version": "3.11.2"
  },
  "orig_nbformat": 4
 },
 "nbformat": 4,
 "nbformat_minor": 2
}
