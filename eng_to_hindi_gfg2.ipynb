{
 "cells": [
  {
   "cell_type": "code",
   "execution_count": null,
   "metadata": {},
   "outputs": [],
   "source": [
    "# import modules\n",
    "from tkinter import *\n",
    "from englisttohindi.englisttohindi import EngtoHindi\n",
    "\n",
    "# user define function\n",
    "def eng_to_hindi():\n",
    "\ttrans = EngtoHindi(str(e.get()))\n",
    "\tres = trans.convert\n",
    "\tresult.set(res) \n",
    "\n",
    "# object of tkinter\n",
    "# and background set for grey\n",
    "master = Tk()\n",
    "master.configure(bg = 'light grey')\n",
    "\n",
    "# Variable Classes in tkinter\n",
    "result = StringVar();\n",
    "\n",
    "# Creating label for each information\n",
    "# name using widget Label \n",
    "Label(master, text=\"Enter Text : \" , bg = \"light grey\").grid(row = 0, sticky = W)\n",
    "Label(master, text=\"Result :\", bg = \"light grey\").grid(row = 3, sticky = W)\n",
    "\n",
    "# Creating label for class variable\n",
    "# name using widget Entry\n",
    "Label(master, text=\"\", textvariable=result,bg = \"light grey\").grid(row = 3,\n",
    "\t\t\t\t\t\t\t\t\t\t\t\t\t\t\t\tcolumn = 1, \n",
    "\t\t\t\t\t\t\t\t\t\t\t\t\t\t\t\tsticky = W)\n",
    "\n",
    "e = Entry(master, width = 100)\n",
    "e.grid(row = 0, column = 1)\n",
    "\n",
    "# creating a button using the widget \n",
    "# Button that will call the submit function \n",
    "b = Button(master, text = \"Show\", command = eng_to_hindi, bg = \"Blue\")\n",
    "b.grid(row = 0, column = 2, columnspan = 2, rowspan = 2, padx = 5, pady = 5,)\n",
    "\n",
    "mainloop()\n"
   ]
  }
 ],
 "metadata": {
  "kernelspec": {
   "display_name": "Python 3",
   "language": "python",
   "name": "python3"
  },
  "language_info": {
   "codemirror_mode": {
    "name": "ipython",
    "version": 3
   },
   "file_extension": ".py",
   "mimetype": "text/x-python",
   "name": "python",
   "nbconvert_exporter": "python",
   "pygments_lexer": "ipython3",
   "version": "3.11.2"
  }
 },
 "nbformat": 4,
 "nbformat_minor": 2
}
