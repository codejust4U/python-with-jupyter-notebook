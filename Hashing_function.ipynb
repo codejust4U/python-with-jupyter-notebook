{
 "cells": [
  {
   "cell_type": "markdown",
   "metadata": {},
   "source": [
    "### Hashing function\n",
    "### Why hashing function?\n",
    "- Coz of decreasing the time complexity as we know linear search has linear complexity of time is O(n) \n",
    "- instead of linear if we prefer binary search, its time complexity is logarithmic i.e log(n)\n",
    "- but we prefer hashing instead of binary coz hashing searched interms of constant time complexity i.e O(1)"
   ]
  },
  {
   "cell_type": "markdown",
   "metadata": {},
   "source": [
    "### Making a dictionary like usual normal dictionary in python does but it differs as we make it by using hashing"
   ]
  },
  {
   "cell_type": "markdown",
   "metadata": {},
   "source": [
    "### keys:value -> slots:data"
   ]
  },
  {
   "cell_type": "code",
   "execution_count": 10,
   "metadata": {},
   "outputs": [],
   "source": [
    "class Dictionary:\n",
    "    def __init__(self,size):\n",
    "        self.size=size\n",
    "        self.slots = [None]*self.size\n",
    "        self.data = [None] * self.size\n",
    "\n",
    "    def put(self,key,value):\n",
    "        hash_value = self.hash_function(key)\n",
    "\n",
    "        if self.slots[hash_value]==None:\n",
    "            self.slots[hash_value]=key\n",
    "            self.data[hash_value]=value\n",
    "        else:\n",
    "            if self.slots[hash_value]==key:\n",
    "                self.data[hash_value]=value\n",
    "            else:\n",
    "                new_hash_value = self.rehash(hash_value)\n",
    "                while self.slots[new_hash_value]!=None and self.slots[new_hash_value]!=key:\n",
    "                    new_hash_value=self.rehash(new_hash_value)\n",
    "                if self.slots[new_hash_value]==None:\n",
    "                    self.slots[new_hash_value]=key\n",
    "                    self.data[new_hash_value]=value\n",
    "                else:\n",
    "                    self.data[new_hash_value]=value\n",
    "\n",
    "    def get(self,key):\n",
    "        start_pos = self.hash_function(key)\n",
    "        current_pos = start_pos\n",
    "\n",
    "        while self.slots[current_pos]!=None:\n",
    "            if self.slots[current_pos]==key:\n",
    "                return self.data[current_pos]\n",
    "            \n",
    "            current_pos=self.rehash(current_pos)\n",
    "            if current_pos==start_pos:\n",
    "                return 'Not found'\n",
    "        return 'Outer Not found'\n",
    "    \n",
    "    def __str__(self):\n",
    "        for i in range(len(self.slots)):\n",
    "            if self.slots[i]!=None:\n",
    "                print(self.slots[i],\":\",self.data[i],end=' ')\n",
    "        return \"\"\n",
    "    \n",
    "    def __getitem__(self,key):\n",
    "        return self.get(key)\n",
    "\n",
    "    def __setitem__(self,key,value):\n",
    "        self.put(key,value)\n",
    "                \n",
    "    def rehash(self,old_hash):\n",
    "        return (old_hash+1)%self.size\n",
    "    \n",
    "    def hash_function(self,key):\n",
    "        return abs(hash(key))%self.size\n",
    "    \n"
   ]
  },
  {
   "cell_type": "code",
   "execution_count": 65,
   "metadata": {},
   "outputs": [
    {
     "data": {
      "text/plain": [
       "123"
      ]
     },
     "execution_count": 65,
     "metadata": {},
     "output_type": "execute_result"
    }
   ],
   "source": [
    "hash(123)"
   ]
  },
  {
   "cell_type": "code",
   "execution_count": 66,
   "metadata": {},
   "outputs": [
    {
     "data": {
      "text/plain": [
       "0"
      ]
     },
     "execution_count": 66,
     "metadata": {},
     "output_type": "execute_result"
    }
   ],
   "source": [
    "abs(hash('hello'))%5"
   ]
  },
  {
   "cell_type": "code",
   "execution_count": 11,
   "metadata": {},
   "outputs": [],
   "source": [
    "D1 = Dictionary(3)"
   ]
  },
  {
   "cell_type": "code",
   "execution_count": 14,
   "metadata": {},
   "outputs": [
    {
     "name": "stdout",
     "output_type": "stream",
     "text": [
      "[None, 'java', 'python']\n",
      "[None, 45, 55]\n"
     ]
    }
   ],
   "source": [
    "print(D1.slots)\n",
    "print(D1.data)"
   ]
  },
  {
   "cell_type": "code",
   "execution_count": 12,
   "metadata": {},
   "outputs": [],
   "source": [
    "### we can use it same as py dict\n",
    "\n",
    "D1['java']=45\n"
   ]
  },
  {
   "cell_type": "code",
   "execution_count": 13,
   "metadata": {},
   "outputs": [],
   "source": [
    "D1['python']=55"
   ]
  },
  {
   "cell_type": "code",
   "execution_count": 17,
   "metadata": {},
   "outputs": [
    {
     "name": "stdout",
     "output_type": "stream",
     "text": [
      "java : 45 python : 55 \n"
     ]
    }
   ],
   "source": [
    "print(D1)"
   ]
  },
  {
   "cell_type": "code",
   "execution_count": 18,
   "metadata": {},
   "outputs": [
    {
     "ename": "TypeError",
     "evalue": "unhashable type: 'list'",
     "output_type": "error",
     "traceback": [
      "\u001b[1;31m---------------------------------------------------------------------------\u001b[0m",
      "\u001b[1;31mTypeError\u001b[0m                                 Traceback (most recent call last)",
      "Cell \u001b[1;32mIn[18], line 1\u001b[0m\n\u001b[1;32m----> 1\u001b[0m D1[[\u001b[39m1\u001b[39;49m,\u001b[39m2\u001b[39;49m,\u001b[39m3\u001b[39;49m]]\u001b[39m=\u001b[39m\u001b[39m'\u001b[39m\u001b[39mHello\u001b[39m\u001b[39m'\u001b[39m\n",
      "Cell \u001b[1;32mIn[10], line 49\u001b[0m, in \u001b[0;36mDictionary.__setitem__\u001b[1;34m(self, key, value)\u001b[0m\n\u001b[0;32m     48\u001b[0m \u001b[39mdef\u001b[39;00m \u001b[39m__setitem__\u001b[39m(\u001b[39mself\u001b[39m,key,value):\n\u001b[1;32m---> 49\u001b[0m     \u001b[39mself\u001b[39;49m\u001b[39m.\u001b[39;49mput(key,value)\n",
      "Cell \u001b[1;32mIn[10], line 8\u001b[0m, in \u001b[0;36mDictionary.put\u001b[1;34m(self, key, value)\u001b[0m\n\u001b[0;32m      7\u001b[0m \u001b[39mdef\u001b[39;00m \u001b[39mput\u001b[39m(\u001b[39mself\u001b[39m,key,value):\n\u001b[1;32m----> 8\u001b[0m     hash_value \u001b[39m=\u001b[39m \u001b[39mself\u001b[39;49m\u001b[39m.\u001b[39;49mhash_function(key)\n\u001b[0;32m     10\u001b[0m     \u001b[39mif\u001b[39;00m \u001b[39mself\u001b[39m\u001b[39m.\u001b[39mslots[hash_value]\u001b[39m==\u001b[39m\u001b[39mNone\u001b[39;00m:\n\u001b[0;32m     11\u001b[0m         \u001b[39mself\u001b[39m\u001b[39m.\u001b[39mslots[hash_value]\u001b[39m=\u001b[39mkey\n",
      "Cell \u001b[1;32mIn[10], line 55\u001b[0m, in \u001b[0;36mDictionary.hash_function\u001b[1;34m(self, key)\u001b[0m\n\u001b[0;32m     54\u001b[0m \u001b[39mdef\u001b[39;00m \u001b[39mhash_function\u001b[39m(\u001b[39mself\u001b[39m,key):\n\u001b[1;32m---> 55\u001b[0m     \u001b[39mreturn\u001b[39;00m \u001b[39mabs\u001b[39m(\u001b[39mhash\u001b[39;49m(key))\u001b[39m%\u001b[39m\u001b[39mself\u001b[39m\u001b[39m.\u001b[39msize\n",
      "\u001b[1;31mTypeError\u001b[0m: unhashable type: 'list'"
     ]
    }
   ],
   "source": [
    "D1[[1,2,3]]='Hello'"
   ]
  },
  {
   "cell_type": "code",
   "execution_count": 19,
   "metadata": {},
   "outputs": [
    {
     "ename": "TypeError",
     "evalue": "unhashable type: 'list'",
     "output_type": "error",
     "traceback": [
      "\u001b[1;31m---------------------------------------------------------------------------\u001b[0m",
      "\u001b[1;31mTypeError\u001b[0m                                 Traceback (most recent call last)",
      "Cell \u001b[1;32mIn[19], line 1\u001b[0m\n\u001b[1;32m----> 1\u001b[0m D1 \u001b[39m=\u001b[39m {[\u001b[39m1\u001b[39m,\u001b[39m2\u001b[39m,\u001b[39m3\u001b[39m]:\u001b[39m\"\u001b[39m\u001b[39mhey\u001b[39m\u001b[39m\"\u001b[39m}\n",
      "\u001b[1;31mTypeError\u001b[0m: unhashable type: 'list'"
     ]
    }
   ],
   "source": [
    "D1 = {[1,2,3]:\"hey\"}"
   ]
  },
  {
   "cell_type": "markdown",
   "metadata": {},
   "source": [
    "### which means our dictionary works same as python dictionary\n"
   ]
  }
 ],
 "metadata": {
  "kernelspec": {
   "display_name": "Python 3",
   "language": "python",
   "name": "python3"
  },
  "language_info": {
   "codemirror_mode": {
    "name": "ipython",
    "version": 3
   },
   "file_extension": ".py",
   "mimetype": "text/x-python",
   "name": "python",
   "nbconvert_exporter": "python",
   "pygments_lexer": "ipython3",
   "version": "3.11.2"
  },
  "orig_nbformat": 4
 },
 "nbformat": 4,
 "nbformat_minor": 2
}
