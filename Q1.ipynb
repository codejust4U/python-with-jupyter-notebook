{
 "cells": [
  {
   "attachments": {},
   "cell_type": "markdown",
   "metadata": {},
   "source": [
    "# Data Extraction"
   ]
  },
  {
   "cell_type": "code",
   "execution_count": 2,
   "metadata": {},
   "outputs": [
    {
     "name": "stdout",
     "output_type": "stream",
     "text": [
      "      User ID  Gender  Age  EstimatedSalary  Purchased\n",
      "0    15624510    Male   19            19000          0\n",
      "1    15810944    Male   35            20000          0\n",
      "2    15668575  Female   26            43000          0\n",
      "3    15603246  Female   27            57000          0\n",
      "4    15804002    Male   19            76000          0\n",
      "..        ...     ...  ...              ...        ...\n",
      "395  15691863  Female   46            41000          1\n",
      "396  15706071    Male   51            23000          1\n",
      "397  15654296  Female   50            20000          1\n",
      "398  15755018    Male   36            33000          0\n",
      "399  15594041  Female   49            36000          1\n",
      "\n",
      "[400 rows x 5 columns]\n"
     ]
    }
   ],
   "source": [
    "import pandas as pd\n",
    "\n",
    "url = 'https://raw.githubusercontent.com/codejust4U/dataset/main/User_Data.csv'\n",
    "dataset = pd.read_csv(url)\n",
    "print(dataset)"
   ]
  },
  {
   "attachments": {},
   "cell_type": "markdown",
   "metadata": {},
   "source": [
    "# KNN"
   ]
  },
  {
   "cell_type": "code",
   "execution_count": 3,
   "metadata": {},
   "outputs": [
    {
     "name": "stdout",
     "output_type": "stream",
     "text": [
      "blue\n"
     ]
    }
   ],
   "source": [
    "import numpy as np\n",
    "from collections import Counter\n",
    "\n",
    "\n",
    "points = {\n",
    "    \"blue\": [[2, 4, 3], [1, 3, 5], [2, 3, 1], [3, 2, 3], [2, 1, 6]],\n",
    "    \"red\": [[5, 6, 5], [4, 5, 2], [4, 6, 1], [6, 6, 1], [5, 4, 6]]\n",
    "}\n",
    "\n",
    "new_point = [3,3,4]\n",
    "\n",
    "\n",
    "def euclidean_distance(p, q):\n",
    "    return np.sqrt(np.sum(np.square(np.array(p) - np.array(q))))\n",
    "\n",
    "\n",
    "class KNearestNeighbours:\n",
    "    def __init__(self, k=3):\n",
    "        self.k = k\n",
    "        self.points = None\n",
    "\n",
    "    def fit(self, points):\n",
    "        self.points = points\n",
    "\n",
    "    def predict(self, new_point):\n",
    "        distances = []\n",
    "        for category in self.points:\n",
    "            for point in self.points[category]:\n",
    "                distance = euclidean_distance(point, new_point)\n",
    "                distances.append([distance, category])\n",
    "\n",
    "        distances.sort()\n",
    "        categories = [category for _, category in distances[:self.k]]\n",
    "        result = Counter(categories).most_common(1)[0][0]\n",
    "        return result\n",
    "\n",
    "\n",
    "clf = KNearestNeighbours(k=11)\n",
    "clf.fit(points)\n",
    "print(clf.predict(new_point))"
   ]
  },
  {
   "attachments": {},
   "cell_type": "markdown",
   "metadata": {},
   "source": [
    "# Linear regression"
   ]
  },
  {
   "cell_type": "code",
   "execution_count": 10,
   "metadata": {},
   "outputs": [
    {
     "data": {
      "text/plain": [
       "[<matplotlib.lines.Line2D at 0x2181cfb6f10>]"
      ]
     },
     "execution_count": 10,
     "metadata": {},
     "output_type": "execute_result"
    },
    {
     "data": {
      "image/png": "[encoded data removed]",
      "text/plain": [
       "<Figure size 640x480 with 1 Axes>"
      ]
     },
     "metadata": {},
     "output_type": "display_data"
    }
   ],
   "source": [
    "import numpy as np\n",
    "import matplotlib.pyplot as plt\n",
    "\n",
    "#no of cricket bat used in a split\n",
    "n_cricket = np.array([3,5,7,9,11,13])\n",
    "#no of balls used in a split\n",
    "n_balls = np.array([1,8,7,10,8,14])\n",
    "x1 = np.array([1,15])\n",
    "y1 = np.array([1,15])\n",
    "\n",
    "plt.scatter(n_cricket,n_balls,color='gold')\n",
    "plt.plot(x1,y1)\n"
   ]
  },
  {
   "attachments": {},
   "cell_type": "markdown",
   "metadata": {},
   "source": [
    "# minmax\n"
   ]
  },
  {
   "cell_type": "code",
   "execution_count": 18,
   "metadata": {},
   "outputs": [
    {
     "name": "stdout",
     "output_type": "stream",
     "text": [
      "The optimal value is : 12\n"
     ]
    }
   ],
   "source": [
    "import math\n",
    "# a= curdepth, b=nodeindex, c= maxturn, d= scores,e=targetdepth\n",
    "def minimax ( curDepth,nodeIndex,\n",
    "             maxTurn, scores,\n",
    "             targetDepth):\n",
    " \n",
    "    if (curDepth == targetDepth):\n",
    "        return scores[nodeIndex]\n",
    "     \n",
    "    if (maxTurn):\n",
    "        return max(minimax(curDepth + 1, nodeIndex * 2,\n",
    "                    False, scores, targetDepth),\n",
    "                   minimax(curDepth + 1, nodeIndex * 2 + 1,\n",
    "                    False, scores, targetDepth))\n",
    "     \n",
    "    else:\n",
    "        return min(minimax(curDepth + 1, nodeIndex * 2,\n",
    "                     True, scores, targetDepth),\n",
    "                   minimax(curDepth + 1, nodeIndex * 2 + 1,\n",
    "                     True, scores, targetDepth))\n",
    "scores = [3, 5, 2, 9, 12, 5, 23, 23]\n",
    " \n",
    "treeDepth = math.log(len(scores), 2)\n",
    " \n",
    "print(\"The optimal value is : \", end = \"\")\n",
    "print(minimax(0, 0, True, scores, treeDepth))"
   ]
  },
  {
   "attachments": {},
   "cell_type": "markdown",
   "metadata": {},
   "source": [
    "# svm"
   ]
  },
  {
   "cell_type": "code",
   "execution_count": 24,
   "metadata": {},
   "outputs": [
    {
     "name": "stdout",
     "output_type": "stream",
     "text": [
      "\n",
      "\n",
      "accuracy  :  0.9473684210526315\n"
     ]
    }
   ],
   "source": [
    "\n",
    "from sklearn import datasets\n",
    "from sklearn.model_selection import train_test_split\n",
    "from sklearn import svm\n",
    "from sklearn import metrics\n",
    "\n",
    "\n",
    "cancer =  datasets.load_breast_cancer()\n",
    "\n",
    "\n",
    "\n",
    "cancer.data.shape\n",
    "\n",
    "\n",
    "X_train, X_test,y_train,y_test = train_test_split(cancer.data,cancer.target,test_size=0.3,random_state=55)\n",
    "\n",
    "clf = svm.SVC(kernel='linear')\n",
    "\n",
    "clf.fit(X_train,y_train)\n",
    "\n",
    "\n",
    "y_pred = clf.predict(X_test)\n",
    "\n",
    "print(\"\\n\\naccuracy  : \",metrics.accuracy_score(y_test,y_pred))"
   ]
  }
 ],
 "metadata": {
  "kernelspec": {
   "display_name": "Python 3",
   "language": "python",
   "name": "python3"
  },
  "language_info": {
   "codemirror_mode": {
    "name": "ipython",
    "version": 3
   },
   "file_extension": ".py",
   "mimetype": "text/x-python",
   "name": "python",
   "nbconvert_exporter": "python",
   "pygments_lexer": "ipython3",
   "version": "3.11.2"
  },
  "orig_nbformat": 4
 },
 "nbformat": 4,
 "nbformat_minor": 2
}
