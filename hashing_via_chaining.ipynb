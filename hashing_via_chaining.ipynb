{
 "cells": [
  {
   "cell_type": "code",
   "execution_count": 53,
   "metadata": {},
   "outputs": [],
   "source": [
    "class Node:\n",
    "    def __init__(self, key, value):\n",
    "        self.key = key\n",
    "        self.data = value\n",
    "        self.next = None"
   ]
  },
  {
   "cell_type": "code",
   "execution_count": 54,
   "metadata": {},
   "outputs": [],
   "source": [
    "\n",
    "class LL:\n",
    "    def __init__(self):\n",
    "        self.head = None\n",
    "\n",
    "    def add(self, key, value):\n",
    "        new_node = Node(key, value)\n",
    "\n",
    "        if self.head == None:\n",
    "            self.head = new_node\n",
    "        else:\n",
    "            temp = self.head\n",
    "            while temp.next != None:\n",
    "                temp = temp.next\n",
    "            temp.next = new_node\n",
    "\n",
    "    def delete_head(self):\n",
    "        if self.head == None:\n",
    "            return \"Empty\"\n",
    "        else:\n",
    "            self.head = self.head.next\n",
    "\n",
    "    def remove(self, key):\n",
    "        if self.head.key == key:\n",
    "            self.delete_head()\n",
    "            return\n",
    "\n",
    "        if self.head == None:\n",
    "            return \"Empty\"\n",
    "        else:\n",
    "            temp = self.head\n",
    "            while temp.next != None:\n",
    "                if temp.next.key == key:\n",
    "                    break\n",
    "                temp = temp.next\n",
    "\n",
    "            if temp.next == None:\n",
    "                return \"Not Found\"\n",
    "            else:\n",
    "                temp.next = temp.next.next\n",
    "\n",
    "    def traverse(self):\n",
    "        temp = self.head\n",
    "        while temp != None:\n",
    "            print(temp.key, \"-->\", temp.data, \" \", end=\" \")\n",
    "            temp = temp.next\n",
    "\n",
    "    def size(self):\n",
    "        temp = self.head\n",
    "        counter = 0\n",
    "        while temp != None:\n",
    "            counter += 1\n",
    "            temp = temp.next\n",
    "        return counter\n",
    "\n",
    "    def search(self, key):\n",
    "        temp = self.head\n",
    "        pos = 0\n",
    "        while temp != None:\n",
    "            if temp.key == key:\n",
    "                return pos\n",
    "            temp = temp.next\n",
    "            pos += 1\n",
    "        return -1\n",
    "\n",
    "    def get_node_at_index(self, index):\n",
    "        temp = self.head\n",
    "        counter = 0\n",
    "        while temp is not None:\n",
    "            if counter == index:\n",
    "                return temp\n",
    "            temp = temp.next\n",
    "            counter += 1\n",
    "\n",
    "    \n"
   ]
  },
  {
   "cell_type": "code",
   "execution_count": 75,
   "metadata": {},
   "outputs": [],
   "source": [
    "\n",
    "class Dict:\n",
    "    def __init__(self, capacity):\n",
    "        self.capacity = capacity\n",
    "        self.size = 0\n",
    "        # array of linked list\n",
    "        self.buckets = self.make_array(self.capacity)\n",
    "\n",
    "    def make_array(self, capacity):\n",
    "        L = []\n",
    "        for i in range(capacity):\n",
    "            L.append(LL())\n",
    "        return L\n",
    "    \n",
    "    def __setitem__(self,key,value):\n",
    "        self.put(key,value)\n",
    "\n",
    "    def __getitem__(self,key):\n",
    "        return self.get(key)\n",
    "    \n",
    "    def __delitem__(self, key):\n",
    "        bucket_index = self.hash_function(key)\n",
    "        self.buckets[bucket_index].remove(key)\n",
    "\n",
    "\n",
    "    def __str__(self):\n",
    "        for i in self.buckets:\n",
    "            i.traverse()\n",
    "        return \"\"\n",
    "    \n",
    "    def __len__(self):\n",
    "        return self.size\n",
    "\n",
    "    def get(self, key):\n",
    "        bucket_index = self.hash_function(key)\n",
    "        res = self.buckets[bucket_index].search(key)\n",
    "        if res == -1:\n",
    "            return 'Not found'\n",
    "        else:\n",
    "            node = self.buckets[bucket_index].get_node_at_index(res)\n",
    "            return node.data\n",
    "\n",
    "\n",
    "    def put(self, key, value):\n",
    "        bucket_index = self.hash_function(key)\n",
    "        node_index = self.get_node_index(bucket_index, key)\n",
    "        if node_index == -1:\n",
    "            # insert\n",
    "            self.buckets[bucket_index].add(key, value)\n",
    "            self.size += 1\n",
    "            load_factor = self.size / self.capacity\n",
    "            print(load_factor)\n",
    "\n",
    "            if load_factor >= 2:\n",
    "                self.rehash()\n",
    "        else:\n",
    "            # update\n",
    "            node = self.buckets[bucket_index].get_node_at_index(node_index)\n",
    "            node.data = value\n",
    "\n",
    "    def rehash(self):\n",
    "        self.capacity = self.capacity * 2\n",
    "        old_buckets = self.buckets\n",
    "        self.size = 0\n",
    "        self.buckets = self.make_array(self.capacity)\n",
    "\n",
    "        for i in old_buckets:\n",
    "            temp = i.head\n",
    "            while temp:\n",
    "                self.put(temp.key, temp.data)\n",
    "                temp = temp.next\n",
    "\n",
    "    def get_node_index(self, bucket_index, key):\n",
    "        node_index = self.buckets[bucket_index].search(key)\n",
    "        return node_index\n",
    "\n",
    "    def hash_function(self, key):\n",
    "        return abs(hash(key)) % self.capacity\n",
    "\n"
   ]
  },
  {
   "cell_type": "markdown",
   "metadata": {},
   "source": [
    " as we can see in some adrress theres more than one , which means its time complexity is incresing from constant to order of n i.e O(n) in tha case we use the concept of tree and rehashing which will decrease the time complexity upto log(n)"
   ]
  },
  {
   "cell_type": "code",
   "execution_count": 76,
   "metadata": {},
   "outputs": [],
   "source": [
    "D1 = Dict(4)"
   ]
  },
  {
   "cell_type": "code",
   "execution_count": 77,
   "metadata": {},
   "outputs": [
    {
     "name": "stdout",
     "output_type": "stream",
     "text": [
      "0.25\n"
     ]
    }
   ],
   "source": [
    "D1.put('py',100)"
   ]
  },
  {
   "cell_type": "code",
   "execution_count": 78,
   "metadata": {},
   "outputs": [
    {
     "name": "stdout",
     "output_type": "stream",
     "text": [
      "0.5\n"
     ]
    }
   ],
   "source": [
    "D1.put('c',100)"
   ]
  },
  {
   "cell_type": "code",
   "execution_count": 79,
   "metadata": {},
   "outputs": [
    {
     "name": "stdout",
     "output_type": "stream",
     "text": [
      "0.75\n"
     ]
    }
   ],
   "source": [
    "D1.put('jav',100)"
   ]
  },
  {
   "cell_type": "code",
   "execution_count": 80,
   "metadata": {},
   "outputs": [
    {
     "name": "stdout",
     "output_type": "stream",
     "text": [
      "1.0\n"
     ]
    }
   ],
   "source": [
    "D1.put('ruby',100)"
   ]
  },
  {
   "cell_type": "code",
   "execution_count": 71,
   "metadata": {},
   "outputs": [
    {
     "name": "stdout",
     "output_type": "stream",
     "text": [
      "1.25\n"
     ]
    }
   ],
   "source": [
    "D1.put('java',500)"
   ]
  },
  {
   "cell_type": "code",
   "execution_count": 72,
   "metadata": {},
   "outputs": [
    {
     "name": "stdout",
     "output_type": "stream",
     "text": [
      "1.5\n"
     ]
    }
   ],
   "source": [
    "D1.put('c++',500)"
   ]
  },
  {
   "cell_type": "code",
   "execution_count": 81,
   "metadata": {},
   "outputs": [
    {
     "name": "stdout",
     "output_type": "stream",
     "text": [
      "py --> 100   c --> 100   jav --> 100   ruby --> 100   \n"
     ]
    }
   ],
   "source": [
    "print(D1)"
   ]
  },
  {
   "cell_type": "code",
   "execution_count": 82,
   "metadata": {},
   "outputs": [
    {
     "data": {
      "text/plain": [
       "4"
      ]
     },
     "execution_count": 82,
     "metadata": {},
     "output_type": "execute_result"
    }
   ],
   "source": [
    "len(D1)"
   ]
  }
 ],
 "metadata": {
  "kernelspec": {
   "display_name": "Python 3",
   "language": "python",
   "name": "python3"
  },
  "language_info": {
   "codemirror_mode": {
    "name": "ipython",
    "version": 3
   },
   "file_extension": ".py",
   "mimetype": "text/x-python",
   "name": "python",
   "nbconvert_exporter": "python",
   "pygments_lexer": "ipython3",
   "version": "3.11.2"
  },
  "orig_nbformat": 4
 },
 "nbformat": 4,
 "nbformat_minor": 2
}
